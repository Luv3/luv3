{
  "nbformat": 4,
  "nbformat_minor": 0,
  "metadata": {
    "colab": {
      "name": "Projeto5ipynb",
      "provenance": [],
      "authorship_tag": "ABX9TyPM3t552+76em9ybKH7iqwz",
      "include_colab_link": true
    },
    "kernelspec": {
      "name": "python3",
      "display_name": "Python 3"
    },
    "language_info": {
      "name": "python"
    }
  },
  "cells": [
    {
      "cell_type": "markdown",
      "metadata": {
        "id": "view-in-github",
        "colab_type": "text"
      },
      "source": [
        "<a href=\"https://colab.research.google.com/github/Luv3/luv3/blob/main/Projeto5ipynb.ipynb\" target=\"_parent\"><img src=\"https://colab.research.google.com/assets/colab-badge.svg\" alt=\"Open In Colab\"/></a>"
      ]
    },
    {
      "cell_type": "code",
      "metadata": {
        "id": "L3ymaJodEw_S"
      },
      "source": [
        "import pandas as pd\n",
        "import plotly.express as px\n",
        "import numpy as np"
      ],
      "execution_count": 1,
      "outputs": []
    },
    {
      "cell_type": "code",
      "metadata": {
        "colab": {
          "base_uri": "https://localhost:8080/"
        },
        "id": "0XOMLk5mFO5Y",
        "outputId": "4e5a3ab8-58d3-43b9-ee43-163cbfc3f1d1"
      },
      "source": [
        "!pip install --upgrade plotly"
      ],
      "execution_count": 2,
      "outputs": [
        {
          "output_type": "stream",
          "name": "stdout",
          "text": [
            "Requirement already satisfied: plotly in /usr/local/lib/python3.7/dist-packages (5.3.1)\n",
            "Requirement already satisfied: six in /usr/local/lib/python3.7/dist-packages (from plotly) (1.15.0)\n",
            "Requirement already satisfied: tenacity>=6.2.0 in /usr/local/lib/python3.7/dist-packages (from plotly) (8.0.1)\n"
          ]
        }
      ]
    },
    {
      "cell_type": "code",
      "metadata": {
        "id": "iEdFo3c7FTCY"
      },
      "source": [
        "conexoes = pd.read_csv('messages.csv')\n"
      ],
      "execution_count": 15,
      "outputs": []
    },
    {
      "cell_type": "code",
      "metadata": {
        "colab": {
          "base_uri": "https://localhost:8080/",
          "height": 496
        },
        "id": "qmf8spMKNngN",
        "outputId": "e4986af4-ff99-4e4f-8f5a-45cd4c5f8980"
      },
      "source": [
        "conexoes.head()"
      ],
      "execution_count": 16,
      "outputs": [
        {
          "output_type": "execute_result",
          "data": {
            "text/html": [
              "<div>\n",
              "<style scoped>\n",
              "    .dataframe tbody tr th:only-of-type {\n",
              "        vertical-align: middle;\n",
              "    }\n",
              "\n",
              "    .dataframe tbody tr th {\n",
              "        vertical-align: top;\n",
              "    }\n",
              "\n",
              "    .dataframe thead th {\n",
              "        text-align: right;\n",
              "    }\n",
              "</style>\n",
              "<table border=\"1\" class=\"dataframe\">\n",
              "  <thead>\n",
              "    <tr style=\"text-align: right;\">\n",
              "      <th></th>\n",
              "      <th>CONVERSATION ID</th>\n",
              "      <th>CONVERSATION TITLE</th>\n",
              "      <th>FROM</th>\n",
              "      <th>SENDER PROFILE URL</th>\n",
              "      <th>TO</th>\n",
              "      <th>DATE</th>\n",
              "      <th>SUBJECT</th>\n",
              "      <th>CONTENT</th>\n",
              "      <th>FOLDER</th>\n",
              "    </tr>\n",
              "  </thead>\n",
              "  <tbody>\n",
              "    <tr>\n",
              "      <th>0</th>\n",
              "      <td>2-NDEzZmVmMWYtMjFjMC00YWJjLWI0YTgtMDY5ZWEzNzg0...</td>\n",
              "      <td>Congresso de Estatística - CONE 2021/2</td>\n",
              "      <td>NaN</td>\n",
              "      <td>NaN</td>\n",
              "      <td>NaN</td>\n",
              "      <td>2021-09-08 01:13:48 UTC</td>\n",
              "      <td>NaN</td>\n",
              "      <td>Lucas Souza added Lucas Souza to the conversat...</td>\n",
              "      <td>INBOX</td>\n",
              "    </tr>\n",
              "    <tr>\n",
              "      <th>1</th>\n",
              "      <td>2-NDEzZmVmMWYtMjFjMC00YWJjLWI0YTgtMDY5ZWEzNzg0...</td>\n",
              "      <td>Congresso de Estatística - CONE 2021/2</td>\n",
              "      <td>NaN</td>\n",
              "      <td>NaN</td>\n",
              "      <td>NaN</td>\n",
              "      <td>2021-09-07 22:20:21 UTC</td>\n",
              "      <td>NaN</td>\n",
              "      <td>Antonio Pinguello left the conversation.</td>\n",
              "      <td>INBOX</td>\n",
              "    </tr>\n",
              "    <tr>\n",
              "      <th>2</th>\n",
              "      <td>2-NDEzZmVmMWYtMjFjMC00YWJjLWI0YTgtMDY5ZWEzNzg0...</td>\n",
              "      <td>Congresso de Estatística - CONE 2021/2</td>\n",
              "      <td>Frederico Soares</td>\n",
              "      <td>https://www.linkedin.com/in/frederico-soares-5...</td>\n",
              "      <td>Patrícia Pinheiro Freitas,Tiago Lugatto,Julian...</td>\n",
              "      <td>2021-09-07 09:31:57 UTC</td>\n",
              "      <td>NaN</td>\n",
              "      <td>Bom dia Francisco, 🤝</td>\n",
              "      <td>INBOX</td>\n",
              "    </tr>\n",
              "    <tr>\n",
              "      <th>3</th>\n",
              "      <td>2-NDEzZmVmMWYtMjFjMC00YWJjLWI0YTgtMDY5ZWEzNzg0...</td>\n",
              "      <td>Congresso de Estatística - CONE 2021/2</td>\n",
              "      <td>Francisco  Augusto Macumo</td>\n",
              "      <td>https://www.linkedin.com/in/francisco-augusto-...</td>\n",
              "      <td>Patrícia Pinheiro Freitas,Tiago Lugatto,Julian...</td>\n",
              "      <td>2021-09-07 09:30:55 UTC</td>\n",
              "      <td>NaN</td>\n",
              "      <td>Valeu, Frederico</td>\n",
              "      <td>INBOX</td>\n",
              "    </tr>\n",
              "    <tr>\n",
              "      <th>4</th>\n",
              "      <td>2-NDEzZmVmMWYtMjFjMC00YWJjLWI0YTgtMDY5ZWEzNzg0...</td>\n",
              "      <td>Congresso de Estatística - CONE 2021/2</td>\n",
              "      <td>Frederico Soares</td>\n",
              "      <td>https://www.linkedin.com/in/frederico-soares-5...</td>\n",
              "      <td>Patrícia Pinheiro Freitas,Tiago Lugatto,Julian...</td>\n",
              "      <td>2021-09-07 09:24:14 UTC</td>\n",
              "      <td>NaN</td>\n",
              "      <td>👍</td>\n",
              "      <td>INBOX</td>\n",
              "    </tr>\n",
              "  </tbody>\n",
              "</table>\n",
              "</div>"
            ],
            "text/plain": [
              "                                     CONVERSATION ID  ... FOLDER\n",
              "0  2-NDEzZmVmMWYtMjFjMC00YWJjLWI0YTgtMDY5ZWEzNzg0...  ...  INBOX\n",
              "1  2-NDEzZmVmMWYtMjFjMC00YWJjLWI0YTgtMDY5ZWEzNzg0...  ...  INBOX\n",
              "2  2-NDEzZmVmMWYtMjFjMC00YWJjLWI0YTgtMDY5ZWEzNzg0...  ...  INBOX\n",
              "3  2-NDEzZmVmMWYtMjFjMC00YWJjLWI0YTgtMDY5ZWEzNzg0...  ...  INBOX\n",
              "4  2-NDEzZmVmMWYtMjFjMC00YWJjLWI0YTgtMDY5ZWEzNzg0...  ...  INBOX\n",
              "\n",
              "[5 rows x 9 columns]"
            ]
          },
          "metadata": {},
          "execution_count": 16
        }
      ]
    },
    {
      "cell_type": "code",
      "metadata": {
        "id": "uTyh0IWfN5sc"
      },
      "source": [
        ""
      ],
      "execution_count": null,
      "outputs": []
    }
  ]
}
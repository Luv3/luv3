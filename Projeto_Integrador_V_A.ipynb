{
  "nbformat": 4,
  "nbformat_minor": 0,
  "metadata": {
    "colab": {
      "name": "Projeto_Integrador_V_A.ipynb",
      "provenance": [],
      "collapsed_sections": [
        "4cKY27ZVq7TP"
      ],
      "authorship_tag": "ABX9TyO3sBNMivj240Qj1T/3zqhn",
      "include_colab_link": true
    },
    "kernelspec": {
      "name": "python3",
      "display_name": "Python 3"
    },
    "language_info": {
      "name": "python"
    }
  },
  "cells": [
    {
      "cell_type": "markdown",
      "metadata": {
        "id": "view-in-github",
        "colab_type": "text"
      },
      "source": [
        "<a href=\"https://colab.research.google.com/github/Luv3/luv3/blob/main/Projeto_Integrador_V_A.ipynb\" target=\"_parent\"><img src=\"https://colab.research.google.com/assets/colab-badge.svg\" alt=\"Open In Colab\"/></a>"
      ]
    },
    {
      "cell_type": "markdown",
      "metadata": {
        "id": "4cKY27ZVq7TP"
      },
      "source": [
        "# **Projeto Integrador V-A**\n",
        "\n",
        "Lucas Verileudo de Souza\n",
        "\n"
      ]
    },
    {
      "cell_type": "markdown",
      "metadata": {
        "id": "s4JPtSUYrFoJ"
      },
      "source": [
        "O trabalho abaixo tratará informações coletadas no LinkedIn com objetivo de fornecer insights sobre nossas redes."
      ]
    },
    {
      "cell_type": "markdown",
      "metadata": {
        "id": "hTjsxwKksizx"
      },
      "source": [
        ""
      ]
    },
    {
      "cell_type": "markdown",
      "metadata": {
        "id": "MZj6PwEDpASI"
      },
      "source": [
        "# Base de dados em .csv"
      ]
    },
    {
      "cell_type": "code",
      "metadata": {
        "id": "s0xNYyWmrVVq"
      },
      "source": [
        "#Importanto as bibliotecas que serão utilizadas na tratativa dos dados\n",
        "import pandas as pd\n",
        "import plotly.express as px\n",
        "import numpy as np"
      ],
      "execution_count": null,
      "outputs": []
    },
    {
      "cell_type": "code",
      "metadata": {
        "colab": {
          "base_uri": "https://localhost:8080/"
        },
        "id": "cj3YZ5QArtzL",
        "outputId": "9d4cc2cb-0092-4653-82d5-1125a5f3a053"
      },
      "source": [
        "# Atualização da biblioteca Plotly para que não tenhamos erro na geração de determinados gráficos\n",
        "# Realiza a desinstalação da versão atual do Google Colab e instala a nova versão\n",
        "!pip install --upgrade plotly"
      ],
      "execution_count": null,
      "outputs": [
        {
          "output_type": "stream",
          "name": "stdout",
          "text": [
            "Requirement already satisfied: plotly in /usr/local/lib/python3.7/dist-packages (5.3.1)\n",
            "Requirement already satisfied: tenacity>=6.2.0 in /usr/local/lib/python3.7/dist-packages (from plotly) (8.0.1)\n",
            "Requirement already satisfied: six in /usr/local/lib/python3.7/dist-packages (from plotly) (1.15.0)\n"
          ]
        }
      ]
    },
    {
      "cell_type": "markdown",
      "metadata": {
        "id": "1ndUVYjXrMfU"
      },
      "source": [
        "### Conexoes"
      ]
    },
    {
      "cell_type": "markdown",
      "metadata": {
        "id": "hwHEnNGpxSHd"
      },
      "source": [
        "Tratamento da base de dados Conexões.\n",
        "\n",
        "Removendo dados nulos, criando a coluna Full Name\n",
        "\n",
        "Validando dados das conexões"
      ]
    },
    {
      "cell_type": "code",
      "metadata": {
        "id": "BI79iqj9sr6f"
      },
      "source": [
        "# Criando uma variável para receber o arquivo Connections.csv\n",
        "# Arquivos está armazenado no Google Colab\n",
        "conexoes = pd.read_csv('Connections.csv')"
      ],
      "execution_count": null,
      "outputs": []
    },
    {
      "cell_type": "code",
      "metadata": {
        "colab": {
          "base_uri": "https://localhost:8080/"
        },
        "id": "um13BWqzsr4f",
        "outputId": "e14d0dc3-ccdc-43d2-b29e-88785b4b2e28"
      },
      "source": [
        "# Apresentando as colunasexistentes na variavel criada com base no Connections.csv\n",
        "conexoes.columns"
      ],
      "execution_count": null,
      "outputs": [
        {
          "output_type": "execute_result",
          "data": {
            "text/plain": [
              "Index(['First Name', 'Last Name', 'Email Address', 'Company', 'Position',\n",
              "       'Connected On'],\n",
              "      dtype='object')"
            ]
          },
          "metadata": {},
          "execution_count": 7
        }
      ]
    },
    {
      "cell_type": "code",
      "metadata": {
        "colab": {
          "base_uri": "https://localhost:8080/",
          "height": 292
        },
        "id": "cNuHJ-Gzt8UW",
        "outputId": "7860b9e9-f3db-4bfb-a85d-d1e12527d2e3"
      },
      "source": [
        "# Apresentando as primeiras 5 colunas da variavel Conexoes\n",
        "conexoes.head()"
      ],
      "execution_count": null,
      "outputs": [
        {
          "output_type": "execute_result",
          "data": {
            "text/html": [
              "<div>\n",
              "<style scoped>\n",
              "    .dataframe tbody tr th:only-of-type {\n",
              "        vertical-align: middle;\n",
              "    }\n",
              "\n",
              "    .dataframe tbody tr th {\n",
              "        vertical-align: top;\n",
              "    }\n",
              "\n",
              "    .dataframe thead th {\n",
              "        text-align: right;\n",
              "    }\n",
              "</style>\n",
              "<table border=\"1\" class=\"dataframe\">\n",
              "  <thead>\n",
              "    <tr style=\"text-align: right;\">\n",
              "      <th></th>\n",
              "      <th>First Name</th>\n",
              "      <th>Last Name</th>\n",
              "      <th>Email Address</th>\n",
              "      <th>Company</th>\n",
              "      <th>Position</th>\n",
              "      <th>Connected On</th>\n",
              "    </tr>\n",
              "  </thead>\n",
              "  <tbody>\n",
              "    <tr>\n",
              "      <th>0</th>\n",
              "      <td>Locbreak</td>\n",
              "      <td>Energia Sustentável</td>\n",
              "      <td>NaN</td>\n",
              "      <td>Locbreak</td>\n",
              "      <td>empresa de energia</td>\n",
              "      <td>13 Sep 2021</td>\n",
              "    </tr>\n",
              "    <tr>\n",
              "      <th>1</th>\n",
              "      <td>Gustavo</td>\n",
              "      <td>Gontijo</td>\n",
              "      <td>NaN</td>\n",
              "      <td>Offerwise</td>\n",
              "      <td>Head Of Business Intelligence and Statistic Team</td>\n",
              "      <td>13 Sep 2021</td>\n",
              "    </tr>\n",
              "    <tr>\n",
              "      <th>2</th>\n",
              "      <td>Renata</td>\n",
              "      <td>Duarte</td>\n",
              "      <td>NaN</td>\n",
              "      <td>Íris | Laboratório de Inovação e Dados</td>\n",
              "      <td>Gestora de Projetos</td>\n",
              "      <td>13 Sep 2021</td>\n",
              "    </tr>\n",
              "    <tr>\n",
              "      <th>3</th>\n",
              "      <td>Michael Henrique</td>\n",
              "      <td>Souza Ferreira</td>\n",
              "      <td>NaN</td>\n",
              "      <td>GR8 Sistemas e Tecnologia</td>\n",
              "      <td>Programador</td>\n",
              "      <td>12 Sep 2021</td>\n",
              "    </tr>\n",
              "    <tr>\n",
              "      <th>4</th>\n",
              "      <td>Paulo</td>\n",
              "      <td>Benatti Alves</td>\n",
              "      <td>NaN</td>\n",
              "      <td>Mercado Livre</td>\n",
              "      <td>Data Scientist</td>\n",
              "      <td>11 Sep 2021</td>\n",
              "    </tr>\n",
              "  </tbody>\n",
              "</table>\n",
              "</div>"
            ],
            "text/plain": [
              "         First Name  ... Connected On\n",
              "0          Locbreak  ...  13 Sep 2021\n",
              "1           Gustavo  ...  13 Sep 2021\n",
              "2            Renata  ...  13 Sep 2021\n",
              "3  Michael Henrique  ...  12 Sep 2021\n",
              "4             Paulo  ...  11 Sep 2021\n",
              "\n",
              "[5 rows x 6 columns]"
            ]
          },
          "metadata": {},
          "execution_count": 8
        }
      ]
    },
    {
      "cell_type": "code",
      "metadata": {
        "colab": {
          "base_uri": "https://localhost:8080/"
        },
        "id": "OAtEWi4XuGA0",
        "outputId": "70a79e66-95d4-442a-d770-298576e5488c"
      },
      "source": [
        "# Visualizando a quantidade de conexões no LinkedIn\n",
        "conexoes.shape"
      ],
      "execution_count": null,
      "outputs": [
        {
          "output_type": "execute_result",
          "data": {
            "text/plain": [
              "(232, 6)"
            ]
          },
          "metadata": {},
          "execution_count": 9
        }
      ]
    },
    {
      "cell_type": "code",
      "metadata": {
        "id": "R6VQbzZnuSRr"
      },
      "source": [
        "# Apagar a coluna de e-mail, pois, como observado acima, a coluna não possui informações\n",
        "conexoes.drop(labels = ['Email Address'], axis=1, inplace=True)"
      ],
      "execution_count": null,
      "outputs": []
    },
    {
      "cell_type": "code",
      "metadata": {
        "colab": {
          "base_uri": "https://localhost:8080/",
          "height": 292
        },
        "id": "hgpWCsJVvDCS",
        "outputId": "36559c2d-017e-42fe-b7c7-9184b26d0f55"
      },
      "source": [
        "# Apresentando as primeiras 5 colunas da variavel Conexoes.\n",
        "# Verificando que a coluna Email Address foi excluida\n",
        "conexoes.head()"
      ],
      "execution_count": null,
      "outputs": [
        {
          "output_type": "execute_result",
          "data": {
            "text/html": [
              "<div>\n",
              "<style scoped>\n",
              "    .dataframe tbody tr th:only-of-type {\n",
              "        vertical-align: middle;\n",
              "    }\n",
              "\n",
              "    .dataframe tbody tr th {\n",
              "        vertical-align: top;\n",
              "    }\n",
              "\n",
              "    .dataframe thead th {\n",
              "        text-align: right;\n",
              "    }\n",
              "</style>\n",
              "<table border=\"1\" class=\"dataframe\">\n",
              "  <thead>\n",
              "    <tr style=\"text-align: right;\">\n",
              "      <th></th>\n",
              "      <th>First Name</th>\n",
              "      <th>Last Name</th>\n",
              "      <th>Company</th>\n",
              "      <th>Position</th>\n",
              "      <th>Connected On</th>\n",
              "    </tr>\n",
              "  </thead>\n",
              "  <tbody>\n",
              "    <tr>\n",
              "      <th>0</th>\n",
              "      <td>Locbreak</td>\n",
              "      <td>Energia Sustentável</td>\n",
              "      <td>Locbreak</td>\n",
              "      <td>empresa de energia</td>\n",
              "      <td>13 Sep 2021</td>\n",
              "    </tr>\n",
              "    <tr>\n",
              "      <th>1</th>\n",
              "      <td>Gustavo</td>\n",
              "      <td>Gontijo</td>\n",
              "      <td>Offerwise</td>\n",
              "      <td>Head Of Business Intelligence and Statistic Team</td>\n",
              "      <td>13 Sep 2021</td>\n",
              "    </tr>\n",
              "    <tr>\n",
              "      <th>2</th>\n",
              "      <td>Renata</td>\n",
              "      <td>Duarte</td>\n",
              "      <td>Íris | Laboratório de Inovação e Dados</td>\n",
              "      <td>Gestora de Projetos</td>\n",
              "      <td>13 Sep 2021</td>\n",
              "    </tr>\n",
              "    <tr>\n",
              "      <th>3</th>\n",
              "      <td>Michael Henrique</td>\n",
              "      <td>Souza Ferreira</td>\n",
              "      <td>GR8 Sistemas e Tecnologia</td>\n",
              "      <td>Programador</td>\n",
              "      <td>12 Sep 2021</td>\n",
              "    </tr>\n",
              "    <tr>\n",
              "      <th>4</th>\n",
              "      <td>Paulo</td>\n",
              "      <td>Benatti Alves</td>\n",
              "      <td>Mercado Livre</td>\n",
              "      <td>Data Scientist</td>\n",
              "      <td>11 Sep 2021</td>\n",
              "    </tr>\n",
              "  </tbody>\n",
              "</table>\n",
              "</div>"
            ],
            "text/plain": [
              "         First Name  ... Connected On\n",
              "0          Locbreak  ...  13 Sep 2021\n",
              "1           Gustavo  ...  13 Sep 2021\n",
              "2            Renata  ...  13 Sep 2021\n",
              "3  Michael Henrique  ...  12 Sep 2021\n",
              "4             Paulo  ...  11 Sep 2021\n",
              "\n",
              "[5 rows x 5 columns]"
            ]
          },
          "metadata": {},
          "execution_count": 12
        }
      ]
    },
    {
      "cell_type": "code",
      "metadata": {
        "colab": {
          "base_uri": "https://localhost:8080/",
          "height": 422
        },
        "id": "jdSqVinDvE8r",
        "outputId": "9d193085-e586-4bd6-f8b4-9f28b0c4f4d6"
      },
      "source": [
        "# Verificando se possui dados nulos\n",
        "conexoes.isna()"
      ],
      "execution_count": null,
      "outputs": [
        {
          "output_type": "execute_result",
          "data": {
            "text/html": [
              "<div>\n",
              "<style scoped>\n",
              "    .dataframe tbody tr th:only-of-type {\n",
              "        vertical-align: middle;\n",
              "    }\n",
              "\n",
              "    .dataframe tbody tr th {\n",
              "        vertical-align: top;\n",
              "    }\n",
              "\n",
              "    .dataframe thead th {\n",
              "        text-align: right;\n",
              "    }\n",
              "</style>\n",
              "<table border=\"1\" class=\"dataframe\">\n",
              "  <thead>\n",
              "    <tr style=\"text-align: right;\">\n",
              "      <th></th>\n",
              "      <th>First Name</th>\n",
              "      <th>Last Name</th>\n",
              "      <th>Company</th>\n",
              "      <th>Position</th>\n",
              "      <th>Connected On</th>\n",
              "    </tr>\n",
              "  </thead>\n",
              "  <tbody>\n",
              "    <tr>\n",
              "      <th>0</th>\n",
              "      <td>False</td>\n",
              "      <td>False</td>\n",
              "      <td>False</td>\n",
              "      <td>False</td>\n",
              "      <td>False</td>\n",
              "    </tr>\n",
              "    <tr>\n",
              "      <th>1</th>\n",
              "      <td>False</td>\n",
              "      <td>False</td>\n",
              "      <td>False</td>\n",
              "      <td>False</td>\n",
              "      <td>False</td>\n",
              "    </tr>\n",
              "    <tr>\n",
              "      <th>2</th>\n",
              "      <td>False</td>\n",
              "      <td>False</td>\n",
              "      <td>False</td>\n",
              "      <td>False</td>\n",
              "      <td>False</td>\n",
              "    </tr>\n",
              "    <tr>\n",
              "      <th>3</th>\n",
              "      <td>False</td>\n",
              "      <td>False</td>\n",
              "      <td>False</td>\n",
              "      <td>False</td>\n",
              "      <td>False</td>\n",
              "    </tr>\n",
              "    <tr>\n",
              "      <th>4</th>\n",
              "      <td>False</td>\n",
              "      <td>False</td>\n",
              "      <td>False</td>\n",
              "      <td>False</td>\n",
              "      <td>False</td>\n",
              "    </tr>\n",
              "    <tr>\n",
              "      <th>...</th>\n",
              "      <td>...</td>\n",
              "      <td>...</td>\n",
              "      <td>...</td>\n",
              "      <td>...</td>\n",
              "      <td>...</td>\n",
              "    </tr>\n",
              "    <tr>\n",
              "      <th>227</th>\n",
              "      <td>False</td>\n",
              "      <td>False</td>\n",
              "      <td>False</td>\n",
              "      <td>False</td>\n",
              "      <td>False</td>\n",
              "    </tr>\n",
              "    <tr>\n",
              "      <th>228</th>\n",
              "      <td>False</td>\n",
              "      <td>False</td>\n",
              "      <td>False</td>\n",
              "      <td>False</td>\n",
              "      <td>False</td>\n",
              "    </tr>\n",
              "    <tr>\n",
              "      <th>229</th>\n",
              "      <td>False</td>\n",
              "      <td>False</td>\n",
              "      <td>False</td>\n",
              "      <td>False</td>\n",
              "      <td>False</td>\n",
              "    </tr>\n",
              "    <tr>\n",
              "      <th>230</th>\n",
              "      <td>False</td>\n",
              "      <td>False</td>\n",
              "      <td>False</td>\n",
              "      <td>False</td>\n",
              "      <td>False</td>\n",
              "    </tr>\n",
              "    <tr>\n",
              "      <th>231</th>\n",
              "      <td>False</td>\n",
              "      <td>False</td>\n",
              "      <td>False</td>\n",
              "      <td>False</td>\n",
              "      <td>False</td>\n",
              "    </tr>\n",
              "  </tbody>\n",
              "</table>\n",
              "<p>232 rows × 5 columns</p>\n",
              "</div>"
            ],
            "text/plain": [
              "     First Name  Last Name  Company  Position  Connected On\n",
              "0         False      False    False     False         False\n",
              "1         False      False    False     False         False\n",
              "2         False      False    False     False         False\n",
              "3         False      False    False     False         False\n",
              "4         False      False    False     False         False\n",
              "..          ...        ...      ...       ...           ...\n",
              "227       False      False    False     False         False\n",
              "228       False      False    False     False         False\n",
              "229       False      False    False     False         False\n",
              "230       False      False    False     False         False\n",
              "231       False      False    False     False         False\n",
              "\n",
              "[232 rows x 5 columns]"
            ]
          },
          "metadata": {},
          "execution_count": 13
        }
      ]
    },
    {
      "cell_type": "code",
      "metadata": {
        "colab": {
          "base_uri": "https://localhost:8080/"
        },
        "id": "vWmNxH8MvbQJ",
        "outputId": "f97b50c7-e0fe-45ae-8ac3-b3e112a3f506"
      },
      "source": [
        "# Verificando somatoria de dados nulos por coluna\n",
        "conexoes.isna().sum()"
      ],
      "execution_count": null,
      "outputs": [
        {
          "output_type": "execute_result",
          "data": {
            "text/plain": [
              "First Name      1\n",
              "Last Name       4\n",
              "Company         9\n",
              "Position        9\n",
              "Connected On    3\n",
              "dtype: int64"
            ]
          },
          "metadata": {},
          "execution_count": 14
        }
      ]
    },
    {
      "cell_type": "code",
      "metadata": {
        "colab": {
          "base_uri": "https://localhost:8080/"
        },
        "id": "z7xxM2wivvGM",
        "outputId": "fa445e11-b7dd-4137-dd91-b7deea1647d4"
      },
      "source": [
        "# Verificando a quantidade de conexões\n",
        "conexoes.shape"
      ],
      "execution_count": null,
      "outputs": [
        {
          "output_type": "execute_result",
          "data": {
            "text/plain": [
              "(232, 5)"
            ]
          },
          "metadata": {},
          "execution_count": 16
        }
      ]
    },
    {
      "cell_type": "code",
      "metadata": {
        "id": "NUTapCeSv0r1"
      },
      "source": [
        "# Apagando os registros nulos\n",
        "conexoes.dropna(inplace=True)"
      ],
      "execution_count": null,
      "outputs": []
    },
    {
      "cell_type": "code",
      "metadata": {
        "colab": {
          "base_uri": "https://localhost:8080/"
        },
        "id": "btxyTywCwBqp",
        "outputId": "af5eeafa-47db-4855-878e-9baa55490c06"
      },
      "source": [
        "# Verificando a quantidade de conexões após excluir os valores nulos\n",
        "conexoes.shape"
      ],
      "execution_count": null,
      "outputs": [
        {
          "output_type": "execute_result",
          "data": {
            "text/plain": [
              "(223, 5)"
            ]
          },
          "metadata": {},
          "execution_count": 18
        }
      ]
    },
    {
      "cell_type": "code",
      "metadata": {
        "colab": {
          "base_uri": "https://localhost:8080/"
        },
        "id": "bWd_o92KwG5d",
        "outputId": "369ad72d-0089-4c0f-f6cc-b535f900484e"
      },
      "source": [
        "# Verificando somatoria de dados nulos por coluna\n",
        "conexoes.isna().sum()"
      ],
      "execution_count": null,
      "outputs": [
        {
          "output_type": "execute_result",
          "data": {
            "text/plain": [
              "First Name      0\n",
              "Last Name       0\n",
              "Company         0\n",
              "Position        0\n",
              "Connected On    0\n",
              "dtype: int64"
            ]
          },
          "metadata": {},
          "execution_count": 19
        }
      ]
    },
    {
      "cell_type": "code",
      "metadata": {
        "id": "rXJ44JEzwMfs"
      },
      "source": [
        "# Criando uma nova coluna para nome completo\n",
        "# Unindo os atributos de nomes: Firts Name e Last Name para que possamos utilizar o nome completo\n",
        "conexoes['Full Name'] = conexoes['First Name'] + ' ' + conexoes['Last Name']"
      ],
      "execution_count": null,
      "outputs": []
    },
    {
      "cell_type": "code",
      "metadata": {
        "colab": {
          "base_uri": "https://localhost:8080/",
          "height": 292
        },
        "id": "7_GlJKKqw1s-",
        "outputId": "09e7b34e-3a91-4497-ad69-7cd2c08aafd9"
      },
      "source": [
        "# Visualizando os primeiros Registros\n",
        "conexoes.head()"
      ],
      "execution_count": null,
      "outputs": [
        {
          "output_type": "execute_result",
          "data": {
            "text/html": [
              "<div>\n",
              "<style scoped>\n",
              "    .dataframe tbody tr th:only-of-type {\n",
              "        vertical-align: middle;\n",
              "    }\n",
              "\n",
              "    .dataframe tbody tr th {\n",
              "        vertical-align: top;\n",
              "    }\n",
              "\n",
              "    .dataframe thead th {\n",
              "        text-align: right;\n",
              "    }\n",
              "</style>\n",
              "<table border=\"1\" class=\"dataframe\">\n",
              "  <thead>\n",
              "    <tr style=\"text-align: right;\">\n",
              "      <th></th>\n",
              "      <th>First Name</th>\n",
              "      <th>Last Name</th>\n",
              "      <th>Company</th>\n",
              "      <th>Position</th>\n",
              "      <th>Connected On</th>\n",
              "      <th>Full Name</th>\n",
              "    </tr>\n",
              "  </thead>\n",
              "  <tbody>\n",
              "    <tr>\n",
              "      <th>0</th>\n",
              "      <td>Locbreak</td>\n",
              "      <td>Energia Sustentável</td>\n",
              "      <td>Locbreak</td>\n",
              "      <td>empresa de energia</td>\n",
              "      <td>13 Sep 2021</td>\n",
              "      <td>Locbreak Energia Sustentável</td>\n",
              "    </tr>\n",
              "    <tr>\n",
              "      <th>1</th>\n",
              "      <td>Gustavo</td>\n",
              "      <td>Gontijo</td>\n",
              "      <td>Offerwise</td>\n",
              "      <td>Head Of Business Intelligence and Statistic Team</td>\n",
              "      <td>13 Sep 2021</td>\n",
              "      <td>Gustavo Gontijo</td>\n",
              "    </tr>\n",
              "    <tr>\n",
              "      <th>2</th>\n",
              "      <td>Renata</td>\n",
              "      <td>Duarte</td>\n",
              "      <td>Íris | Laboratório de Inovação e Dados</td>\n",
              "      <td>Gestora de Projetos</td>\n",
              "      <td>13 Sep 2021</td>\n",
              "      <td>Renata Duarte</td>\n",
              "    </tr>\n",
              "    <tr>\n",
              "      <th>3</th>\n",
              "      <td>Michael Henrique</td>\n",
              "      <td>Souza Ferreira</td>\n",
              "      <td>GR8 Sistemas e Tecnologia</td>\n",
              "      <td>Programador</td>\n",
              "      <td>12 Sep 2021</td>\n",
              "      <td>Michael Henrique Souza Ferreira</td>\n",
              "    </tr>\n",
              "    <tr>\n",
              "      <th>4</th>\n",
              "      <td>Paulo</td>\n",
              "      <td>Benatti Alves</td>\n",
              "      <td>Mercado Livre</td>\n",
              "      <td>Data Scientist</td>\n",
              "      <td>11 Sep 2021</td>\n",
              "      <td>Paulo Benatti Alves</td>\n",
              "    </tr>\n",
              "  </tbody>\n",
              "</table>\n",
              "</div>"
            ],
            "text/plain": [
              "         First Name  ...                        Full Name\n",
              "0          Locbreak  ...     Locbreak Energia Sustentável\n",
              "1           Gustavo  ...                  Gustavo Gontijo\n",
              "2            Renata  ...                    Renata Duarte\n",
              "3  Michael Henrique  ...  Michael Henrique Souza Ferreira\n",
              "4             Paulo  ...              Paulo Benatti Alves\n",
              "\n",
              "[5 rows x 6 columns]"
            ]
          },
          "metadata": {},
          "execution_count": 21
        }
      ]
    },
    {
      "cell_type": "code",
      "metadata": {
        "id": "k2gJEbfhw7GW"
      },
      "source": [
        ""
      ],
      "execution_count": null,
      "outputs": []
    },
    {
      "cell_type": "markdown",
      "metadata": {
        "id": "D65Mljg8xGSA"
      },
      "source": [
        "### Convites"
      ]
    },
    {
      "cell_type": "markdown",
      "metadata": {
        "id": "vu_4jxrj3e2L"
      },
      "source": [
        "Tratando a base de dados de convites.\n",
        "\n",
        "Verificando existenca de valores nulos\n",
        "\n",
        "Armazenando somente os convites recebidos"
      ]
    },
    {
      "cell_type": "code",
      "metadata": {
        "id": "cfqAhCT-xMsq"
      },
      "source": [
        "# Criando uma variável para receber o arquivo Invitations.csv\n",
        "# Arquivos está armazenado no Google Colab\n",
        "convites = pd.read_csv('Invitations.csv')"
      ],
      "execution_count": null,
      "outputs": []
    },
    {
      "cell_type": "code",
      "metadata": {
        "colab": {
          "base_uri": "https://localhost:8080/"
        },
        "id": "zNvoRP6_yW5C",
        "outputId": "5a459869-45d1-409c-8ba2-a97f9d68c626"
      },
      "source": [
        "# Apresentando as colunas existentes na variavel criada com base no Invitations.csv\n",
        "convites.columns"
      ],
      "execution_count": null,
      "outputs": [
        {
          "output_type": "execute_result",
          "data": {
            "text/plain": [
              "Index(['From', 'To', 'Sent At', 'Message', 'Direction'], dtype='object')"
            ]
          },
          "metadata": {},
          "execution_count": 23
        }
      ]
    },
    {
      "cell_type": "code",
      "metadata": {
        "colab": {
          "base_uri": "https://localhost:8080/",
          "height": 205
        },
        "id": "guCXXs5MybLI",
        "outputId": "580d4702-2ff7-4dc7-b2d4-90ae9d9589f2"
      },
      "source": [
        "# Apresentando as primeiras 5 colunas da variavel Convites\n",
        "convites.head()"
      ],
      "execution_count": null,
      "outputs": [
        {
          "output_type": "execute_result",
          "data": {
            "text/html": [
              "<div>\n",
              "<style scoped>\n",
              "    .dataframe tbody tr th:only-of-type {\n",
              "        vertical-align: middle;\n",
              "    }\n",
              "\n",
              "    .dataframe tbody tr th {\n",
              "        vertical-align: top;\n",
              "    }\n",
              "\n",
              "    .dataframe thead th {\n",
              "        text-align: right;\n",
              "    }\n",
              "</style>\n",
              "<table border=\"1\" class=\"dataframe\">\n",
              "  <thead>\n",
              "    <tr style=\"text-align: right;\">\n",
              "      <th></th>\n",
              "      <th>From</th>\n",
              "      <th>To</th>\n",
              "      <th>Sent At</th>\n",
              "      <th>Message</th>\n",
              "      <th>Direction</th>\n",
              "    </tr>\n",
              "  </thead>\n",
              "  <tbody>\n",
              "    <tr>\n",
              "      <th>0</th>\n",
              "      <td>Lucas Souza</td>\n",
              "      <td>Cíntia Soares Rodrigues dos Santos</td>\n",
              "      <td>9/13/21, 7:26 AM</td>\n",
              "      <td>NaN</td>\n",
              "      <td>OUTGOING</td>\n",
              "    </tr>\n",
              "    <tr>\n",
              "      <th>1</th>\n",
              "      <td>Lucas Souza</td>\n",
              "      <td>André Sionek</td>\n",
              "      <td>9/13/21, 7:24 AM</td>\n",
              "      <td>NaN</td>\n",
              "      <td>OUTGOING</td>\n",
              "    </tr>\n",
              "    <tr>\n",
              "      <th>2</th>\n",
              "      <td>Lucas Souza</td>\n",
              "      <td>Guilherme Resende Oliveira</td>\n",
              "      <td>9/13/21, 7:08 AM</td>\n",
              "      <td>NaN</td>\n",
              "      <td>OUTGOING</td>\n",
              "    </tr>\n",
              "    <tr>\n",
              "      <th>3</th>\n",
              "      <td>Lucas Souza</td>\n",
              "      <td>Alexandra Russi</td>\n",
              "      <td>9/13/21, 5:10 AM</td>\n",
              "      <td>NaN</td>\n",
              "      <td>OUTGOING</td>\n",
              "    </tr>\n",
              "    <tr>\n",
              "      <th>4</th>\n",
              "      <td>Lucas Souza</td>\n",
              "      <td>Renata Duarte</td>\n",
              "      <td>9/12/21, 5:56 PM</td>\n",
              "      <td>NaN</td>\n",
              "      <td>OUTGOING</td>\n",
              "    </tr>\n",
              "  </tbody>\n",
              "</table>\n",
              "</div>"
            ],
            "text/plain": [
              "          From                                  To  ... Message Direction\n",
              "0  Lucas Souza  Cíntia Soares Rodrigues dos Santos  ...     NaN  OUTGOING\n",
              "1  Lucas Souza                        André Sionek  ...     NaN  OUTGOING\n",
              "2  Lucas Souza          Guilherme Resende Oliveira  ...     NaN  OUTGOING\n",
              "3  Lucas Souza                     Alexandra Russi  ...     NaN  OUTGOING\n",
              "4  Lucas Souza                       Renata Duarte  ...     NaN  OUTGOING\n",
              "\n",
              "[5 rows x 5 columns]"
            ]
          },
          "metadata": {},
          "execution_count": 24
        }
      ]
    },
    {
      "cell_type": "code",
      "metadata": {
        "colab": {
          "base_uri": "https://localhost:8080/"
        },
        "id": "IMu14aEsyiX4",
        "outputId": "128d810b-a616-4c55-b204-36dbea622ca0"
      },
      "source": [
        "# Visualizando a quantidade de convites no LinkedIn\n",
        "convites.shape"
      ],
      "execution_count": null,
      "outputs": [
        {
          "output_type": "execute_result",
          "data": {
            "text/plain": [
              "(99, 5)"
            ]
          },
          "metadata": {},
          "execution_count": 27
        }
      ]
    },
    {
      "cell_type": "code",
      "metadata": {
        "colab": {
          "base_uri": "https://localhost:8080/"
        },
        "id": "lXEEEd19yoNJ",
        "outputId": "216b9ff4-c39d-4790-ba59-0315b639de9e"
      },
      "source": [
        "# Visualizando se existem dados nulos \n",
        "convites.isna().sum()"
      ],
      "execution_count": null,
      "outputs": [
        {
          "output_type": "execute_result",
          "data": {
            "text/plain": [
              "From          0\n",
              "To            0\n",
              "Sent At       0\n",
              "Message      96\n",
              "Direction     0\n",
              "dtype: int64"
            ]
          },
          "metadata": {},
          "execution_count": 28
        }
      ]
    },
    {
      "cell_type": "code",
      "metadata": {
        "colab": {
          "base_uri": "https://localhost:8080/",
          "height": 143
        },
        "id": "lJhhuiTe1oAL",
        "outputId": "4d00cf88-ead0-459a-c880-ac48f14d5b1b"
      },
      "source": [
        "# Verificando as mensagens que não possuem o valor nulo\n",
        "convites[convites['Message'].notnull()]"
      ],
      "execution_count": null,
      "outputs": [
        {
          "output_type": "execute_result",
          "data": {
            "text/html": [
              "<div>\n",
              "<style scoped>\n",
              "    .dataframe tbody tr th:only-of-type {\n",
              "        vertical-align: middle;\n",
              "    }\n",
              "\n",
              "    .dataframe tbody tr th {\n",
              "        vertical-align: top;\n",
              "    }\n",
              "\n",
              "    .dataframe thead th {\n",
              "        text-align: right;\n",
              "    }\n",
              "</style>\n",
              "<table border=\"1\" class=\"dataframe\">\n",
              "  <thead>\n",
              "    <tr style=\"text-align: right;\">\n",
              "      <th></th>\n",
              "      <th>From</th>\n",
              "      <th>To</th>\n",
              "      <th>Sent At</th>\n",
              "      <th>Message</th>\n",
              "      <th>Direction</th>\n",
              "    </tr>\n",
              "  </thead>\n",
              "  <tbody>\n",
              "    <tr>\n",
              "      <th>66</th>\n",
              "      <td>Lucas Souza</td>\n",
              "      <td>Moises Alves da costa</td>\n",
              "      <td>8/21/21, 6:38 AM</td>\n",
              "      <td>Olha o Míses. Cara agora é programador...</td>\n",
              "      <td>OUTGOING</td>\n",
              "    </tr>\n",
              "    <tr>\n",
              "      <th>87</th>\n",
              "      <td>Flavia Carrera</td>\n",
              "      <td>Lucas Souza</td>\n",
              "      <td>8/13/21, 6:47 AM</td>\n",
              "      <td>Bom dia.Sou Flávia e faço parte do RH da AYESA...</td>\n",
              "      <td>INCOMING</td>\n",
              "    </tr>\n",
              "    <tr>\n",
              "      <th>92</th>\n",
              "      <td>Alexander Litvinov</td>\n",
              "      <td>Lucas Souza</td>\n",
              "      <td>6/21/21, 9:58 AM</td>\n",
              "      <td>Hello! We have the vacancy of Spotfire develop...</td>\n",
              "      <td>INCOMING</td>\n",
              "    </tr>\n",
              "  </tbody>\n",
              "</table>\n",
              "</div>"
            ],
            "text/plain": [
              "                  From  ... Direction\n",
              "66         Lucas Souza  ...  OUTGOING\n",
              "87      Flavia Carrera  ...  INCOMING\n",
              "92  Alexander Litvinov  ...  INCOMING\n",
              "\n",
              "[3 rows x 5 columns]"
            ]
          },
          "metadata": {},
          "execution_count": 30
        }
      ]
    },
    {
      "cell_type": "code",
      "metadata": {
        "colab": {
          "base_uri": "https://localhost:8080/"
        },
        "id": "jyAqsgPA2c6m",
        "outputId": "b7eb211a-44de-4aaa-9f3b-55d18ac5eb74"
      },
      "source": [
        "# Verificando a quantidade de convites \n",
        "convites.shape  "
      ],
      "execution_count": null,
      "outputs": [
        {
          "output_type": "execute_result",
          "data": {
            "text/plain": [
              "(99, 5)"
            ]
          },
          "metadata": {},
          "execution_count": 31
        }
      ]
    },
    {
      "cell_type": "code",
      "metadata": {
        "colab": {
          "base_uri": "https://localhost:8080/"
        },
        "id": "_-89zpgG2kJ6",
        "outputId": "592a9f35-6259-4218-84b9-a6ed4f45a720"
      },
      "source": [
        "# Recriando a variavel convites para que ela possua somente convites recebidos\n",
        "convites = convites[convites['Direction'] == 'INCOMING']\n",
        "\n",
        "# Visualizando a transformação. Convites recebidos\n",
        "convites.shape"
      ],
      "execution_count": null,
      "outputs": [
        {
          "output_type": "execute_result",
          "data": {
            "text/plain": [
              "(24, 5)"
            ]
          },
          "metadata": {},
          "execution_count": 32
        }
      ]
    },
    {
      "cell_type": "code",
      "metadata": {
        "colab": {
          "base_uri": "https://localhost:8080/"
        },
        "id": "fKuwOWIj3DkL",
        "outputId": "87aad5b5-bab8-4b44-e328-819f058c265d"
      },
      "source": [
        "# Verifiando se possuimos somente o valor INCOMING\n",
        "np.unique(convites['Direction'])"
      ],
      "execution_count": null,
      "outputs": [
        {
          "output_type": "execute_result",
          "data": {
            "text/plain": [
              "array(['INCOMING'], dtype=object)"
            ]
          },
          "metadata": {},
          "execution_count": 33
        }
      ]
    },
    {
      "cell_type": "code",
      "metadata": {
        "id": "uwO9HYkl3uX8"
      },
      "source": [
        "# Adicionando um novo atribudo. Company, para armazenar o nome das empresas \n",
        "convites['Company'] = ''"
      ],
      "execution_count": null,
      "outputs": []
    },
    {
      "cell_type": "code",
      "metadata": {
        "colab": {
          "base_uri": "https://localhost:8080/",
          "height": 205
        },
        "id": "nc29t1hD37Gi",
        "outputId": "76032664-93f3-47c1-a86f-dd7fb31f8907"
      },
      "source": [
        "# Verificando se o atributo Company foi adicionado\n",
        "convites.head()"
      ],
      "execution_count": null,
      "outputs": [
        {
          "output_type": "execute_result",
          "data": {
            "text/html": [
              "<div>\n",
              "<style scoped>\n",
              "    .dataframe tbody tr th:only-of-type {\n",
              "        vertical-align: middle;\n",
              "    }\n",
              "\n",
              "    .dataframe tbody tr th {\n",
              "        vertical-align: top;\n",
              "    }\n",
              "\n",
              "    .dataframe thead th {\n",
              "        text-align: right;\n",
              "    }\n",
              "</style>\n",
              "<table border=\"1\" class=\"dataframe\">\n",
              "  <thead>\n",
              "    <tr style=\"text-align: right;\">\n",
              "      <th></th>\n",
              "      <th>From</th>\n",
              "      <th>To</th>\n",
              "      <th>Sent At</th>\n",
              "      <th>Message</th>\n",
              "      <th>Direction</th>\n",
              "      <th>Company</th>\n",
              "    </tr>\n",
              "  </thead>\n",
              "  <tbody>\n",
              "    <tr>\n",
              "      <th>75</th>\n",
              "      <td>Locbreak Energia Sustentável</td>\n",
              "      <td>Lucas Souza</td>\n",
              "      <td>9/13/21, 5:49 AM</td>\n",
              "      <td>NaN</td>\n",
              "      <td>INCOMING</td>\n",
              "      <td></td>\n",
              "    </tr>\n",
              "    <tr>\n",
              "      <th>76</th>\n",
              "      <td>Victor de Sá Nunes</td>\n",
              "      <td>Lucas Souza</td>\n",
              "      <td>9/8/21, 3:39 PM</td>\n",
              "      <td>NaN</td>\n",
              "      <td>INCOMING</td>\n",
              "      <td></td>\n",
              "    </tr>\n",
              "    <tr>\n",
              "      <th>77</th>\n",
              "      <td>Fabio Akamine</td>\n",
              "      <td>Lucas Souza</td>\n",
              "      <td>9/6/21, 12:07 PM</td>\n",
              "      <td>NaN</td>\n",
              "      <td>INCOMING</td>\n",
              "      <td></td>\n",
              "    </tr>\n",
              "    <tr>\n",
              "      <th>78</th>\n",
              "      <td>Rodrigo Alves Damasceno</td>\n",
              "      <td>Lucas Souza</td>\n",
              "      <td>9/6/21, 6:57 AM</td>\n",
              "      <td>NaN</td>\n",
              "      <td>INCOMING</td>\n",
              "      <td></td>\n",
              "    </tr>\n",
              "    <tr>\n",
              "      <th>79</th>\n",
              "      <td>Raphael Lima</td>\n",
              "      <td>Lucas Souza</td>\n",
              "      <td>9/4/21, 10:30 AM</td>\n",
              "      <td>NaN</td>\n",
              "      <td>INCOMING</td>\n",
              "      <td></td>\n",
              "    </tr>\n",
              "  </tbody>\n",
              "</table>\n",
              "</div>"
            ],
            "text/plain": [
              "                            From           To  ... Direction Company\n",
              "75  Locbreak Energia Sustentável  Lucas Souza  ...  INCOMING        \n",
              "76            Victor de Sá Nunes  Lucas Souza  ...  INCOMING        \n",
              "77                 Fabio Akamine  Lucas Souza  ...  INCOMING        \n",
              "78       Rodrigo Alves Damasceno  Lucas Souza  ...  INCOMING        \n",
              "79                  Raphael Lima  Lucas Souza  ...  INCOMING        \n",
              "\n",
              "[5 rows x 6 columns]"
            ]
          },
          "metadata": {},
          "execution_count": 36
        }
      ]
    },
    {
      "cell_type": "code",
      "metadata": {
        "colab": {
          "base_uri": "https://localhost:8080/",
          "height": 81
        },
        "id": "iPs50KyV4McL",
        "outputId": "cc5f1a42-f8ec-46e0-9888-d826629c882f"
      },
      "source": [
        "# Pesquisando informações de um usuário da minha rede pelo nome completo\n",
        "conexoes[conexoes['Full Name'] == 'Gustavo Siqueira Vinhal']"
      ],
      "execution_count": null,
      "outputs": [
        {
          "output_type": "execute_result",
          "data": {
            "text/html": [
              "<div>\n",
              "<style scoped>\n",
              "    .dataframe tbody tr th:only-of-type {\n",
              "        vertical-align: middle;\n",
              "    }\n",
              "\n",
              "    .dataframe tbody tr th {\n",
              "        vertical-align: top;\n",
              "    }\n",
              "\n",
              "    .dataframe thead th {\n",
              "        text-align: right;\n",
              "    }\n",
              "</style>\n",
              "<table border=\"1\" class=\"dataframe\">\n",
              "  <thead>\n",
              "    <tr style=\"text-align: right;\">\n",
              "      <th></th>\n",
              "      <th>First Name</th>\n",
              "      <th>Last Name</th>\n",
              "      <th>Company</th>\n",
              "      <th>Position</th>\n",
              "      <th>Connected On</th>\n",
              "      <th>Full Name</th>\n",
              "    </tr>\n",
              "  </thead>\n",
              "  <tbody>\n",
              "    <tr>\n",
              "      <th>26</th>\n",
              "      <td>Gustavo</td>\n",
              "      <td>Siqueira Vinhal</td>\n",
              "      <td>Faculdade de Tecnologia Senac Goiás.</td>\n",
              "      <td>Professor</td>\n",
              "      <td>02 Sep 2021</td>\n",
              "      <td>Gustavo Siqueira Vinhal</td>\n",
              "    </tr>\n",
              "  </tbody>\n",
              "</table>\n",
              "</div>"
            ],
            "text/plain": [
              "   First Name        Last Name  ... Connected On                Full Name\n",
              "26    Gustavo  Siqueira Vinhal  ...  02 Sep 2021  Gustavo Siqueira Vinhal\n",
              "\n",
              "[1 rows x 6 columns]"
            ]
          },
          "metadata": {},
          "execution_count": 41
        }
      ]
    },
    {
      "cell_type": "code",
      "metadata": {
        "colab": {
          "base_uri": "https://localhost:8080/",
          "height": 81
        },
        "id": "xVLZDGzm4MZr",
        "outputId": "55853b91-1ebb-4415-be13-45dba17bf110"
      },
      "source": [
        "# Pesquisando informações de um usuário da minha rede pelo nome completo\n",
        "conexoes[conexoes['Full Name'] == 'Alexandre Tannus']"
      ],
      "execution_count": null,
      "outputs": [
        {
          "output_type": "execute_result",
          "data": {
            "text/html": [
              "<div>\n",
              "<style scoped>\n",
              "    .dataframe tbody tr th:only-of-type {\n",
              "        vertical-align: middle;\n",
              "    }\n",
              "\n",
              "    .dataframe tbody tr th {\n",
              "        vertical-align: top;\n",
              "    }\n",
              "\n",
              "    .dataframe thead th {\n",
              "        text-align: right;\n",
              "    }\n",
              "</style>\n",
              "<table border=\"1\" class=\"dataframe\">\n",
              "  <thead>\n",
              "    <tr style=\"text-align: right;\">\n",
              "      <th></th>\n",
              "      <th>First Name</th>\n",
              "      <th>Last Name</th>\n",
              "      <th>Company</th>\n",
              "      <th>Position</th>\n",
              "      <th>Connected On</th>\n",
              "      <th>Full Name</th>\n",
              "    </tr>\n",
              "  </thead>\n",
              "  <tbody>\n",
              "    <tr>\n",
              "      <th>52</th>\n",
              "      <td>Alexandre</td>\n",
              "      <td>Tannus</td>\n",
              "      <td>UniEVANGÉLICA - Centro Universitário de Anápolis</td>\n",
              "      <td>Professor</td>\n",
              "      <td>21 Aug 2021</td>\n",
              "      <td>Alexandre Tannus</td>\n",
              "    </tr>\n",
              "  </tbody>\n",
              "</table>\n",
              "</div>"
            ],
            "text/plain": [
              "   First Name Last Name  ... Connected On         Full Name\n",
              "52  Alexandre    Tannus  ...  21 Aug 2021  Alexandre Tannus\n",
              "\n",
              "[1 rows x 6 columns]"
            ]
          },
          "metadata": {},
          "execution_count": 42
        }
      ]
    },
    {
      "cell_type": "code",
      "metadata": {
        "colab": {
          "base_uri": "https://localhost:8080/"
        },
        "id": "EOoplDdQ5sQs",
        "outputId": "d1954a77-f632-4544-93e8-1333b4bc9b1e"
      },
      "source": [
        "# Pesquisando a empresa que um usuário da minha rede trabalha\n",
        "conexoes[conexoes['Full Name'] == 'Gustavo Siqueira Vinhal']['Company']"
      ],
      "execution_count": null,
      "outputs": [
        {
          "output_type": "execute_result",
          "data": {
            "text/plain": [
              "26    Faculdade de Tecnologia Senac Goiás.\n",
              "Name: Company, dtype: object"
            ]
          },
          "metadata": {},
          "execution_count": 45
        }
      ]
    },
    {
      "cell_type": "code",
      "metadata": {
        "colab": {
          "base_uri": "https://localhost:8080/"
        },
        "id": "EHHWdUS84MBU",
        "outputId": "2429b44e-9452-4417-9ee9-3bdf081c88c4"
      },
      "source": [
        "# Pesquisando a empresa que um usuário da minha rede trabalha\n",
        "conexoes[conexoes['Full Name'] == 'Alexandre Tannus']['Company']"
      ],
      "execution_count": null,
      "outputs": [
        {
          "output_type": "execute_result",
          "data": {
            "text/plain": [
              "52    UniEVANGÉLICA - Centro Universitário de Anápolis\n",
              "Name: Company, dtype: object"
            ]
          },
          "metadata": {},
          "execution_count": 43
        }
      ]
    },
    {
      "cell_type": "code",
      "metadata": {
        "colab": {
          "base_uri": "https://localhost:8080/",
          "height": 35
        },
        "id": "wb-R9LoC6fTd",
        "outputId": "6952ca6b-c0e1-4c44-9223-28b416b9fef6"
      },
      "source": [
        "# Pesquisando a empresa que um usuário da minha rede trabalha\n",
        "conexoes[conexoes['Full Name'] == 'Alexandre Tannus']['Company'].values[0]"
      ],
      "execution_count": null,
      "outputs": [
        {
          "output_type": "execute_result",
          "data": {
            "application/vnd.google.colaboratory.intrinsic+json": {
              "type": "string"
            },
            "text/plain": [
              "'UniEVANGÉLICA - Centro Universitário de Anápolis'"
            ]
          },
          "metadata": {},
          "execution_count": 46
        }
      ]
    },
    {
      "cell_type": "code",
      "metadata": {
        "colab": {
          "base_uri": "https://localhost:8080/",
          "height": 1214
        },
        "id": "CwI9T8ZE7JSf",
        "outputId": "366529a4-d6be-4eb1-94b9-577f19bfe18f"
      },
      "source": [
        "# Resetando os indices, pois apagamos valores nulos acima. Dessa forma se não resetar o indice \n",
        "# a execução do for dará erro, pois contem um indice errado\n",
        "convites = convites.reset_index(drop=True)\n",
        "convites"
      ],
      "execution_count": null,
      "outputs": [
        {
          "output_type": "execute_result",
          "data": {
            "text/html": [
              "<div>\n",
              "<style scoped>\n",
              "    .dataframe tbody tr th:only-of-type {\n",
              "        vertical-align: middle;\n",
              "    }\n",
              "\n",
              "    .dataframe tbody tr th {\n",
              "        vertical-align: top;\n",
              "    }\n",
              "\n",
              "    .dataframe thead th {\n",
              "        text-align: right;\n",
              "    }\n",
              "</style>\n",
              "<table border=\"1\" class=\"dataframe\">\n",
              "  <thead>\n",
              "    <tr style=\"text-align: right;\">\n",
              "      <th></th>\n",
              "      <th>From</th>\n",
              "      <th>To</th>\n",
              "      <th>Sent At</th>\n",
              "      <th>Message</th>\n",
              "      <th>Direction</th>\n",
              "      <th>Company</th>\n",
              "    </tr>\n",
              "  </thead>\n",
              "  <tbody>\n",
              "    <tr>\n",
              "      <th>0</th>\n",
              "      <td>Locbreak Energia Sustentável</td>\n",
              "      <td>Lucas Souza</td>\n",
              "      <td>9/13/21, 5:49 AM</td>\n",
              "      <td>NaN</td>\n",
              "      <td>INCOMING</td>\n",
              "      <td></td>\n",
              "    </tr>\n",
              "    <tr>\n",
              "      <th>1</th>\n",
              "      <td>Victor de Sá Nunes</td>\n",
              "      <td>Lucas Souza</td>\n",
              "      <td>9/8/21, 3:39 PM</td>\n",
              "      <td>NaN</td>\n",
              "      <td>INCOMING</td>\n",
              "      <td></td>\n",
              "    </tr>\n",
              "    <tr>\n",
              "      <th>2</th>\n",
              "      <td>Fabio Akamine</td>\n",
              "      <td>Lucas Souza</td>\n",
              "      <td>9/6/21, 12:07 PM</td>\n",
              "      <td>NaN</td>\n",
              "      <td>INCOMING</td>\n",
              "      <td></td>\n",
              "    </tr>\n",
              "    <tr>\n",
              "      <th>3</th>\n",
              "      <td>Rodrigo Alves Damasceno</td>\n",
              "      <td>Lucas Souza</td>\n",
              "      <td>9/6/21, 6:57 AM</td>\n",
              "      <td>NaN</td>\n",
              "      <td>INCOMING</td>\n",
              "      <td></td>\n",
              "    </tr>\n",
              "    <tr>\n",
              "      <th>4</th>\n",
              "      <td>Raphael Lima</td>\n",
              "      <td>Lucas Souza</td>\n",
              "      <td>9/4/21, 10:30 AM</td>\n",
              "      <td>NaN</td>\n",
              "      <td>INCOMING</td>\n",
              "      <td></td>\n",
              "    </tr>\n",
              "    <tr>\n",
              "      <th>5</th>\n",
              "      <td>Victor Leite</td>\n",
              "      <td>Lucas Souza</td>\n",
              "      <td>9/3/21, 2:19 PM</td>\n",
              "      <td>NaN</td>\n",
              "      <td>INCOMING</td>\n",
              "      <td></td>\n",
              "    </tr>\n",
              "    <tr>\n",
              "      <th>6</th>\n",
              "      <td>Juraci Gomes</td>\n",
              "      <td>Lucas Souza</td>\n",
              "      <td>9/1/21, 4:23 PM</td>\n",
              "      <td>NaN</td>\n",
              "      <td>INCOMING</td>\n",
              "      <td></td>\n",
              "    </tr>\n",
              "    <tr>\n",
              "      <th>7</th>\n",
              "      <td>Teresa Santiago</td>\n",
              "      <td>Lucas Souza</td>\n",
              "      <td>8/30/21, 3:46 AM</td>\n",
              "      <td>NaN</td>\n",
              "      <td>INCOMING</td>\n",
              "      <td></td>\n",
              "    </tr>\n",
              "    <tr>\n",
              "      <th>8</th>\n",
              "      <td>Eliel Silveira</td>\n",
              "      <td>Lucas Souza</td>\n",
              "      <td>8/27/21, 7:49 PM</td>\n",
              "      <td>NaN</td>\n",
              "      <td>INCOMING</td>\n",
              "      <td></td>\n",
              "    </tr>\n",
              "    <tr>\n",
              "      <th>9</th>\n",
              "      <td>Cleilton  Dos Santos Silva</td>\n",
              "      <td>Lucas Souza</td>\n",
              "      <td>8/25/21, 10:48 AM</td>\n",
              "      <td>NaN</td>\n",
              "      <td>INCOMING</td>\n",
              "      <td></td>\n",
              "    </tr>\n",
              "    <tr>\n",
              "      <th>10</th>\n",
              "      <td>Lucas Castro</td>\n",
              "      <td>Lucas Souza</td>\n",
              "      <td>8/16/21, 7:55 PM</td>\n",
              "      <td>NaN</td>\n",
              "      <td>INCOMING</td>\n",
              "      <td></td>\n",
              "    </tr>\n",
              "    <tr>\n",
              "      <th>11</th>\n",
              "      <td>Davide Coccomini</td>\n",
              "      <td>Lucas Souza</td>\n",
              "      <td>8/15/21, 1:14 PM</td>\n",
              "      <td>NaN</td>\n",
              "      <td>INCOMING</td>\n",
              "      <td></td>\n",
              "    </tr>\n",
              "    <tr>\n",
              "      <th>12</th>\n",
              "      <td>Flavia Carrera</td>\n",
              "      <td>Lucas Souza</td>\n",
              "      <td>8/13/21, 6:47 AM</td>\n",
              "      <td>Bom dia.Sou Flávia e faço parte do RH da AYESA...</td>\n",
              "      <td>INCOMING</td>\n",
              "      <td></td>\n",
              "    </tr>\n",
              "    <tr>\n",
              "      <th>13</th>\n",
              "      <td>Ivan Corrêa .'.</td>\n",
              "      <td>Lucas Souza</td>\n",
              "      <td>7/25/21, 1:20 PM</td>\n",
              "      <td>NaN</td>\n",
              "      <td>INCOMING</td>\n",
              "      <td></td>\n",
              "    </tr>\n",
              "    <tr>\n",
              "      <th>14</th>\n",
              "      <td>Kamilla Nascimento</td>\n",
              "      <td>Lucas Souza</td>\n",
              "      <td>7/22/21, 12:14 PM</td>\n",
              "      <td>NaN</td>\n",
              "      <td>INCOMING</td>\n",
              "      <td></td>\n",
              "    </tr>\n",
              "    <tr>\n",
              "      <th>15</th>\n",
              "      <td>Leon Guerra</td>\n",
              "      <td>Lucas Souza</td>\n",
              "      <td>7/2/21, 6:48 AM</td>\n",
              "      <td>NaN</td>\n",
              "      <td>INCOMING</td>\n",
              "      <td></td>\n",
              "    </tr>\n",
              "    <tr>\n",
              "      <th>16</th>\n",
              "      <td>Alexssander Costa  Sousa</td>\n",
              "      <td>Lucas Souza</td>\n",
              "      <td>6/30/21, 12:07 PM</td>\n",
              "      <td>NaN</td>\n",
              "      <td>INCOMING</td>\n",
              "      <td></td>\n",
              "    </tr>\n",
              "    <tr>\n",
              "      <th>17</th>\n",
              "      <td>Alexander Litvinov</td>\n",
              "      <td>Lucas Souza</td>\n",
              "      <td>6/21/21, 9:58 AM</td>\n",
              "      <td>Hello! We have the vacancy of Spotfire develop...</td>\n",
              "      <td>INCOMING</td>\n",
              "      <td></td>\n",
              "    </tr>\n",
              "    <tr>\n",
              "      <th>18</th>\n",
              "      <td>Ellen Bertoldo</td>\n",
              "      <td>Lucas Souza</td>\n",
              "      <td>5/13/21, 4:34 PM</td>\n",
              "      <td>NaN</td>\n",
              "      <td>INCOMING</td>\n",
              "      <td></td>\n",
              "    </tr>\n",
              "    <tr>\n",
              "      <th>19</th>\n",
              "      <td>Pedro Henrique Braga</td>\n",
              "      <td>Lucas Souza</td>\n",
              "      <td>4/23/21, 5:53 AM</td>\n",
              "      <td>NaN</td>\n",
              "      <td>INCOMING</td>\n",
              "      <td></td>\n",
              "    </tr>\n",
              "    <tr>\n",
              "      <th>20</th>\n",
              "      <td>Marcos R R Suares Suares</td>\n",
              "      <td>Lucas Souza</td>\n",
              "      <td>4/17/21, 1:35 PM</td>\n",
              "      <td>NaN</td>\n",
              "      <td>INCOMING</td>\n",
              "      <td></td>\n",
              "    </tr>\n",
              "    <tr>\n",
              "      <th>21</th>\n",
              "      <td>Hermes  da Fonseca</td>\n",
              "      <td>Lucas Souza</td>\n",
              "      <td>3/21/21, 6:18 PM</td>\n",
              "      <td>NaN</td>\n",
              "      <td>INCOMING</td>\n",
              "      <td></td>\n",
              "    </tr>\n",
              "    <tr>\n",
              "      <th>22</th>\n",
              "      <td>ROBERVAL JUNIOR</td>\n",
              "      <td>Lucas Souza</td>\n",
              "      <td>10/14/19, 5:59 AM</td>\n",
              "      <td>NaN</td>\n",
              "      <td>INCOMING</td>\n",
              "      <td></td>\n",
              "    </tr>\n",
              "    <tr>\n",
              "      <th>23</th>\n",
              "      <td>Ketley Ohanna</td>\n",
              "      <td>Lucas Souza</td>\n",
              "      <td>10/8/19, 3:14 PM</td>\n",
              "      <td>NaN</td>\n",
              "      <td>INCOMING</td>\n",
              "      <td></td>\n",
              "    </tr>\n",
              "  </tbody>\n",
              "</table>\n",
              "</div>"
            ],
            "text/plain": [
              "                            From           To  ... Direction Company\n",
              "0   Locbreak Energia Sustentável  Lucas Souza  ...  INCOMING        \n",
              "1             Victor de Sá Nunes  Lucas Souza  ...  INCOMING        \n",
              "2                  Fabio Akamine  Lucas Souza  ...  INCOMING        \n",
              "3        Rodrigo Alves Damasceno  Lucas Souza  ...  INCOMING        \n",
              "4                   Raphael Lima  Lucas Souza  ...  INCOMING        \n",
              "5                   Victor Leite  Lucas Souza  ...  INCOMING        \n",
              "6                   Juraci Gomes  Lucas Souza  ...  INCOMING        \n",
              "7                Teresa Santiago  Lucas Souza  ...  INCOMING        \n",
              "8                 Eliel Silveira  Lucas Souza  ...  INCOMING        \n",
              "9     Cleilton  Dos Santos Silva  Lucas Souza  ...  INCOMING        \n",
              "10                  Lucas Castro  Lucas Souza  ...  INCOMING        \n",
              "11              Davide Coccomini  Lucas Souza  ...  INCOMING        \n",
              "12                Flavia Carrera  Lucas Souza  ...  INCOMING        \n",
              "13               Ivan Corrêa .'.  Lucas Souza  ...  INCOMING        \n",
              "14            Kamilla Nascimento  Lucas Souza  ...  INCOMING        \n",
              "15                   Leon Guerra  Lucas Souza  ...  INCOMING        \n",
              "16      Alexssander Costa  Sousa  Lucas Souza  ...  INCOMING        \n",
              "17            Alexander Litvinov  Lucas Souza  ...  INCOMING        \n",
              "18                Ellen Bertoldo  Lucas Souza  ...  INCOMING        \n",
              "19          Pedro Henrique Braga  Lucas Souza  ...  INCOMING        \n",
              "20      Marcos R R Suares Suares  Lucas Souza  ...  INCOMING        \n",
              "21            Hermes  da Fonseca  Lucas Souza  ...  INCOMING        \n",
              "22               ROBERVAL JUNIOR  Lucas Souza  ...  INCOMING        \n",
              "23                 Ketley Ohanna  Lucas Souza  ...  INCOMING        \n",
              "\n",
              "[24 rows x 6 columns]"
            ]
          },
          "metadata": {},
          "execution_count": 49
        }
      ]
    },
    {
      "cell_type": "code",
      "metadata": {
        "id": "1_Zmd56v6mhG"
      },
      "source": [
        "# Extrair o nome da empresa dos funcionários e adicionar no atributo Company\n",
        "for i in range(0,len(convites)): \n",
        "  #Pode ter pessoas que não preencheram o indice Zero\n",
        "  try: # É necessário para não causar erro de indice Zero\n",
        "    company = conexoes[conexoes['Full Name'] == convites['From'][i]]['Company'].values[0]\n",
        "    #print(company)\n",
        "    convites['Company'][i] = company\n",
        "  except:\n",
        "    continue"
      ],
      "execution_count": null,
      "outputs": []
    },
    {
      "cell_type": "code",
      "metadata": {
        "colab": {
          "base_uri": "https://localhost:8080/",
          "height": 1214
        },
        "id": "yZ8pNR3O9Cio",
        "outputId": "1cb546ce-2ab5-4182-a813-58386410c89e"
      },
      "source": [
        "# Verificando se o conteudo do atributo Company foi preenchido\n",
        "convites"
      ],
      "execution_count": null,
      "outputs": [
        {
          "output_type": "execute_result",
          "data": {
            "text/html": [
              "<div>\n",
              "<style scoped>\n",
              "    .dataframe tbody tr th:only-of-type {\n",
              "        vertical-align: middle;\n",
              "    }\n",
              "\n",
              "    .dataframe tbody tr th {\n",
              "        vertical-align: top;\n",
              "    }\n",
              "\n",
              "    .dataframe thead th {\n",
              "        text-align: right;\n",
              "    }\n",
              "</style>\n",
              "<table border=\"1\" class=\"dataframe\">\n",
              "  <thead>\n",
              "    <tr style=\"text-align: right;\">\n",
              "      <th></th>\n",
              "      <th>From</th>\n",
              "      <th>To</th>\n",
              "      <th>Sent At</th>\n",
              "      <th>Message</th>\n",
              "      <th>Direction</th>\n",
              "      <th>Company</th>\n",
              "    </tr>\n",
              "  </thead>\n",
              "  <tbody>\n",
              "    <tr>\n",
              "      <th>0</th>\n",
              "      <td>Locbreak Energia Sustentável</td>\n",
              "      <td>Lucas Souza</td>\n",
              "      <td>9/13/21, 5:49 AM</td>\n",
              "      <td>NaN</td>\n",
              "      <td>INCOMING</td>\n",
              "      <td>Locbreak</td>\n",
              "    </tr>\n",
              "    <tr>\n",
              "      <th>1</th>\n",
              "      <td>Victor de Sá Nunes</td>\n",
              "      <td>Lucas Souza</td>\n",
              "      <td>9/8/21, 3:39 PM</td>\n",
              "      <td>NaN</td>\n",
              "      <td>INCOMING</td>\n",
              "      <td>NTT DATA</td>\n",
              "    </tr>\n",
              "    <tr>\n",
              "      <th>2</th>\n",
              "      <td>Fabio Akamine</td>\n",
              "      <td>Lucas Souza</td>\n",
              "      <td>9/6/21, 12:07 PM</td>\n",
              "      <td>NaN</td>\n",
              "      <td>INCOMING</td>\n",
              "      <td>Accenture Brasil</td>\n",
              "    </tr>\n",
              "    <tr>\n",
              "      <th>3</th>\n",
              "      <td>Rodrigo Alves Damasceno</td>\n",
              "      <td>Lucas Souza</td>\n",
              "      <td>9/6/21, 6:57 AM</td>\n",
              "      <td>NaN</td>\n",
              "      <td>INCOMING</td>\n",
              "      <td></td>\n",
              "    </tr>\n",
              "    <tr>\n",
              "      <th>4</th>\n",
              "      <td>Raphael Lima</td>\n",
              "      <td>Lucas Souza</td>\n",
              "      <td>9/4/21, 10:30 AM</td>\n",
              "      <td>NaN</td>\n",
              "      <td>INCOMING</td>\n",
              "      <td></td>\n",
              "    </tr>\n",
              "    <tr>\n",
              "      <th>5</th>\n",
              "      <td>Victor Leite</td>\n",
              "      <td>Lucas Souza</td>\n",
              "      <td>9/3/21, 2:19 PM</td>\n",
              "      <td>NaN</td>\n",
              "      <td>INCOMING</td>\n",
              "      <td>GOL Linhas Aéreas</td>\n",
              "    </tr>\n",
              "    <tr>\n",
              "      <th>6</th>\n",
              "      <td>Juraci Gomes</td>\n",
              "      <td>Lucas Souza</td>\n",
              "      <td>9/1/21, 4:23 PM</td>\n",
              "      <td>NaN</td>\n",
              "      <td>INCOMING</td>\n",
              "      <td>Enel Brasil</td>\n",
              "    </tr>\n",
              "    <tr>\n",
              "      <th>7</th>\n",
              "      <td>Teresa Santiago</td>\n",
              "      <td>Lucas Souza</td>\n",
              "      <td>8/30/21, 3:46 AM</td>\n",
              "      <td>NaN</td>\n",
              "      <td>INCOMING</td>\n",
              "      <td>Mercado Livre</td>\n",
              "    </tr>\n",
              "    <tr>\n",
              "      <th>8</th>\n",
              "      <td>Eliel Silveira</td>\n",
              "      <td>Lucas Souza</td>\n",
              "      <td>8/27/21, 7:49 PM</td>\n",
              "      <td>NaN</td>\n",
              "      <td>INCOMING</td>\n",
              "      <td>Mindtree</td>\n",
              "    </tr>\n",
              "    <tr>\n",
              "      <th>9</th>\n",
              "      <td>Cleilton  Dos Santos Silva</td>\n",
              "      <td>Lucas Souza</td>\n",
              "      <td>8/25/21, 10:48 AM</td>\n",
              "      <td>NaN</td>\n",
              "      <td>INCOMING</td>\n",
              "      <td></td>\n",
              "    </tr>\n",
              "    <tr>\n",
              "      <th>10</th>\n",
              "      <td>Lucas Castro</td>\n",
              "      <td>Lucas Souza</td>\n",
              "      <td>8/16/21, 7:55 PM</td>\n",
              "      <td>NaN</td>\n",
              "      <td>INCOMING</td>\n",
              "      <td>Enel Group</td>\n",
              "    </tr>\n",
              "    <tr>\n",
              "      <th>11</th>\n",
              "      <td>Davide Coccomini</td>\n",
              "      <td>Lucas Souza</td>\n",
              "      <td>8/15/21, 1:14 PM</td>\n",
              "      <td>NaN</td>\n",
              "      <td>INCOMING</td>\n",
              "      <td>Towards Data Science</td>\n",
              "    </tr>\n",
              "    <tr>\n",
              "      <th>12</th>\n",
              "      <td>Flavia Carrera</td>\n",
              "      <td>Lucas Souza</td>\n",
              "      <td>8/13/21, 6:47 AM</td>\n",
              "      <td>Bom dia.Sou Flávia e faço parte do RH da AYESA...</td>\n",
              "      <td>INCOMING</td>\n",
              "      <td>AYESA</td>\n",
              "    </tr>\n",
              "    <tr>\n",
              "      <th>13</th>\n",
              "      <td>Ivan Corrêa .'.</td>\n",
              "      <td>Lucas Souza</td>\n",
              "      <td>7/25/21, 1:20 PM</td>\n",
              "      <td>NaN</td>\n",
              "      <td>INCOMING</td>\n",
              "      <td>Enel Brasil</td>\n",
              "    </tr>\n",
              "    <tr>\n",
              "      <th>14</th>\n",
              "      <td>Kamilla Nascimento</td>\n",
              "      <td>Lucas Souza</td>\n",
              "      <td>7/22/21, 12:14 PM</td>\n",
              "      <td>NaN</td>\n",
              "      <td>INCOMING</td>\n",
              "      <td>CVV - Centro de Valorização da Vida</td>\n",
              "    </tr>\n",
              "    <tr>\n",
              "      <th>15</th>\n",
              "      <td>Leon Guerra</td>\n",
              "      <td>Lucas Souza</td>\n",
              "      <td>7/2/21, 6:48 AM</td>\n",
              "      <td>NaN</td>\n",
              "      <td>INCOMING</td>\n",
              "      <td>Point Point - Engenharia e Tecnologia.</td>\n",
              "    </tr>\n",
              "    <tr>\n",
              "      <th>16</th>\n",
              "      <td>Alexssander Costa  Sousa</td>\n",
              "      <td>Lucas Souza</td>\n",
              "      <td>6/30/21, 12:07 PM</td>\n",
              "      <td>NaN</td>\n",
              "      <td>INCOMING</td>\n",
              "      <td>Organizacao Das Voluntarias De Goias</td>\n",
              "    </tr>\n",
              "    <tr>\n",
              "      <th>17</th>\n",
              "      <td>Alexander Litvinov</td>\n",
              "      <td>Lucas Souza</td>\n",
              "      <td>6/21/21, 9:58 AM</td>\n",
              "      <td>Hello! We have the vacancy of Spotfire develop...</td>\n",
              "      <td>INCOMING</td>\n",
              "      <td>AWWCOR Inc</td>\n",
              "    </tr>\n",
              "    <tr>\n",
              "      <th>18</th>\n",
              "      <td>Ellen Bertoldo</td>\n",
              "      <td>Lucas Souza</td>\n",
              "      <td>5/13/21, 4:34 PM</td>\n",
              "      <td>NaN</td>\n",
              "      <td>INCOMING</td>\n",
              "      <td>Enel</td>\n",
              "    </tr>\n",
              "    <tr>\n",
              "      <th>19</th>\n",
              "      <td>Pedro Henrique Braga</td>\n",
              "      <td>Lucas Souza</td>\n",
              "      <td>4/23/21, 5:53 AM</td>\n",
              "      <td>NaN</td>\n",
              "      <td>INCOMING</td>\n",
              "      <td></td>\n",
              "    </tr>\n",
              "    <tr>\n",
              "      <th>20</th>\n",
              "      <td>Marcos R R Suares Suares</td>\n",
              "      <td>Lucas Souza</td>\n",
              "      <td>4/17/21, 1:35 PM</td>\n",
              "      <td>NaN</td>\n",
              "      <td>INCOMING</td>\n",
              "      <td></td>\n",
              "    </tr>\n",
              "    <tr>\n",
              "      <th>21</th>\n",
              "      <td>Hermes  da Fonseca</td>\n",
              "      <td>Lucas Souza</td>\n",
              "      <td>3/21/21, 6:18 PM</td>\n",
              "      <td>NaN</td>\n",
              "      <td>INCOMING</td>\n",
              "      <td>ADVANCED Consulting</td>\n",
              "    </tr>\n",
              "    <tr>\n",
              "      <th>22</th>\n",
              "      <td>ROBERVAL JUNIOR</td>\n",
              "      <td>Lucas Souza</td>\n",
              "      <td>10/14/19, 5:59 AM</td>\n",
              "      <td>NaN</td>\n",
              "      <td>INCOMING</td>\n",
              "      <td></td>\n",
              "    </tr>\n",
              "    <tr>\n",
              "      <th>23</th>\n",
              "      <td>Ketley Ohanna</td>\n",
              "      <td>Lucas Souza</td>\n",
              "      <td>10/8/19, 3:14 PM</td>\n",
              "      <td>NaN</td>\n",
              "      <td>INCOMING</td>\n",
              "      <td></td>\n",
              "    </tr>\n",
              "  </tbody>\n",
              "</table>\n",
              "</div>"
            ],
            "text/plain": [
              "                            From  ...                                 Company\n",
              "0   Locbreak Energia Sustentável  ...                                Locbreak\n",
              "1             Victor de Sá Nunes  ...                                NTT DATA\n",
              "2                  Fabio Akamine  ...                        Accenture Brasil\n",
              "3        Rodrigo Alves Damasceno  ...                                        \n",
              "4                   Raphael Lima  ...                                        \n",
              "5                   Victor Leite  ...                       GOL Linhas Aéreas\n",
              "6                   Juraci Gomes  ...                             Enel Brasil\n",
              "7                Teresa Santiago  ...                           Mercado Livre\n",
              "8                 Eliel Silveira  ...                                Mindtree\n",
              "9     Cleilton  Dos Santos Silva  ...                                        \n",
              "10                  Lucas Castro  ...                              Enel Group\n",
              "11              Davide Coccomini  ...                    Towards Data Science\n",
              "12                Flavia Carrera  ...                                   AYESA\n",
              "13               Ivan Corrêa .'.  ...                             Enel Brasil\n",
              "14            Kamilla Nascimento  ...     CVV - Centro de Valorização da Vida\n",
              "15                   Leon Guerra  ...  Point Point - Engenharia e Tecnologia.\n",
              "16      Alexssander Costa  Sousa  ...    Organizacao Das Voluntarias De Goias\n",
              "17            Alexander Litvinov  ...                              AWWCOR Inc\n",
              "18                Ellen Bertoldo  ...                                    Enel\n",
              "19          Pedro Henrique Braga  ...                                        \n",
              "20      Marcos R R Suares Suares  ...                                        \n",
              "21            Hermes  da Fonseca  ...                     ADVANCED Consulting\n",
              "22               ROBERVAL JUNIOR  ...                                        \n",
              "23                 Ketley Ohanna  ...                                        \n",
              "\n",
              "[24 rows x 6 columns]"
            ]
          },
          "metadata": {},
          "execution_count": 59
        }
      ]
    },
    {
      "cell_type": "markdown",
      "metadata": {
        "id": "nTHSS2R551Wk"
      },
      "source": [
        ""
      ]
    },
    {
      "cell_type": "code",
      "metadata": {
        "id": "EssI-_um9WEb"
      },
      "source": [
        "# Só utilizaremos o atribudo Company, então poderemos apagar os outros atributos\n",
        "convites.drop(labels=['From', 'To', 'Sent At', 'Message', 'Direction'], axis=1, inplace=True)"
      ],
      "execution_count": null,
      "outputs": []
    },
    {
      "cell_type": "code",
      "metadata": {
        "colab": {
          "base_uri": "https://localhost:8080/",
          "height": 799
        },
        "id": "tC4uxPPT9xeD",
        "outputId": "3edc9c3b-a07b-44fc-8f8a-23731fbd56f5"
      },
      "source": [
        "# Validando a base de dados final\n",
        "convites"
      ],
      "execution_count": null,
      "outputs": [
        {
          "output_type": "execute_result",
          "data": {
            "text/html": [
              "<div>\n",
              "<style scoped>\n",
              "    .dataframe tbody tr th:only-of-type {\n",
              "        vertical-align: middle;\n",
              "    }\n",
              "\n",
              "    .dataframe tbody tr th {\n",
              "        vertical-align: top;\n",
              "    }\n",
              "\n",
              "    .dataframe thead th {\n",
              "        text-align: right;\n",
              "    }\n",
              "</style>\n",
              "<table border=\"1\" class=\"dataframe\">\n",
              "  <thead>\n",
              "    <tr style=\"text-align: right;\">\n",
              "      <th></th>\n",
              "      <th>Company</th>\n",
              "    </tr>\n",
              "  </thead>\n",
              "  <tbody>\n",
              "    <tr>\n",
              "      <th>0</th>\n",
              "      <td>Locbreak</td>\n",
              "    </tr>\n",
              "    <tr>\n",
              "      <th>1</th>\n",
              "      <td>NTT DATA</td>\n",
              "    </tr>\n",
              "    <tr>\n",
              "      <th>2</th>\n",
              "      <td>Accenture Brasil</td>\n",
              "    </tr>\n",
              "    <tr>\n",
              "      <th>3</th>\n",
              "      <td></td>\n",
              "    </tr>\n",
              "    <tr>\n",
              "      <th>4</th>\n",
              "      <td></td>\n",
              "    </tr>\n",
              "    <tr>\n",
              "      <th>5</th>\n",
              "      <td>GOL Linhas Aéreas</td>\n",
              "    </tr>\n",
              "    <tr>\n",
              "      <th>6</th>\n",
              "      <td>Enel Brasil</td>\n",
              "    </tr>\n",
              "    <tr>\n",
              "      <th>7</th>\n",
              "      <td>Mercado Livre</td>\n",
              "    </tr>\n",
              "    <tr>\n",
              "      <th>8</th>\n",
              "      <td>Mindtree</td>\n",
              "    </tr>\n",
              "    <tr>\n",
              "      <th>9</th>\n",
              "      <td></td>\n",
              "    </tr>\n",
              "    <tr>\n",
              "      <th>10</th>\n",
              "      <td>Enel Group</td>\n",
              "    </tr>\n",
              "    <tr>\n",
              "      <th>11</th>\n",
              "      <td>Towards Data Science</td>\n",
              "    </tr>\n",
              "    <tr>\n",
              "      <th>12</th>\n",
              "      <td>AYESA</td>\n",
              "    </tr>\n",
              "    <tr>\n",
              "      <th>13</th>\n",
              "      <td>Enel Brasil</td>\n",
              "    </tr>\n",
              "    <tr>\n",
              "      <th>14</th>\n",
              "      <td>CVV - Centro de Valorização da Vida</td>\n",
              "    </tr>\n",
              "    <tr>\n",
              "      <th>15</th>\n",
              "      <td>Point Point - Engenharia e Tecnologia.</td>\n",
              "    </tr>\n",
              "    <tr>\n",
              "      <th>16</th>\n",
              "      <td>Organizacao Das Voluntarias De Goias</td>\n",
              "    </tr>\n",
              "    <tr>\n",
              "      <th>17</th>\n",
              "      <td>AWWCOR Inc</td>\n",
              "    </tr>\n",
              "    <tr>\n",
              "      <th>18</th>\n",
              "      <td>Enel</td>\n",
              "    </tr>\n",
              "    <tr>\n",
              "      <th>19</th>\n",
              "      <td></td>\n",
              "    </tr>\n",
              "    <tr>\n",
              "      <th>20</th>\n",
              "      <td></td>\n",
              "    </tr>\n",
              "    <tr>\n",
              "      <th>21</th>\n",
              "      <td>ADVANCED Consulting</td>\n",
              "    </tr>\n",
              "    <tr>\n",
              "      <th>22</th>\n",
              "      <td></td>\n",
              "    </tr>\n",
              "    <tr>\n",
              "      <th>23</th>\n",
              "      <td></td>\n",
              "    </tr>\n",
              "  </tbody>\n",
              "</table>\n",
              "</div>"
            ],
            "text/plain": [
              "                                   Company\n",
              "0                                 Locbreak\n",
              "1                                 NTT DATA\n",
              "2                         Accenture Brasil\n",
              "3                                         \n",
              "4                                         \n",
              "5                        GOL Linhas Aéreas\n",
              "6                              Enel Brasil\n",
              "7                            Mercado Livre\n",
              "8                                 Mindtree\n",
              "9                                         \n",
              "10                              Enel Group\n",
              "11                    Towards Data Science\n",
              "12                                   AYESA\n",
              "13                             Enel Brasil\n",
              "14     CVV - Centro de Valorização da Vida\n",
              "15  Point Point - Engenharia e Tecnologia.\n",
              "16    Organizacao Das Voluntarias De Goias\n",
              "17                              AWWCOR Inc\n",
              "18                                    Enel\n",
              "19                                        \n",
              "20                                        \n",
              "21                     ADVANCED Consulting\n",
              "22                                        \n",
              "23                                        "
            ]
          },
          "metadata": {},
          "execution_count": 61
        }
      ]
    },
    {
      "cell_type": "code",
      "metadata": {
        "id": "efZJ5bUL92QL"
      },
      "source": [
        "# Salvando a base de dados criada\n",
        "convites.to_csv('convites.csv')"
      ],
      "execution_count": null,
      "outputs": []
    },
    {
      "cell_type": "markdown",
      "metadata": {
        "id": "nOdas4oz3VGK"
      },
      "source": [
        "### Mensagens\n"
      ]
    },
    {
      "cell_type": "code",
      "metadata": {
        "id": "Are2X0HT3bjW"
      },
      "source": [
        "# Carregando a base de dados Messages\n",
        "mensagens = pd.read_csv('messages.csv')"
      ],
      "execution_count": null,
      "outputs": []
    },
    {
      "cell_type": "code",
      "metadata": {
        "colab": {
          "base_uri": "https://localhost:8080/"
        },
        "id": "s1aVNDZ7Crbi",
        "outputId": "c1706398-5cb1-456c-9a2d-ebb63c329110"
      },
      "source": [
        "# Visualizando as colunas  \n",
        "mensagens.columns"
      ],
      "execution_count": null,
      "outputs": [
        {
          "output_type": "execute_result",
          "data": {
            "text/plain": [
              "Index(['CONVERSATION ID', 'CONVERSATION TITLE', 'FROM', 'SENDER PROFILE URL',\n",
              "       'TO', 'DATE', 'SUBJECT', 'CONTENT', 'FOLDER'],\n",
              "      dtype='object')"
            ]
          },
          "metadata": {},
          "execution_count": 75
        }
      ]
    },
    {
      "cell_type": "code",
      "metadata": {
        "colab": {
          "base_uri": "https://localhost:8080/",
          "height": 502
        },
        "id": "9ePMp9R6CyNK",
        "outputId": "c26f7bf9-6ee9-47c7-e8ac-2bf6c1c025d3"
      },
      "source": [
        "# Visualizando os atributos \n",
        "mensagens.head()"
      ],
      "execution_count": null,
      "outputs": [
        {
          "output_type": "execute_result",
          "data": {
            "text/html": [
              "<div>\n",
              "<style scoped>\n",
              "    .dataframe tbody tr th:only-of-type {\n",
              "        vertical-align: middle;\n",
              "    }\n",
              "\n",
              "    .dataframe tbody tr th {\n",
              "        vertical-align: top;\n",
              "    }\n",
              "\n",
              "    .dataframe thead th {\n",
              "        text-align: right;\n",
              "    }\n",
              "</style>\n",
              "<table border=\"1\" class=\"dataframe\">\n",
              "  <thead>\n",
              "    <tr style=\"text-align: right;\">\n",
              "      <th></th>\n",
              "      <th>CONVERSATION ID</th>\n",
              "      <th>CONVERSATION TITLE</th>\n",
              "      <th>FROM</th>\n",
              "      <th>SENDER PROFILE URL</th>\n",
              "      <th>TO</th>\n",
              "      <th>DATE</th>\n",
              "      <th>SUBJECT</th>\n",
              "      <th>CONTENT</th>\n",
              "      <th>FOLDER</th>\n",
              "    </tr>\n",
              "  </thead>\n",
              "  <tbody>\n",
              "    <tr>\n",
              "      <th>0</th>\n",
              "      <td>2-NDEzZmVmMWYtMjFjMC00YWJjLWI0YTgtMDY5ZWEzNzg0...</td>\n",
              "      <td>Congresso de Estatística - CONE 2021/2</td>\n",
              "      <td>NaN</td>\n",
              "      <td>NaN</td>\n",
              "      <td>NaN</td>\n",
              "      <td>2021-09-08 01:13:48 UTC</td>\n",
              "      <td>NaN</td>\n",
              "      <td>Lucas Souza added Lucas Souza to the conversat...</td>\n",
              "      <td>INBOX</td>\n",
              "    </tr>\n",
              "    <tr>\n",
              "      <th>1</th>\n",
              "      <td>2-NDEzZmVmMWYtMjFjMC00YWJjLWI0YTgtMDY5ZWEzNzg0...</td>\n",
              "      <td>Congresso de Estatística - CONE 2021/2</td>\n",
              "      <td>NaN</td>\n",
              "      <td>NaN</td>\n",
              "      <td>NaN</td>\n",
              "      <td>2021-09-07 22:20:21 UTC</td>\n",
              "      <td>NaN</td>\n",
              "      <td>Antonio Pinguello left the conversation.</td>\n",
              "      <td>INBOX</td>\n",
              "    </tr>\n",
              "    <tr>\n",
              "      <th>2</th>\n",
              "      <td>2-NDEzZmVmMWYtMjFjMC00YWJjLWI0YTgtMDY5ZWEzNzg0...</td>\n",
              "      <td>Congresso de Estatística - CONE 2021/2</td>\n",
              "      <td>Frederico Soares</td>\n",
              "      <td>https://www.linkedin.com/in/frederico-soares-5...</td>\n",
              "      <td>Patrícia Pinheiro Freitas,Tiago Lugatto,Julian...</td>\n",
              "      <td>2021-09-07 09:31:57 UTC</td>\n",
              "      <td>NaN</td>\n",
              "      <td>Bom dia Francisco, 🤝</td>\n",
              "      <td>INBOX</td>\n",
              "    </tr>\n",
              "    <tr>\n",
              "      <th>3</th>\n",
              "      <td>2-NDEzZmVmMWYtMjFjMC00YWJjLWI0YTgtMDY5ZWEzNzg0...</td>\n",
              "      <td>Congresso de Estatística - CONE 2021/2</td>\n",
              "      <td>Francisco  Augusto Macumo</td>\n",
              "      <td>https://www.linkedin.com/in/francisco-augusto-...</td>\n",
              "      <td>Patrícia Pinheiro Freitas,Tiago Lugatto,Julian...</td>\n",
              "      <td>2021-09-07 09:30:55 UTC</td>\n",
              "      <td>NaN</td>\n",
              "      <td>Valeu, Frederico</td>\n",
              "      <td>INBOX</td>\n",
              "    </tr>\n",
              "    <tr>\n",
              "      <th>4</th>\n",
              "      <td>2-NDEzZmVmMWYtMjFjMC00YWJjLWI0YTgtMDY5ZWEzNzg0...</td>\n",
              "      <td>Congresso de Estatística - CONE 2021/2</td>\n",
              "      <td>Frederico Soares</td>\n",
              "      <td>https://www.linkedin.com/in/frederico-soares-5...</td>\n",
              "      <td>Patrícia Pinheiro Freitas,Tiago Lugatto,Julian...</td>\n",
              "      <td>2021-09-07 09:24:14 UTC</td>\n",
              "      <td>NaN</td>\n",
              "      <td>👍</td>\n",
              "      <td>INBOX</td>\n",
              "    </tr>\n",
              "  </tbody>\n",
              "</table>\n",
              "</div>"
            ],
            "text/plain": [
              "                                     CONVERSATION ID  ... FOLDER\n",
              "0  2-NDEzZmVmMWYtMjFjMC00YWJjLWI0YTgtMDY5ZWEzNzg0...  ...  INBOX\n",
              "1  2-NDEzZmVmMWYtMjFjMC00YWJjLWI0YTgtMDY5ZWEzNzg0...  ...  INBOX\n",
              "2  2-NDEzZmVmMWYtMjFjMC00YWJjLWI0YTgtMDY5ZWEzNzg0...  ...  INBOX\n",
              "3  2-NDEzZmVmMWYtMjFjMC00YWJjLWI0YTgtMDY5ZWEzNzg0...  ...  INBOX\n",
              "4  2-NDEzZmVmMWYtMjFjMC00YWJjLWI0YTgtMDY5ZWEzNzg0...  ...  INBOX\n",
              "\n",
              "[5 rows x 9 columns]"
            ]
          },
          "metadata": {},
          "execution_count": 76
        }
      ]
    },
    {
      "cell_type": "code",
      "metadata": {
        "colab": {
          "base_uri": "https://localhost:8080/"
        },
        "id": "gt9zR32pC3EM",
        "outputId": "00c5746a-d444-444c-e747-18e53629cebe"
      },
      "source": [
        "#Verificando a quantidade de registros\n",
        "mensagens.shape"
      ],
      "execution_count": null,
      "outputs": [
        {
          "output_type": "execute_result",
          "data": {
            "text/plain": [
              "(868, 9)"
            ]
          },
          "metadata": {},
          "execution_count": 77
        }
      ]
    },
    {
      "cell_type": "code",
      "metadata": {
        "id": "8bxWGfX9DKaI"
      },
      "source": [
        "# Armazenando somente o conteúdo das mensagens\n",
        "mensagens = mensagens['CONTENT']"
      ],
      "execution_count": null,
      "outputs": []
    },
    {
      "cell_type": "code",
      "metadata": {
        "colab": {
          "base_uri": "https://localhost:8080/"
        },
        "id": "zIPBvtYoEgtS",
        "outputId": "58b09a9e-0ec3-4e56-8ada-475b2db84b81"
      },
      "source": [
        "# Verificando conteudo\n",
        "mensagens"
      ],
      "execution_count": null,
      "outputs": [
        {
          "output_type": "execute_result",
          "data": {
            "text/plain": [
              "0      Lucas Souza added Lucas Souza to the conversat...\n",
              "1               Antonio Pinguello left the conversation.\n",
              "2                                   Bom dia Francisco, 🤝\n",
              "3                                       Valeu, Frederico\n",
              "4                                                      👍\n",
              "                             ...                        \n",
              "863    Ol&aacute;,&nbsp;Lucas.Com base nas suas ativi...\n",
              "864    Ol&aacute;&nbsp;LucasPensando numa carreira in...\n",
              "865    Guten Morgen / guten Nachmittag / guten Abend ...\n",
              "866    Ol&aacute;,&nbsp;Lucas.Milh&otilde;es de usu&a...\n",
              "867    Hello Dear  How Are You  I want To Tell You Th...\n",
              "Name: CONTENT, Length: 868, dtype: object"
            ]
          },
          "metadata": {},
          "execution_count": 80
        }
      ]
    },
    {
      "cell_type": "code",
      "metadata": {
        "colab": {
          "base_uri": "https://localhost:8080/"
        },
        "id": "lIzlhhqjE5sv",
        "outputId": "ccdf70b9-0f36-4dcc-d75c-f46ef41387ad"
      },
      "source": [
        "# Verificando registros nulos\n",
        "mensagens.isna().sum()"
      ],
      "execution_count": null,
      "outputs": [
        {
          "output_type": "execute_result",
          "data": {
            "text/plain": [
              "23"
            ]
          },
          "metadata": {},
          "execution_count": 82
        }
      ]
    },
    {
      "cell_type": "code",
      "metadata": {
        "id": "ugqV8LCjFBA_"
      },
      "source": [
        "# Apagando registros nulos\n",
        "mensagens.dropna(inplace=True)"
      ],
      "execution_count": null,
      "outputs": []
    },
    {
      "cell_type": "code",
      "metadata": {
        "colab": {
          "base_uri": "https://localhost:8080/"
        },
        "id": "PXhaa3C5FOd6",
        "outputId": "f0441ec3-2e8e-4979-86c6-51106eb416f2"
      },
      "source": [
        "# Verificando quantidade de registros\n",
        "mensagens.shape"
      ],
      "execution_count": null,
      "outputs": [
        {
          "output_type": "execute_result",
          "data": {
            "text/plain": [
              "(845,)"
            ]
          },
          "metadata": {},
          "execution_count": 86
        }
      ]
    },
    {
      "cell_type": "code",
      "metadata": {
        "id": "yD-TSwKmFQpI"
      },
      "source": [
        "# Salvando arquivo tratado\n",
        "mensagens.to_csv('mensagens.csv')"
      ],
      "execution_count": null,
      "outputs": []
    },
    {
      "cell_type": "markdown",
      "metadata": {
        "id": "12B0v6FAH2Bz"
      },
      "source": [
        "# Base de dados de conexões"
      ]
    },
    {
      "cell_type": "markdown",
      "metadata": {
        "id": "RHSZJ5wTIIbP"
      },
      "source": [
        "## Número de conexões por período"
      ]
    },
    {
      "cell_type": "code",
      "metadata": {
        "id": "KPPD5YcdIkF7"
      },
      "source": [
        "# Importando bibliotecas necessárias\n",
        "import datetime\n",
        "import pandas as pd\n",
        "import plotly.express as px\n",
        "import numpy as np"
      ],
      "execution_count": null,
      "outputs": []
    },
    {
      "cell_type": "code",
      "metadata": {
        "colab": {
          "base_uri": "https://localhost:8080/"
        },
        "id": "rz1mesG5LAd5",
        "outputId": "6cf0b368-5206-401e-c23d-3abd8f8537ef"
      },
      "source": [
        "# Desinstalação da biblioteca antiga do plotly e instalação da mais atualizada\n",
        "!pip install --upgrade plotly"
      ],
      "execution_count": null,
      "outputs": [
        {
          "output_type": "stream",
          "name": "stdout",
          "text": [
            "Requirement already satisfied: plotly in /usr/local/lib/python3.7/dist-packages (5.3.1)\n",
            "Requirement already satisfied: tenacity>=6.2.0 in /usr/local/lib/python3.7/dist-packages (from plotly) (8.0.1)\n",
            "Requirement already satisfied: six in /usr/local/lib/python3.7/dist-packages (from plotly) (1.15.0)\n"
          ]
        }
      ]
    },
    {
      "cell_type": "code",
      "metadata": {
        "id": "DKrGzqKVKdbk"
      },
      "source": [
        "# Carregando as informações\n",
        "conexoes = pd.read_csv('conexoesV2.csv')"
      ],
      "execution_count": null,
      "outputs": []
    },
    {
      "cell_type": "code",
      "metadata": {
        "colab": {
          "base_uri": "https://localhost:8080/",
          "height": 292
        },
        "id": "5Hn-70ofKj2U",
        "outputId": "de670607-fd40-4684-ea05-60d49ea990db"
      },
      "source": [
        "# Verificando as informações\n",
        "conexoes.head()"
      ],
      "execution_count": null,
      "outputs": [
        {
          "output_type": "execute_result",
          "data": {
            "text/html": [
              "<div>\n",
              "<style scoped>\n",
              "    .dataframe tbody tr th:only-of-type {\n",
              "        vertical-align: middle;\n",
              "    }\n",
              "\n",
              "    .dataframe tbody tr th {\n",
              "        vertical-align: top;\n",
              "    }\n",
              "\n",
              "    .dataframe thead th {\n",
              "        text-align: right;\n",
              "    }\n",
              "</style>\n",
              "<table border=\"1\" class=\"dataframe\">\n",
              "  <thead>\n",
              "    <tr style=\"text-align: right;\">\n",
              "      <th></th>\n",
              "      <th>Unnamed: 0</th>\n",
              "      <th>Company</th>\n",
              "      <th>Position</th>\n",
              "      <th>Connected On</th>\n",
              "      <th>Full Name</th>\n",
              "    </tr>\n",
              "  </thead>\n",
              "  <tbody>\n",
              "    <tr>\n",
              "      <th>0</th>\n",
              "      <td>0</td>\n",
              "      <td>Locbreak</td>\n",
              "      <td>empresa de energia</td>\n",
              "      <td>2021-09-13</td>\n",
              "      <td>Locbreak Energia SustentÃ¡vel</td>\n",
              "    </tr>\n",
              "    <tr>\n",
              "      <th>1</th>\n",
              "      <td>1</td>\n",
              "      <td>Offerwise</td>\n",
              "      <td>Head Of Business Intelligence and Statistic Team</td>\n",
              "      <td>2021-09-13</td>\n",
              "      <td>Gustavo Gontijo</td>\n",
              "    </tr>\n",
              "    <tr>\n",
              "      <th>2</th>\n",
              "      <td>2</td>\n",
              "      <td>Ãris | LaboratÃ³rio de InovaÃ§Ã£o e Dados</td>\n",
              "      <td>Gestora de Projetos</td>\n",
              "      <td>2021-09-13</td>\n",
              "      <td>Renata Duarte</td>\n",
              "    </tr>\n",
              "    <tr>\n",
              "      <th>3</th>\n",
              "      <td>3</td>\n",
              "      <td>GR8 Sistemas e Tecnologia</td>\n",
              "      <td>Programador</td>\n",
              "      <td>2021-09-12</td>\n",
              "      <td>Michael Henrique Souza Ferreira</td>\n",
              "    </tr>\n",
              "    <tr>\n",
              "      <th>4</th>\n",
              "      <td>4</td>\n",
              "      <td>Mercado Livre</td>\n",
              "      <td>Data Scientist</td>\n",
              "      <td>2021-09-11</td>\n",
              "      <td>Paulo Benatti Alves</td>\n",
              "    </tr>\n",
              "  </tbody>\n",
              "</table>\n",
              "</div>"
            ],
            "text/plain": [
              "   Unnamed: 0  ...                        Full Name\n",
              "0           0  ...    Locbreak Energia SustentÃ¡vel\n",
              "1           1  ...                  Gustavo Gontijo\n",
              "2           2  ...                    Renata Duarte\n",
              "3           3  ...  Michael Henrique Souza Ferreira\n",
              "4           4  ...              Paulo Benatti Alves\n",
              "\n",
              "[5 rows x 5 columns]"
            ]
          },
          "metadata": {},
          "execution_count": 245
        }
      ]
    },
    {
      "cell_type": "code",
      "metadata": {
        "id": "OnJS7wBhKlF1"
      },
      "source": [
        "# Apagando informações desnecessárias\n",
        "conexoes.drop(labels = ['Unnamed: 0'], axis = 1, inplace=True)"
      ],
      "execution_count": null,
      "outputs": []
    },
    {
      "cell_type": "code",
      "metadata": {
        "colab": {
          "base_uri": "https://localhost:8080/",
          "height": 292
        },
        "id": "5iF82VZjK66J",
        "outputId": "1f2e1065-6482-46f3-e458-1e5232f31f48"
      },
      "source": [
        "# Validando os dados\n",
        "conexoes.head()"
      ],
      "execution_count": null,
      "outputs": [
        {
          "output_type": "execute_result",
          "data": {
            "text/html": [
              "<div>\n",
              "<style scoped>\n",
              "    .dataframe tbody tr th:only-of-type {\n",
              "        vertical-align: middle;\n",
              "    }\n",
              "\n",
              "    .dataframe tbody tr th {\n",
              "        vertical-align: top;\n",
              "    }\n",
              "\n",
              "    .dataframe thead th {\n",
              "        text-align: right;\n",
              "    }\n",
              "</style>\n",
              "<table border=\"1\" class=\"dataframe\">\n",
              "  <thead>\n",
              "    <tr style=\"text-align: right;\">\n",
              "      <th></th>\n",
              "      <th>Company</th>\n",
              "      <th>Position</th>\n",
              "      <th>Connected On</th>\n",
              "      <th>Full Name</th>\n",
              "    </tr>\n",
              "  </thead>\n",
              "  <tbody>\n",
              "    <tr>\n",
              "      <th>0</th>\n",
              "      <td>Locbreak</td>\n",
              "      <td>empresa de energia</td>\n",
              "      <td>2021-09-13</td>\n",
              "      <td>Locbreak Energia SustentÃ¡vel</td>\n",
              "    </tr>\n",
              "    <tr>\n",
              "      <th>1</th>\n",
              "      <td>Offerwise</td>\n",
              "      <td>Head Of Business Intelligence and Statistic Team</td>\n",
              "      <td>2021-09-13</td>\n",
              "      <td>Gustavo Gontijo</td>\n",
              "    </tr>\n",
              "    <tr>\n",
              "      <th>2</th>\n",
              "      <td>Ãris | LaboratÃ³rio de InovaÃ§Ã£o e Dados</td>\n",
              "      <td>Gestora de Projetos</td>\n",
              "      <td>2021-09-13</td>\n",
              "      <td>Renata Duarte</td>\n",
              "    </tr>\n",
              "    <tr>\n",
              "      <th>3</th>\n",
              "      <td>GR8 Sistemas e Tecnologia</td>\n",
              "      <td>Programador</td>\n",
              "      <td>2021-09-12</td>\n",
              "      <td>Michael Henrique Souza Ferreira</td>\n",
              "    </tr>\n",
              "    <tr>\n",
              "      <th>4</th>\n",
              "      <td>Mercado Livre</td>\n",
              "      <td>Data Scientist</td>\n",
              "      <td>2021-09-11</td>\n",
              "      <td>Paulo Benatti Alves</td>\n",
              "    </tr>\n",
              "  </tbody>\n",
              "</table>\n",
              "</div>"
            ],
            "text/plain": [
              "                                       Company  ...                        Full Name\n",
              "0                                     Locbreak  ...    Locbreak Energia SustentÃ¡vel\n",
              "1                                    Offerwise  ...                  Gustavo Gontijo\n",
              "2  Ãris | LaboratÃ³rio de InovaÃ§Ã£o e Dados   ...                    Renata Duarte\n",
              "3                    GR8 Sistemas e Tecnologia  ...  Michael Henrique Souza Ferreira\n",
              "4                                Mercado Livre  ...              Paulo Benatti Alves\n",
              "\n",
              "[5 rows x 4 columns]"
            ]
          },
          "metadata": {},
          "execution_count": 247
        }
      ]
    },
    {
      "cell_type": "code",
      "metadata": {
        "colab": {
          "base_uri": "https://localhost:8080/"
        },
        "id": "ZggZ4MuTO9oQ",
        "outputId": "3858f138-1908-4790-c342-a2966bc07997"
      },
      "source": [
        "# Verificando se possui dados nulos\n",
        "conexoes.isna().sum()"
      ],
      "execution_count": null,
      "outputs": [
        {
          "output_type": "execute_result",
          "data": {
            "text/plain": [
              "Company         0\n",
              "Position        0\n",
              "Connected On    0\n",
              "Full Name       0\n",
              "dtype: int64"
            ]
          },
          "metadata": {},
          "execution_count": 248
        }
      ]
    },
    {
      "cell_type": "code",
      "metadata": {
        "colab": {
          "base_uri": "https://localhost:8080/",
          "height": 542
        },
        "id": "6ZJDufrbM96Y",
        "outputId": "c6a95ba8-0d4e-49f0-d506-5d41cd53861b"
      },
      "source": [
        "#Plotando o gráfico para visualizar conexões\n",
        "grafico = px.scatter(conexoes, x = 'Full Name', y = 'Connected On')\n",
        "grafico.show()"
      ],
      "execution_count": null,
      "outputs": [
        {
          "output_type": "display_data",
          "data": {
            "text/html": [
              "<html>\n",
              "<head><meta charset=\"utf-8\" /></head>\n",
              "<body>\n",
              "    <div>            <script src=\"https://cdnjs.cloudflare.com/ajax/libs/mathjax/2.7.5/MathJax.js?config=TeX-AMS-MML_SVG\"></script><script type=\"text/javascript\">if (window.MathJax) {MathJax.Hub.Config({SVG: {font: \"STIX-Web\"}});}</script>                <script type=\"text/javascript\">window.PlotlyConfig = {MathJaxConfig: 'local'};</script>\n",
              "        <script src=\"https://cdn.plot.ly/plotly-2.4.2.min.js\"></script>                <div id=\"71c4d120-323d-434c-99a5-375216d71c14\" class=\"plotly-graph-div\" style=\"height:525px; width:100%;\"></div>            <script type=\"text/javascript\">                                    window.PLOTLYENV=window.PLOTLYENV || {};                                    if (document.getElementById(\"71c4d120-323d-434c-99a5-375216d71c14\")) {                    Plotly.newPlot(                        \"71c4d120-323d-434c-99a5-375216d71c14\",                        [{\"hovertemplate\":\"Full Name=%{x}<br>Connected On=%{y}<extra></extra>\",\"legendgroup\":\"\",\"marker\":{\"color\":\"#636efa\",\"symbol\":\"circle\"},\"mode\":\"markers\",\"name\":\"\",\"orientation\":\"v\",\"showlegend\":false,\"type\":\"scatter\",\"x\":[\"Locbreak Energia Sustent\\u00c3\\u00a1vel\",\"Gustavo Gontijo\",\"Renata Duarte\",\"Michael Henrique Souza Ferreira\",\"Paulo Benatti Alves\",\"Paulo Tacio Nascimento\",\"Alisson Pedro\",\"Laryssa Oliveira\",\"Natalia Gon\\u00c3\\u00a7alves\",\"Maximiliano Meyer\",\"Bruno Henrique Neves \\u00f0\\u0178\\u0161\\u20ac\",\"Helen Acypreste\",\"Gustavo Abbomerato Zantut\",\"Wellington C. Faria\",\"Davi Vieira\",\"Victor de S\\u00c3\\u00a1 Nunes\",\"Andr\\u00c3\\u00a9 Veit\",\"Fabio Akamine\",\"Sophia Machado\",\"Robson Roger\",\"Victor Leite\",\"Gabriel Araujo Campos\",\"Gabriel Sousa\",\"Thomaz Jorge\",\"Fabiano Carvalho\",\"Gabs Ferreira\",\"Gustavo Siqueira Vinhal\",\"Ana Carolina Soares Moura\",\"N\\u00c3\\u00a1iron Guimar\\u00c3\\u00a3es\",\"Gui Monteiro\",\"Juraci Gomes\",\"Luana Carvalho\",\"Isabel Rubim\",\"Gabriel Ferreira\",\"Fernanda  Aires \",\"Maria Fernanda Santana\",\"Michele  Barbosa\",\"Jos\\u00c3\\u00a9 Luis Salas Rincon\",\"Matheus Cunha\",\"Arlindo Galv\\u00c3\\u00a3o\",\"Claudio Bertini Batista\",\"Teresa Santiago\",\"Eliel Silveira\",\"Fernando Daniel Porras\",\"Renato D. Machado\",\"Devanir Souza\",\"Moises Alves da costa\",\"Bruna Paes\",\"Oct\\u00c3\\u00a1vio Lo Leggio\",\"Elton Batista de Almeida\",\"Gabriel  Villa Real Bandeira\",\"Alexandre Tannus\",\"Lucas Castro\",\"Lucas Ferreira Madruga\",\"Diego Dantas\",\"Davide Coccomini\",\"Hermes  da Fonseca\",\"Alexander Litvinov\",\"Leon Guerra\",\"Alexssander Costa  Sousa\",\"Flavia Carrera\",\"Ivan Corr\\u00c3\\u00aaa .'.\",\"Kamilla Nascimento\",\"Marcos Paulo Estevam\",\"Ellen Bertoldo\",\"Lucas Silva\",\"Hayander Landi\",\"Lais Pereira Felipe\",\"Leandro Xavier\",\"Thiago Amaral da Cunha\",\"Vanice Mora de Souza\",\"Standisley Sousa\",\"Diego Beltrame\",\"Tiago Oliveira - Corretor Hi-tech\",\"Patricia Pereira Muniz  Gomes\",\"Paulo Bueno\",\"Filippo Alberganti\",\"Luiz Felipe Pacheco Eleoterio\",\"Thaynara Alves Serhan Wahbe\",\"Tiago Macul\",\"Eder Freddi\",\"Aline Silva\",\"Umberto S Junior\",\"Leandra Lima\",\"Guilherme Lopes\",\"Andr\\u00c3\\u00a9 Luiz Astrol de Oliveira\",\"Rhea Moutafis\",\"Gleisson Bispo\",\"Mathaus Batista\",\"Carlos Falconiere De Araujo Filho\",\"Adilson Brambilla Rodrigues\",\"Junior Ferreira\",\"Fernando Brito\",\"Pedro Henrique Alves dos Santos\",\"Joao Saes\",\"Office Hostel\",\"Luciana Oliveira\",\"Gabriela Mansur\",\"S\\u00c3\\u00a9rgio Marques\",\"Luisa Escobar (She/Her)\",\"Marcos Douglas\",\"Vin\\u00c3\\u00adcius Montes\",\"Claudio Avila\",\"Carolina Rodrigues\",\"Marcus Vinicius Kobayashi de Moraes\",\"Thiago Sousa\",\"Jos\\u00c3\\u00a9 Evandeilton Lopes\",\"Lucas Borges\",\"Victor Pless\",\"Ronan Morgado\",\"Fernanda Faleiro Lima de Sousa\",\"Bruna Caroline\",\"Vinicius Costa\",\"Jo\\u00c3\\u00a3o Augusto\",\"Jeferson Marques Cunha\",\"Jo\\u00c3\\u00a3o Augusto\",\"Debora Araujo\",\"Lucas Carvalho\",\"Luiz Augusto Santana\",\"Rubi Rivera Rodriguez\",\"Celso Einstein Melges Arnaut\",\"Anderson L. Amaral\",\"Higor Pereira\",\"Igor Eduardo\",\"Ludmila Vilela\",\"Marcos Andre Gomes de Melo Junior - SFC- SFPC -SMPC - SPOPC\",\"Isilene Alves Isa\",\"Ariel Crezo Ferreira\",\"Alex Junio\",\"Julio Roberto Oliveira\",\"Ycaro Kayk\",\"Tiago Braile\",\"Beatriz Milhomem\",\"Allan Sene\",\"Catarine Sales\",\"Livia Silva Mateus\",\"Luis Eduardo da Silva Maia\",\"J\\u00c3\\u00a9ssika Alves\",\"Beatriz Dias\",\"\\u00c3\\u008dtalo Fernandes Gon\\u00c3\\u00a7alves\",\"Ubiratan Silva\",\"Douglas Vieira Do Nascimento\",\"Waine Karla  Nogueira \",\"R\\u00c3\\u00b4mulo Feitosa Flexa Junior\",\"Laura Azevedo Freitas\",\"Daniele Lima\",\"Leandro Martins\",\"Jakeline Oliveira\",\"Murilo Barros Peixoto\",\"\\u00f0\\u0178\\u0090\\u00b6 Jacco van der Kooij\",\"N\\u00c3\\u00a1dia Tatiele\",\"Marcos Sousa\",\"Felipe Fialho\",\"Isabela Maia\",\"Lorran Bonif\\u00c3\\u00a1cio\",\"Roberto Portella\",\"Evandro Barros\",\"Adriano Lima\",\"J\\u00c3\\u00balio C\\u00c3\\u00a9sar Pessoa\",\"Amanda Silvestre\",\"FABRICIA RIBEIRO\",\"Anderson Soares\",\"Felipe Antunes\",\"LIS N\\u00c3\\u201cBREGA DE ALMEIDA\",\"Vitor Hugo R Miranda\",\"Felipe Santiago\",\"Amanda Manzi\",\"Daniel Vieira\",\"Gabriele Araujo\",\"Amanda Amaral Alves\",\"J\\u00c3\\u00balia De Melo Pinto\",\"Gabriel Rodrigues\",\"Cl\\u00c3\\u00b3vis de Barros Filho\",\"Isabela Miranda Souza\",\"Paulo Henrique Barbosa Lopes\",\"Ricardo  Pacas\",\"Victorya Yasmim\",\"Luciano Krol\",\"Maria Eduarda Peres\",\"Lorena Silva\",\"J\\u00c3\\u00a9ssica  Lira\",\"Maria Clara Morais\",\"Camila Almeida\",\"Stephanie Moraes\",\"Vin\\u00c3\\u00adcius Mayrink\",\"Felippe Pereira\",\"Andressa Lippert\",\"Gabriel Saraiva\",\"Lara Cristina Lacerda Silva\",\"Jeferson Propheta\",\"Eliseu Rodrigues\",\"Ranielly Coelho\",\"Guilherme Melo\",\"Fabiano Leao\",\"Jo\\u00c3\\u00a3o Santos\",\"Fouad Ata\",\"Helena Maria Schmitz \\u00f0\\u0178\\u0161\\u20ac\",\"Vin\\u00c3\\u00adcius Lima\",\"J\\u00c3\\u00a9ssica  Resende \",\"Brunna Campos Salzmann\",\"Caian Santiago\",\"Desiron Filho\",\"Matheus Guimar\\u00c3\\u00a3es\",\"Gabriel Prates\",\"Allan Ramos\",\"Aeliton Rodrigues\",\"Thalita Souza\",\"Rodrigo Marques Teixeira\",\"Rodrigo  Santos\",\"Luiz Andre Bento\",\"J\\u00c3\\u00bcrgen St\\u00c3\\u00bcber\",\"Brunna Gualberto\",\"Paulo Reis de Oliveira\",\"Pedro Waengertner\",\"Diego Cordovez\",\"Thiago Vieira de Sousa\",\"Reginaldo Costa\",\"Gustavo Vila Verde\",\"Arles Sant Ana\",\"Antonio Luiz Alves\",\"Jos\\u00c3\\u00a9 Vicente Jonas Fran\\u00c3\\u00a7a\",\"Yan D\\u00c3\\u00a2maso\",\"Cesar Brasil\"],\"xaxis\":\"x\",\"y\":[\"2021-09-13\",\"2021-09-13\",\"2021-09-13\",\"2021-09-12\",\"2021-09-11\",\"2021-09-11\",\"2021-09-11\",\"2021-09-10\",\"2021-09-10\",\"2021-09-10\",\"2021-09-10\",\"2021-09-09\",\"2021-09-09\",\"2021-09-08\",\"2021-09-08\",\"2021-09-08\",\"2021-09-08\",\"2021-09-06\",\"2021-09-04\",\"2021-09-04\",\"2021-09-03\",\"2021-09-03\",\"2021-09-03\",\"2021-09-03\",\"2021-09-01\",\"2021-09-01\",\"2021-09-01\",\"2021-09-01\",\"2021-09-01\",\"2021-09-01\",\"2021-09-01\",\"2021-09-01\",\"2021-09-01\",\"2021-09-01\",\"2021-09-01\",\"2021-09-01\",\"2021-09-01\",\"2021-09-01\",\"2021-09-01\",\"2021-09-01\",\"2021-08-31\",\"2021-08-30\",\"2021-08-28\",\"2021-08-27\",\"2021-08-27\",\"2021-08-25\",\"2021-08-25\",\"2021-08-24\",\"2021-08-24\",\"2021-08-23\",\"2021-08-21\",\"2021-08-21\",\"2021-08-17\",\"2021-08-16\",\"2021-08-16\",\"2018-08-15\",\"2021-08-14\",\"2021-08-14\",\"2021-08-14\",\"2021-08-14\",\"2021-08-13\",\"2021-07-25\",\"2021-07-22\",\"2021-07-16\",\"2021-05-14\",\"2021-03-04\",\"2021-02-23\",\"2021-01-26\",\"2021-01-22\",\"2021-01-14\",\"2021-01-14\",\"2021-01-13\",\"2021-01-12\",\"2020-12-22\",\"2020-12-11\",\"2020-11-16\",\"2020-10-21\",\"2020-10-20\",\"2020-10-19\",\"2020-10-08\",\"2020-09-24\",\"2020-09-23\",\"2020-08-19\",\"2020-08-12\",\"2020-06-08\",\"2020-04-27\",\"2020-04-26\",\"2020-05-22\",\"2020-03-15\",\"2020-03-13\",\"2020-03-04\",\"2020-03-04\",\"2020-02-21\",\"2020-02-21\",\"2020-02-14\",\"2020-01-13\",\"2020-01-08\",\"2020-01-03\",\"2019-12-30\",\"2019-12-30\",\"2019-12-16\",\"2019-12-16\",\"2019-11-25\",\"2019-11-11\",\"2019-10-11\",\"2019-10-03\",\"2019-09-27\",\"2019-09-25\",\"2019-09-25\",\"2019-09-23\",\"2019-09-23\",\"2019-09-20\",\"2019-09-20\",\"2019-09-18\",\"2019-09-03\",\"2019-08-23\",\"2019-08-20\",\"2019-08-20\",\"2019-08-20\",\"2019-08-15\",\"2019-08-14\",\"2019-06-19\",\"2019-06-17\",\"2019-06-10\",\"2019-06-07\",\"2019-05-04\",\"2019-05-04\",\"2019-04-30\",\"2019-04-27\",\"2019-04-27\",\"2019-04-17\",\"2019-03-29\",\"2019-03-25\",\"2019-03-19\",\"2019-02-25\",\"2019-02-18\",\"2019-02-18\",\"2019-02-05\",\"2019-02-04\",\"2019-02-04\",\"2019-01-31\",\"2019-01-29\",\"2019-01-29\",\"2019-01-29\",\"2019-01-29\",\"2019-01-28\",\"2019-01-28\",\"2019-01-25\",\"2019-01-24\",\"2019-01-08\",\"2018-12-18\",\"2018-10-03\",\"2018-11-06\",\"2018-11-01\",\"2018-10-09\",\"2018-10-08\",\"2018-10-04\",\"2018-10-03\",\"2018-08-01\",\"2018-09-28\",\"2018-09-24\",\"2018-09-24\",\"2018-09-23\",\"2018-09-14\",\"2018-09-10\",\"2018-09-10\",\"2018-08-29\",\"2018-08-22\",\"2018-08-16\",\"2018-08-15\",\"2018-07-30\",\"2018-07-30\",\"2018-07-16\",\"2018-07-10\",\"2018-07-10\",\"2018-07-09\",\"2018-07-09\",\"2018-07-07\",\"2018-07-06\",\"2018-07-06\",\"2018-07-06\",\"2018-07-06\",\"2018-07-06\",\"2018-07-06\",\"2018-07-04\",\"2018-06-25\",\"2018-06-14\",\"2018-06-14\",\"2018-06-07\",\"2018-05-28\",\"2018-05-24\",\"2018-05-23\",\"2018-05-17\",\"2018-05-16\",\"2018-05-11\",\"2018-05-05\",\"2018-04-30\",\"2018-04-27\",\"2018-04-27\",\"2018-04-25\",\"2018-04-08\",\"2018-10-03\",\"2018-03-20\",\"2018-03-13\",\"2018-03-09\",\"2018-03-07\",\"2018-02-27\",\"2018-02-26\",\"2018-02-20\",\"2018-02-14\",\"2018-02-02\",\"2018-01-23\",\"2018-01-18\",\"2018-01-12\",\"2018-01-09\",\"2017-12-21\",\"2017-12-15\",\"2017-12-13\",\"2017-12-12\",\"2017-12-08\",\"2017-11-22\",\"2017-11-20\",\"2017-10-31\"],\"yaxis\":\"y\"}],                        {\"legend\":{\"tracegroupgap\":0},\"margin\":{\"t\":60},\"template\":{\"data\":{\"bar\":[{\"error_x\":{\"color\":\"#2a3f5f\"},\"error_y\":{\"color\":\"#2a3f5f\"},\"marker\":{\"line\":{\"color\":\"#E5ECF6\",\"width\":0.5},\"pattern\":{\"fillmode\":\"overlay\",\"size\":10,\"solidity\":0.2}},\"type\":\"bar\"}],\"barpolar\":[{\"marker\":{\"line\":{\"color\":\"#E5ECF6\",\"width\":0.5},\"pattern\":{\"fillmode\":\"overlay\",\"size\":10,\"solidity\":0.2}},\"type\":\"barpolar\"}],\"carpet\":[{\"aaxis\":{\"endlinecolor\":\"#2a3f5f\",\"gridcolor\":\"white\",\"linecolor\":\"white\",\"minorgridcolor\":\"white\",\"startlinecolor\":\"#2a3f5f\"},\"baxis\":{\"endlinecolor\":\"#2a3f5f\",\"gridcolor\":\"white\",\"linecolor\":\"white\",\"minorgridcolor\":\"white\",\"startlinecolor\":\"#2a3f5f\"},\"type\":\"carpet\"}],\"choropleth\":[{\"colorbar\":{\"outlinewidth\":0,\"ticks\":\"\"},\"type\":\"choropleth\"}],\"contour\":[{\"colorbar\":{\"outlinewidth\":0,\"ticks\":\"\"},\"colorscale\":[[0.0,\"#0d0887\"],[0.1111111111111111,\"#46039f\"],[0.2222222222222222,\"#7201a8\"],[0.3333333333333333,\"#9c179e\"],[0.4444444444444444,\"#bd3786\"],[0.5555555555555556,\"#d8576b\"],[0.6666666666666666,\"#ed7953\"],[0.7777777777777778,\"#fb9f3a\"],[0.8888888888888888,\"#fdca26\"],[1.0,\"#f0f921\"]],\"type\":\"contour\"}],\"contourcarpet\":[{\"colorbar\":{\"outlinewidth\":0,\"ticks\":\"\"},\"type\":\"contourcarpet\"}],\"heatmap\":[{\"colorbar\":{\"outlinewidth\":0,\"ticks\":\"\"},\"colorscale\":[[0.0,\"#0d0887\"],[0.1111111111111111,\"#46039f\"],[0.2222222222222222,\"#7201a8\"],[0.3333333333333333,\"#9c179e\"],[0.4444444444444444,\"#bd3786\"],[0.5555555555555556,\"#d8576b\"],[0.6666666666666666,\"#ed7953\"],[0.7777777777777778,\"#fb9f3a\"],[0.8888888888888888,\"#fdca26\"],[1.0,\"#f0f921\"]],\"type\":\"heatmap\"}],\"heatmapgl\":[{\"colorbar\":{\"outlinewidth\":0,\"ticks\":\"\"},\"colorscale\":[[0.0,\"#0d0887\"],[0.1111111111111111,\"#46039f\"],[0.2222222222222222,\"#7201a8\"],[0.3333333333333333,\"#9c179e\"],[0.4444444444444444,\"#bd3786\"],[0.5555555555555556,\"#d8576b\"],[0.6666666666666666,\"#ed7953\"],[0.7777777777777778,\"#fb9f3a\"],[0.8888888888888888,\"#fdca26\"],[1.0,\"#f0f921\"]],\"type\":\"heatmapgl\"}],\"histogram\":[{\"marker\":{\"pattern\":{\"fillmode\":\"overlay\",\"size\":10,\"solidity\":0.2}},\"type\":\"histogram\"}],\"histogram2d\":[{\"colorbar\":{\"outlinewidth\":0,\"ticks\":\"\"},\"colorscale\":[[0.0,\"#0d0887\"],[0.1111111111111111,\"#46039f\"],[0.2222222222222222,\"#7201a8\"],[0.3333333333333333,\"#9c179e\"],[0.4444444444444444,\"#bd3786\"],[0.5555555555555556,\"#d8576b\"],[0.6666666666666666,\"#ed7953\"],[0.7777777777777778,\"#fb9f3a\"],[0.8888888888888888,\"#fdca26\"],[1.0,\"#f0f921\"]],\"type\":\"histogram2d\"}],\"histogram2dcontour\":[{\"colorbar\":{\"outlinewidth\":0,\"ticks\":\"\"},\"colorscale\":[[0.0,\"#0d0887\"],[0.1111111111111111,\"#46039f\"],[0.2222222222222222,\"#7201a8\"],[0.3333333333333333,\"#9c179e\"],[0.4444444444444444,\"#bd3786\"],[0.5555555555555556,\"#d8576b\"],[0.6666666666666666,\"#ed7953\"],[0.7777777777777778,\"#fb9f3a\"],[0.8888888888888888,\"#fdca26\"],[1.0,\"#f0f921\"]],\"type\":\"histogram2dcontour\"}],\"mesh3d\":[{\"colorbar\":{\"outlinewidth\":0,\"ticks\":\"\"},\"type\":\"mesh3d\"}],\"parcoords\":[{\"line\":{\"colorbar\":{\"outlinewidth\":0,\"ticks\":\"\"}},\"type\":\"parcoords\"}],\"pie\":[{\"automargin\":true,\"type\":\"pie\"}],\"scatter\":[{\"marker\":{\"colorbar\":{\"outlinewidth\":0,\"ticks\":\"\"}},\"type\":\"scatter\"}],\"scatter3d\":[{\"line\":{\"colorbar\":{\"outlinewidth\":0,\"ticks\":\"\"}},\"marker\":{\"colorbar\":{\"outlinewidth\":0,\"ticks\":\"\"}},\"type\":\"scatter3d\"}],\"scattercarpet\":[{\"marker\":{\"colorbar\":{\"outlinewidth\":0,\"ticks\":\"\"}},\"type\":\"scattercarpet\"}],\"scattergeo\":[{\"marker\":{\"colorbar\":{\"outlinewidth\":0,\"ticks\":\"\"}},\"type\":\"scattergeo\"}],\"scattergl\":[{\"marker\":{\"colorbar\":{\"outlinewidth\":0,\"ticks\":\"\"}},\"type\":\"scattergl\"}],\"scattermapbox\":[{\"marker\":{\"colorbar\":{\"outlinewidth\":0,\"ticks\":\"\"}},\"type\":\"scattermapbox\"}],\"scatterpolar\":[{\"marker\":{\"colorbar\":{\"outlinewidth\":0,\"ticks\":\"\"}},\"type\":\"scatterpolar\"}],\"scatterpolargl\":[{\"marker\":{\"colorbar\":{\"outlinewidth\":0,\"ticks\":\"\"}},\"type\":\"scatterpolargl\"}],\"scatterternary\":[{\"marker\":{\"colorbar\":{\"outlinewidth\":0,\"ticks\":\"\"}},\"type\":\"scatterternary\"}],\"surface\":[{\"colorbar\":{\"outlinewidth\":0,\"ticks\":\"\"},\"colorscale\":[[0.0,\"#0d0887\"],[0.1111111111111111,\"#46039f\"],[0.2222222222222222,\"#7201a8\"],[0.3333333333333333,\"#9c179e\"],[0.4444444444444444,\"#bd3786\"],[0.5555555555555556,\"#d8576b\"],[0.6666666666666666,\"#ed7953\"],[0.7777777777777778,\"#fb9f3a\"],[0.8888888888888888,\"#fdca26\"],[1.0,\"#f0f921\"]],\"type\":\"surface\"}],\"table\":[{\"cells\":{\"fill\":{\"color\":\"#EBF0F8\"},\"line\":{\"color\":\"white\"}},\"header\":{\"fill\":{\"color\":\"#C8D4E3\"},\"line\":{\"color\":\"white\"}},\"type\":\"table\"}]},\"layout\":{\"annotationdefaults\":{\"arrowcolor\":\"#2a3f5f\",\"arrowhead\":0,\"arrowwidth\":1},\"autotypenumbers\":\"strict\",\"coloraxis\":{\"colorbar\":{\"outlinewidth\":0,\"ticks\":\"\"}},\"colorscale\":{\"diverging\":[[0,\"#8e0152\"],[0.1,\"#c51b7d\"],[0.2,\"#de77ae\"],[0.3,\"#f1b6da\"],[0.4,\"#fde0ef\"],[0.5,\"#f7f7f7\"],[0.6,\"#e6f5d0\"],[0.7,\"#b8e186\"],[0.8,\"#7fbc41\"],[0.9,\"#4d9221\"],[1,\"#276419\"]],\"sequential\":[[0.0,\"#0d0887\"],[0.1111111111111111,\"#46039f\"],[0.2222222222222222,\"#7201a8\"],[0.3333333333333333,\"#9c179e\"],[0.4444444444444444,\"#bd3786\"],[0.5555555555555556,\"#d8576b\"],[0.6666666666666666,\"#ed7953\"],[0.7777777777777778,\"#fb9f3a\"],[0.8888888888888888,\"#fdca26\"],[1.0,\"#f0f921\"]],\"sequentialminus\":[[0.0,\"#0d0887\"],[0.1111111111111111,\"#46039f\"],[0.2222222222222222,\"#7201a8\"],[0.3333333333333333,\"#9c179e\"],[0.4444444444444444,\"#bd3786\"],[0.5555555555555556,\"#d8576b\"],[0.6666666666666666,\"#ed7953\"],[0.7777777777777778,\"#fb9f3a\"],[0.8888888888888888,\"#fdca26\"],[1.0,\"#f0f921\"]]},\"colorway\":[\"#636efa\",\"#EF553B\",\"#00cc96\",\"#ab63fa\",\"#FFA15A\",\"#19d3f3\",\"#FF6692\",\"#B6E880\",\"#FF97FF\",\"#FECB52\"],\"font\":{\"color\":\"#2a3f5f\"},\"geo\":{\"bgcolor\":\"white\",\"lakecolor\":\"white\",\"landcolor\":\"#E5ECF6\",\"showlakes\":true,\"showland\":true,\"subunitcolor\":\"white\"},\"hoverlabel\":{\"align\":\"left\"},\"hovermode\":\"closest\",\"mapbox\":{\"style\":\"light\"},\"paper_bgcolor\":\"white\",\"plot_bgcolor\":\"#E5ECF6\",\"polar\":{\"angularaxis\":{\"gridcolor\":\"white\",\"linecolor\":\"white\",\"ticks\":\"\"},\"bgcolor\":\"#E5ECF6\",\"radialaxis\":{\"gridcolor\":\"white\",\"linecolor\":\"white\",\"ticks\":\"\"}},\"scene\":{\"xaxis\":{\"backgroundcolor\":\"#E5ECF6\",\"gridcolor\":\"white\",\"gridwidth\":2,\"linecolor\":\"white\",\"showbackground\":true,\"ticks\":\"\",\"zerolinecolor\":\"white\"},\"yaxis\":{\"backgroundcolor\":\"#E5ECF6\",\"gridcolor\":\"white\",\"gridwidth\":2,\"linecolor\":\"white\",\"showbackground\":true,\"ticks\":\"\",\"zerolinecolor\":\"white\"},\"zaxis\":{\"backgroundcolor\":\"#E5ECF6\",\"gridcolor\":\"white\",\"gridwidth\":2,\"linecolor\":\"white\",\"showbackground\":true,\"ticks\":\"\",\"zerolinecolor\":\"white\"}},\"shapedefaults\":{\"line\":{\"color\":\"#2a3f5f\"}},\"ternary\":{\"aaxis\":{\"gridcolor\":\"white\",\"linecolor\":\"white\",\"ticks\":\"\"},\"baxis\":{\"gridcolor\":\"white\",\"linecolor\":\"white\",\"ticks\":\"\"},\"bgcolor\":\"#E5ECF6\",\"caxis\":{\"gridcolor\":\"white\",\"linecolor\":\"white\",\"ticks\":\"\"}},\"title\":{\"x\":0.05},\"xaxis\":{\"automargin\":true,\"gridcolor\":\"white\",\"linecolor\":\"white\",\"ticks\":\"\",\"title\":{\"standoff\":15},\"zerolinecolor\":\"white\",\"zerolinewidth\":2},\"yaxis\":{\"automargin\":true,\"gridcolor\":\"white\",\"linecolor\":\"white\",\"ticks\":\"\",\"title\":{\"standoff\":15},\"zerolinecolor\":\"white\",\"zerolinewidth\":2}}},\"xaxis\":{\"anchor\":\"y\",\"domain\":[0.0,1.0],\"title\":{\"text\":\"Full Name\"}},\"yaxis\":{\"anchor\":\"x\",\"domain\":[0.0,1.0],\"title\":{\"text\":\"Connected On\"}}},                        {\"responsive\": true}                    ).then(function(){\n",
              "                            \n",
              "var gd = document.getElementById('71c4d120-323d-434c-99a5-375216d71c14');\n",
              "var x = new MutationObserver(function (mutations, observer) {{\n",
              "        var display = window.getComputedStyle(gd).display;\n",
              "        if (!display || display === 'none') {{\n",
              "            console.log([gd, 'removed!']);\n",
              "            Plotly.purge(gd);\n",
              "            observer.disconnect();\n",
              "        }}\n",
              "}});\n",
              "\n",
              "// Listen for the removal of the full notebook cells\n",
              "var notebookContainer = gd.closest('#notebook-container');\n",
              "if (notebookContainer) {{\n",
              "    x.observe(notebookContainer, {childList: true});\n",
              "}}\n",
              "\n",
              "// Listen for the clearing of the current output cell\n",
              "var outputEl = gd.closest('.output');\n",
              "if (outputEl) {{\n",
              "    x.observe(outputEl, {childList: true});\n",
              "}}\n",
              "\n",
              "                        })                };                            </script>        </div>\n",
              "</body>\n",
              "</html>"
            ]
          },
          "metadata": {}
        }
      ]
    },
    {
      "cell_type": "code",
      "metadata": {
        "colab": {
          "base_uri": "https://localhost:8080/",
          "height": 454
        },
        "id": "GEJE0jFHi0Q_",
        "outputId": "593f610a-f19e-4df0-8353-1c04c0ebadde"
      },
      "source": [
        "#Agrupando e contanto quantoas conexões tivemos por data\n",
        "conexoes.groupby(by = 'Connected On').count()"
      ],
      "execution_count": null,
      "outputs": [
        {
          "output_type": "execute_result",
          "data": {
            "text/html": [
              "<div>\n",
              "<style scoped>\n",
              "    .dataframe tbody tr th:only-of-type {\n",
              "        vertical-align: middle;\n",
              "    }\n",
              "\n",
              "    .dataframe tbody tr th {\n",
              "        vertical-align: top;\n",
              "    }\n",
              "\n",
              "    .dataframe thead th {\n",
              "        text-align: right;\n",
              "    }\n",
              "</style>\n",
              "<table border=\"1\" class=\"dataframe\">\n",
              "  <thead>\n",
              "    <tr style=\"text-align: right;\">\n",
              "      <th></th>\n",
              "      <th>Company</th>\n",
              "      <th>Position</th>\n",
              "      <th>Full Name</th>\n",
              "    </tr>\n",
              "    <tr>\n",
              "      <th>Connected On</th>\n",
              "      <th></th>\n",
              "      <th></th>\n",
              "      <th></th>\n",
              "    </tr>\n",
              "  </thead>\n",
              "  <tbody>\n",
              "    <tr>\n",
              "      <th>2017-10-31</th>\n",
              "      <td>1</td>\n",
              "      <td>1</td>\n",
              "      <td>1</td>\n",
              "    </tr>\n",
              "    <tr>\n",
              "      <th>2017-11-20</th>\n",
              "      <td>1</td>\n",
              "      <td>1</td>\n",
              "      <td>1</td>\n",
              "    </tr>\n",
              "    <tr>\n",
              "      <th>2017-11-22</th>\n",
              "      <td>1</td>\n",
              "      <td>1</td>\n",
              "      <td>1</td>\n",
              "    </tr>\n",
              "    <tr>\n",
              "      <th>2017-12-08</th>\n",
              "      <td>1</td>\n",
              "      <td>1</td>\n",
              "      <td>1</td>\n",
              "    </tr>\n",
              "    <tr>\n",
              "      <th>2017-12-12</th>\n",
              "      <td>1</td>\n",
              "      <td>1</td>\n",
              "      <td>1</td>\n",
              "    </tr>\n",
              "    <tr>\n",
              "      <th>...</th>\n",
              "      <td>...</td>\n",
              "      <td>...</td>\n",
              "      <td>...</td>\n",
              "    </tr>\n",
              "    <tr>\n",
              "      <th>2021-09-09</th>\n",
              "      <td>2</td>\n",
              "      <td>2</td>\n",
              "      <td>2</td>\n",
              "    </tr>\n",
              "    <tr>\n",
              "      <th>2021-09-10</th>\n",
              "      <td>4</td>\n",
              "      <td>4</td>\n",
              "      <td>4</td>\n",
              "    </tr>\n",
              "    <tr>\n",
              "      <th>2021-09-11</th>\n",
              "      <td>3</td>\n",
              "      <td>3</td>\n",
              "      <td>3</td>\n",
              "    </tr>\n",
              "    <tr>\n",
              "      <th>2021-09-12</th>\n",
              "      <td>1</td>\n",
              "      <td>1</td>\n",
              "      <td>1</td>\n",
              "    </tr>\n",
              "    <tr>\n",
              "      <th>2021-09-13</th>\n",
              "      <td>3</td>\n",
              "      <td>3</td>\n",
              "      <td>3</td>\n",
              "    </tr>\n",
              "  </tbody>\n",
              "</table>\n",
              "<p>152 rows × 3 columns</p>\n",
              "</div>"
            ],
            "text/plain": [
              "              Company  Position  Full Name\n",
              "Connected On                              \n",
              "2017-10-31          1         1          1\n",
              "2017-11-20          1         1          1\n",
              "2017-11-22          1         1          1\n",
              "2017-12-08          1         1          1\n",
              "2017-12-12          1         1          1\n",
              "...               ...       ...        ...\n",
              "2021-09-09          2         2          2\n",
              "2021-09-10          4         4          4\n",
              "2021-09-11          3         3          3\n",
              "2021-09-12          1         1          1\n",
              "2021-09-13          3         3          3\n",
              "\n",
              "[152 rows x 3 columns]"
            ]
          },
          "metadata": {},
          "execution_count": 250
        }
      ]
    },
    {
      "cell_type": "code",
      "metadata": {
        "colab": {
          "base_uri": "https://localhost:8080/",
          "height": 542
        },
        "id": "xQzchZPoi2jf",
        "outputId": "35cf9288-2221-4d7a-fc2a-b7f999dce621"
      },
      "source": [
        "# Grafico para visualizar durante o tempo na minha conta\n",
        "grafico = px.line(conexoes.groupby(by = 'Connected On').count(), title = 'Novas conexões por data')\n",
        "grafico.show()"
      ],
      "execution_count": null,
      "outputs": [
        {
          "output_type": "display_data",
          "data": {
            "text/html": [
              "<html>\n",
              "<head><meta charset=\"utf-8\" /></head>\n",
              "<body>\n",
              "    <div>            <script src=\"https://cdnjs.cloudflare.com/ajax/libs/mathjax/2.7.5/MathJax.js?config=TeX-AMS-MML_SVG\"></script><script type=\"text/javascript\">if (window.MathJax) {MathJax.Hub.Config({SVG: {font: \"STIX-Web\"}});}</script>                <script type=\"text/javascript\">window.PlotlyConfig = {MathJaxConfig: 'local'};</script>\n",
              "        <script src=\"https://cdn.plot.ly/plotly-2.4.2.min.js\"></script>                <div id=\"166381ae-1fda-4a4c-9d33-d99ac5acd67f\" class=\"plotly-graph-div\" style=\"height:525px; width:100%;\"></div>            <script type=\"text/javascript\">                                    window.PLOTLYENV=window.PLOTLYENV || {};                                    if (document.getElementById(\"166381ae-1fda-4a4c-9d33-d99ac5acd67f\")) {                    Plotly.newPlot(                        \"166381ae-1fda-4a4c-9d33-d99ac5acd67f\",                        [{\"hovertemplate\":\"variable=Company<br>Connected On=%{x}<br>value=%{y}<extra></extra>\",\"legendgroup\":\"Company\",\"line\":{\"color\":\"#636efa\",\"dash\":\"solid\"},\"marker\":{\"symbol\":\"circle\"},\"mode\":\"lines\",\"name\":\"Company\",\"orientation\":\"v\",\"showlegend\":true,\"type\":\"scatter\",\"x\":[\"2017-10-31\",\"2017-11-20\",\"2017-11-22\",\"2017-12-08\",\"2017-12-12\",\"2017-12-13\",\"2017-12-15\",\"2017-12-21\",\"2018-01-09\",\"2018-01-12\",\"2018-01-18\",\"2018-01-23\",\"2018-02-02\",\"2018-02-14\",\"2018-02-20\",\"2018-02-26\",\"2018-02-27\",\"2018-03-07\",\"2018-03-09\",\"2018-03-13\",\"2018-03-20\",\"2018-04-08\",\"2018-04-25\",\"2018-04-27\",\"2018-04-30\",\"2018-05-05\",\"2018-05-11\",\"2018-05-16\",\"2018-05-17\",\"2018-05-23\",\"2018-05-24\",\"2018-05-28\",\"2018-06-07\",\"2018-06-14\",\"2018-06-25\",\"2018-07-04\",\"2018-07-06\",\"2018-07-07\",\"2018-07-09\",\"2018-07-10\",\"2018-07-16\",\"2018-07-30\",\"2018-08-01\",\"2018-08-15\",\"2018-08-16\",\"2018-08-22\",\"2018-08-29\",\"2018-09-10\",\"2018-09-14\",\"2018-09-23\",\"2018-09-24\",\"2018-09-28\",\"2018-10-03\",\"2018-10-04\",\"2018-10-08\",\"2018-10-09\",\"2018-11-01\",\"2018-11-06\",\"2018-12-18\",\"2019-01-08\",\"2019-01-24\",\"2019-01-25\",\"2019-01-28\",\"2019-01-29\",\"2019-01-31\",\"2019-02-04\",\"2019-02-05\",\"2019-02-18\",\"2019-02-25\",\"2019-03-19\",\"2019-03-25\",\"2019-03-29\",\"2019-04-17\",\"2019-04-27\",\"2019-04-30\",\"2019-05-04\",\"2019-06-07\",\"2019-06-10\",\"2019-06-17\",\"2019-06-19\",\"2019-08-14\",\"2019-08-15\",\"2019-08-20\",\"2019-08-23\",\"2019-09-03\",\"2019-09-18\",\"2019-09-20\",\"2019-09-23\",\"2019-09-25\",\"2019-09-27\",\"2019-10-03\",\"2019-10-11\",\"2019-11-11\",\"2019-11-25\",\"2019-12-16\",\"2019-12-30\",\"2020-01-03\",\"2020-01-08\",\"2020-01-13\",\"2020-02-14\",\"2020-02-21\",\"2020-03-04\",\"2020-03-13\",\"2020-03-15\",\"2020-04-26\",\"2020-04-27\",\"2020-05-22\",\"2020-06-08\",\"2020-08-12\",\"2020-08-19\",\"2020-09-23\",\"2020-09-24\",\"2020-10-08\",\"2020-10-19\",\"2020-10-20\",\"2020-10-21\",\"2020-11-16\",\"2020-12-11\",\"2020-12-22\",\"2021-01-12\",\"2021-01-13\",\"2021-01-14\",\"2021-01-22\",\"2021-01-26\",\"2021-02-23\",\"2021-03-04\",\"2021-05-14\",\"2021-07-16\",\"2021-07-22\",\"2021-07-25\",\"2021-08-13\",\"2021-08-14\",\"2021-08-16\",\"2021-08-17\",\"2021-08-21\",\"2021-08-23\",\"2021-08-24\",\"2021-08-25\",\"2021-08-27\",\"2021-08-28\",\"2021-08-30\",\"2021-08-31\",\"2021-09-01\",\"2021-09-03\",\"2021-09-04\",\"2021-09-06\",\"2021-09-08\",\"2021-09-09\",\"2021-09-10\",\"2021-09-11\",\"2021-09-12\",\"2021-09-13\"],\"xaxis\":\"x\",\"y\":[1,1,1,1,1,1,1,1,1,1,1,1,1,1,1,1,1,1,1,1,1,1,1,2,1,1,1,1,1,1,1,1,1,2,1,1,6,1,2,2,1,2,1,2,1,1,1,2,1,1,2,1,3,1,1,1,1,1,1,1,1,1,2,4,1,2,1,2,1,1,1,1,1,2,1,2,1,1,1,1,1,1,3,1,1,1,2,2,2,1,1,1,1,1,2,2,1,1,1,1,2,2,1,1,1,1,1,1,1,1,1,1,1,1,1,1,1,1,1,1,1,2,1,1,1,1,1,1,1,1,1,4,2,1,2,1,2,2,2,1,1,1,16,4,2,1,4,2,4,3,1,3],\"yaxis\":\"y\"},{\"hovertemplate\":\"variable=Position<br>Connected On=%{x}<br>value=%{y}<extra></extra>\",\"legendgroup\":\"Position\",\"line\":{\"color\":\"#EF553B\",\"dash\":\"solid\"},\"marker\":{\"symbol\":\"circle\"},\"mode\":\"lines\",\"name\":\"Position\",\"orientation\":\"v\",\"showlegend\":true,\"type\":\"scatter\",\"x\":[\"2017-10-31\",\"2017-11-20\",\"2017-11-22\",\"2017-12-08\",\"2017-12-12\",\"2017-12-13\",\"2017-12-15\",\"2017-12-21\",\"2018-01-09\",\"2018-01-12\",\"2018-01-18\",\"2018-01-23\",\"2018-02-02\",\"2018-02-14\",\"2018-02-20\",\"2018-02-26\",\"2018-02-27\",\"2018-03-07\",\"2018-03-09\",\"2018-03-13\",\"2018-03-20\",\"2018-04-08\",\"2018-04-25\",\"2018-04-27\",\"2018-04-30\",\"2018-05-05\",\"2018-05-11\",\"2018-05-16\",\"2018-05-17\",\"2018-05-23\",\"2018-05-24\",\"2018-05-28\",\"2018-06-07\",\"2018-06-14\",\"2018-06-25\",\"2018-07-04\",\"2018-07-06\",\"2018-07-07\",\"2018-07-09\",\"2018-07-10\",\"2018-07-16\",\"2018-07-30\",\"2018-08-01\",\"2018-08-15\",\"2018-08-16\",\"2018-08-22\",\"2018-08-29\",\"2018-09-10\",\"2018-09-14\",\"2018-09-23\",\"2018-09-24\",\"2018-09-28\",\"2018-10-03\",\"2018-10-04\",\"2018-10-08\",\"2018-10-09\",\"2018-11-01\",\"2018-11-06\",\"2018-12-18\",\"2019-01-08\",\"2019-01-24\",\"2019-01-25\",\"2019-01-28\",\"2019-01-29\",\"2019-01-31\",\"2019-02-04\",\"2019-02-05\",\"2019-02-18\",\"2019-02-25\",\"2019-03-19\",\"2019-03-25\",\"2019-03-29\",\"2019-04-17\",\"2019-04-27\",\"2019-04-30\",\"2019-05-04\",\"2019-06-07\",\"2019-06-10\",\"2019-06-17\",\"2019-06-19\",\"2019-08-14\",\"2019-08-15\",\"2019-08-20\",\"2019-08-23\",\"2019-09-03\",\"2019-09-18\",\"2019-09-20\",\"2019-09-23\",\"2019-09-25\",\"2019-09-27\",\"2019-10-03\",\"2019-10-11\",\"2019-11-11\",\"2019-11-25\",\"2019-12-16\",\"2019-12-30\",\"2020-01-03\",\"2020-01-08\",\"2020-01-13\",\"2020-02-14\",\"2020-02-21\",\"2020-03-04\",\"2020-03-13\",\"2020-03-15\",\"2020-04-26\",\"2020-04-27\",\"2020-05-22\",\"2020-06-08\",\"2020-08-12\",\"2020-08-19\",\"2020-09-23\",\"2020-09-24\",\"2020-10-08\",\"2020-10-19\",\"2020-10-20\",\"2020-10-21\",\"2020-11-16\",\"2020-12-11\",\"2020-12-22\",\"2021-01-12\",\"2021-01-13\",\"2021-01-14\",\"2021-01-22\",\"2021-01-26\",\"2021-02-23\",\"2021-03-04\",\"2021-05-14\",\"2021-07-16\",\"2021-07-22\",\"2021-07-25\",\"2021-08-13\",\"2021-08-14\",\"2021-08-16\",\"2021-08-17\",\"2021-08-21\",\"2021-08-23\",\"2021-08-24\",\"2021-08-25\",\"2021-08-27\",\"2021-08-28\",\"2021-08-30\",\"2021-08-31\",\"2021-09-01\",\"2021-09-03\",\"2021-09-04\",\"2021-09-06\",\"2021-09-08\",\"2021-09-09\",\"2021-09-10\",\"2021-09-11\",\"2021-09-12\",\"2021-09-13\"],\"xaxis\":\"x\",\"y\":[1,1,1,1,1,1,1,1,1,1,1,1,1,1,1,1,1,1,1,1,1,1,1,2,1,1,1,1,1,1,1,1,1,2,1,1,6,1,2,2,1,2,1,2,1,1,1,2,1,1,2,1,3,1,1,1,1,1,1,1,1,1,2,4,1,2,1,2,1,1,1,1,1,2,1,2,1,1,1,1,1,1,3,1,1,1,2,2,2,1,1,1,1,1,2,2,1,1,1,1,2,2,1,1,1,1,1,1,1,1,1,1,1,1,1,1,1,1,1,1,1,2,1,1,1,1,1,1,1,1,1,4,2,1,2,1,2,2,2,1,1,1,16,4,2,1,4,2,4,3,1,3],\"yaxis\":\"y\"},{\"hovertemplate\":\"variable=Full Name<br>Connected On=%{x}<br>value=%{y}<extra></extra>\",\"legendgroup\":\"Full Name\",\"line\":{\"color\":\"#00cc96\",\"dash\":\"solid\"},\"marker\":{\"symbol\":\"circle\"},\"mode\":\"lines\",\"name\":\"Full Name\",\"orientation\":\"v\",\"showlegend\":true,\"type\":\"scatter\",\"x\":[\"2017-10-31\",\"2017-11-20\",\"2017-11-22\",\"2017-12-08\",\"2017-12-12\",\"2017-12-13\",\"2017-12-15\",\"2017-12-21\",\"2018-01-09\",\"2018-01-12\",\"2018-01-18\",\"2018-01-23\",\"2018-02-02\",\"2018-02-14\",\"2018-02-20\",\"2018-02-26\",\"2018-02-27\",\"2018-03-07\",\"2018-03-09\",\"2018-03-13\",\"2018-03-20\",\"2018-04-08\",\"2018-04-25\",\"2018-04-27\",\"2018-04-30\",\"2018-05-05\",\"2018-05-11\",\"2018-05-16\",\"2018-05-17\",\"2018-05-23\",\"2018-05-24\",\"2018-05-28\",\"2018-06-07\",\"2018-06-14\",\"2018-06-25\",\"2018-07-04\",\"2018-07-06\",\"2018-07-07\",\"2018-07-09\",\"2018-07-10\",\"2018-07-16\",\"2018-07-30\",\"2018-08-01\",\"2018-08-15\",\"2018-08-16\",\"2018-08-22\",\"2018-08-29\",\"2018-09-10\",\"2018-09-14\",\"2018-09-23\",\"2018-09-24\",\"2018-09-28\",\"2018-10-03\",\"2018-10-04\",\"2018-10-08\",\"2018-10-09\",\"2018-11-01\",\"2018-11-06\",\"2018-12-18\",\"2019-01-08\",\"2019-01-24\",\"2019-01-25\",\"2019-01-28\",\"2019-01-29\",\"2019-01-31\",\"2019-02-04\",\"2019-02-05\",\"2019-02-18\",\"2019-02-25\",\"2019-03-19\",\"2019-03-25\",\"2019-03-29\",\"2019-04-17\",\"2019-04-27\",\"2019-04-30\",\"2019-05-04\",\"2019-06-07\",\"2019-06-10\",\"2019-06-17\",\"2019-06-19\",\"2019-08-14\",\"2019-08-15\",\"2019-08-20\",\"2019-08-23\",\"2019-09-03\",\"2019-09-18\",\"2019-09-20\",\"2019-09-23\",\"2019-09-25\",\"2019-09-27\",\"2019-10-03\",\"2019-10-11\",\"2019-11-11\",\"2019-11-25\",\"2019-12-16\",\"2019-12-30\",\"2020-01-03\",\"2020-01-08\",\"2020-01-13\",\"2020-02-14\",\"2020-02-21\",\"2020-03-04\",\"2020-03-13\",\"2020-03-15\",\"2020-04-26\",\"2020-04-27\",\"2020-05-22\",\"2020-06-08\",\"2020-08-12\",\"2020-08-19\",\"2020-09-23\",\"2020-09-24\",\"2020-10-08\",\"2020-10-19\",\"2020-10-20\",\"2020-10-21\",\"2020-11-16\",\"2020-12-11\",\"2020-12-22\",\"2021-01-12\",\"2021-01-13\",\"2021-01-14\",\"2021-01-22\",\"2021-01-26\",\"2021-02-23\",\"2021-03-04\",\"2021-05-14\",\"2021-07-16\",\"2021-07-22\",\"2021-07-25\",\"2021-08-13\",\"2021-08-14\",\"2021-08-16\",\"2021-08-17\",\"2021-08-21\",\"2021-08-23\",\"2021-08-24\",\"2021-08-25\",\"2021-08-27\",\"2021-08-28\",\"2021-08-30\",\"2021-08-31\",\"2021-09-01\",\"2021-09-03\",\"2021-09-04\",\"2021-09-06\",\"2021-09-08\",\"2021-09-09\",\"2021-09-10\",\"2021-09-11\",\"2021-09-12\",\"2021-09-13\"],\"xaxis\":\"x\",\"y\":[1,1,1,1,1,1,1,1,1,1,1,1,1,1,1,1,1,1,1,1,1,1,1,2,1,1,1,1,1,1,1,1,1,2,1,1,6,1,2,2,1,2,1,2,1,1,1,2,1,1,2,1,3,1,1,1,1,1,1,1,1,1,2,4,1,2,1,2,1,1,1,1,1,2,1,2,1,1,1,1,1,1,3,1,1,1,2,2,2,1,1,1,1,1,2,2,1,1,1,1,2,2,1,1,1,1,1,1,1,1,1,1,1,1,1,1,1,1,1,1,1,2,1,1,1,1,1,1,1,1,1,4,2,1,2,1,2,2,2,1,1,1,16,4,2,1,4,2,4,3,1,3],\"yaxis\":\"y\"}],                        {\"legend\":{\"title\":{\"text\":\"variable\"},\"tracegroupgap\":0},\"template\":{\"data\":{\"bar\":[{\"error_x\":{\"color\":\"#2a3f5f\"},\"error_y\":{\"color\":\"#2a3f5f\"},\"marker\":{\"line\":{\"color\":\"#E5ECF6\",\"width\":0.5},\"pattern\":{\"fillmode\":\"overlay\",\"size\":10,\"solidity\":0.2}},\"type\":\"bar\"}],\"barpolar\":[{\"marker\":{\"line\":{\"color\":\"#E5ECF6\",\"width\":0.5},\"pattern\":{\"fillmode\":\"overlay\",\"size\":10,\"solidity\":0.2}},\"type\":\"barpolar\"}],\"carpet\":[{\"aaxis\":{\"endlinecolor\":\"#2a3f5f\",\"gridcolor\":\"white\",\"linecolor\":\"white\",\"minorgridcolor\":\"white\",\"startlinecolor\":\"#2a3f5f\"},\"baxis\":{\"endlinecolor\":\"#2a3f5f\",\"gridcolor\":\"white\",\"linecolor\":\"white\",\"minorgridcolor\":\"white\",\"startlinecolor\":\"#2a3f5f\"},\"type\":\"carpet\"}],\"choropleth\":[{\"colorbar\":{\"outlinewidth\":0,\"ticks\":\"\"},\"type\":\"choropleth\"}],\"contour\":[{\"colorbar\":{\"outlinewidth\":0,\"ticks\":\"\"},\"colorscale\":[[0.0,\"#0d0887\"],[0.1111111111111111,\"#46039f\"],[0.2222222222222222,\"#7201a8\"],[0.3333333333333333,\"#9c179e\"],[0.4444444444444444,\"#bd3786\"],[0.5555555555555556,\"#d8576b\"],[0.6666666666666666,\"#ed7953\"],[0.7777777777777778,\"#fb9f3a\"],[0.8888888888888888,\"#fdca26\"],[1.0,\"#f0f921\"]],\"type\":\"contour\"}],\"contourcarpet\":[{\"colorbar\":{\"outlinewidth\":0,\"ticks\":\"\"},\"type\":\"contourcarpet\"}],\"heatmap\":[{\"colorbar\":{\"outlinewidth\":0,\"ticks\":\"\"},\"colorscale\":[[0.0,\"#0d0887\"],[0.1111111111111111,\"#46039f\"],[0.2222222222222222,\"#7201a8\"],[0.3333333333333333,\"#9c179e\"],[0.4444444444444444,\"#bd3786\"],[0.5555555555555556,\"#d8576b\"],[0.6666666666666666,\"#ed7953\"],[0.7777777777777778,\"#fb9f3a\"],[0.8888888888888888,\"#fdca26\"],[1.0,\"#f0f921\"]],\"type\":\"heatmap\"}],\"heatmapgl\":[{\"colorbar\":{\"outlinewidth\":0,\"ticks\":\"\"},\"colorscale\":[[0.0,\"#0d0887\"],[0.1111111111111111,\"#46039f\"],[0.2222222222222222,\"#7201a8\"],[0.3333333333333333,\"#9c179e\"],[0.4444444444444444,\"#bd3786\"],[0.5555555555555556,\"#d8576b\"],[0.6666666666666666,\"#ed7953\"],[0.7777777777777778,\"#fb9f3a\"],[0.8888888888888888,\"#fdca26\"],[1.0,\"#f0f921\"]],\"type\":\"heatmapgl\"}],\"histogram\":[{\"marker\":{\"pattern\":{\"fillmode\":\"overlay\",\"size\":10,\"solidity\":0.2}},\"type\":\"histogram\"}],\"histogram2d\":[{\"colorbar\":{\"outlinewidth\":0,\"ticks\":\"\"},\"colorscale\":[[0.0,\"#0d0887\"],[0.1111111111111111,\"#46039f\"],[0.2222222222222222,\"#7201a8\"],[0.3333333333333333,\"#9c179e\"],[0.4444444444444444,\"#bd3786\"],[0.5555555555555556,\"#d8576b\"],[0.6666666666666666,\"#ed7953\"],[0.7777777777777778,\"#fb9f3a\"],[0.8888888888888888,\"#fdca26\"],[1.0,\"#f0f921\"]],\"type\":\"histogram2d\"}],\"histogram2dcontour\":[{\"colorbar\":{\"outlinewidth\":0,\"ticks\":\"\"},\"colorscale\":[[0.0,\"#0d0887\"],[0.1111111111111111,\"#46039f\"],[0.2222222222222222,\"#7201a8\"],[0.3333333333333333,\"#9c179e\"],[0.4444444444444444,\"#bd3786\"],[0.5555555555555556,\"#d8576b\"],[0.6666666666666666,\"#ed7953\"],[0.7777777777777778,\"#fb9f3a\"],[0.8888888888888888,\"#fdca26\"],[1.0,\"#f0f921\"]],\"type\":\"histogram2dcontour\"}],\"mesh3d\":[{\"colorbar\":{\"outlinewidth\":0,\"ticks\":\"\"},\"type\":\"mesh3d\"}],\"parcoords\":[{\"line\":{\"colorbar\":{\"outlinewidth\":0,\"ticks\":\"\"}},\"type\":\"parcoords\"}],\"pie\":[{\"automargin\":true,\"type\":\"pie\"}],\"scatter\":[{\"marker\":{\"colorbar\":{\"outlinewidth\":0,\"ticks\":\"\"}},\"type\":\"scatter\"}],\"scatter3d\":[{\"line\":{\"colorbar\":{\"outlinewidth\":0,\"ticks\":\"\"}},\"marker\":{\"colorbar\":{\"outlinewidth\":0,\"ticks\":\"\"}},\"type\":\"scatter3d\"}],\"scattercarpet\":[{\"marker\":{\"colorbar\":{\"outlinewidth\":0,\"ticks\":\"\"}},\"type\":\"scattercarpet\"}],\"scattergeo\":[{\"marker\":{\"colorbar\":{\"outlinewidth\":0,\"ticks\":\"\"}},\"type\":\"scattergeo\"}],\"scattergl\":[{\"marker\":{\"colorbar\":{\"outlinewidth\":0,\"ticks\":\"\"}},\"type\":\"scattergl\"}],\"scattermapbox\":[{\"marker\":{\"colorbar\":{\"outlinewidth\":0,\"ticks\":\"\"}},\"type\":\"scattermapbox\"}],\"scatterpolar\":[{\"marker\":{\"colorbar\":{\"outlinewidth\":0,\"ticks\":\"\"}},\"type\":\"scatterpolar\"}],\"scatterpolargl\":[{\"marker\":{\"colorbar\":{\"outlinewidth\":0,\"ticks\":\"\"}},\"type\":\"scatterpolargl\"}],\"scatterternary\":[{\"marker\":{\"colorbar\":{\"outlinewidth\":0,\"ticks\":\"\"}},\"type\":\"scatterternary\"}],\"surface\":[{\"colorbar\":{\"outlinewidth\":0,\"ticks\":\"\"},\"colorscale\":[[0.0,\"#0d0887\"],[0.1111111111111111,\"#46039f\"],[0.2222222222222222,\"#7201a8\"],[0.3333333333333333,\"#9c179e\"],[0.4444444444444444,\"#bd3786\"],[0.5555555555555556,\"#d8576b\"],[0.6666666666666666,\"#ed7953\"],[0.7777777777777778,\"#fb9f3a\"],[0.8888888888888888,\"#fdca26\"],[1.0,\"#f0f921\"]],\"type\":\"surface\"}],\"table\":[{\"cells\":{\"fill\":{\"color\":\"#EBF0F8\"},\"line\":{\"color\":\"white\"}},\"header\":{\"fill\":{\"color\":\"#C8D4E3\"},\"line\":{\"color\":\"white\"}},\"type\":\"table\"}]},\"layout\":{\"annotationdefaults\":{\"arrowcolor\":\"#2a3f5f\",\"arrowhead\":0,\"arrowwidth\":1},\"autotypenumbers\":\"strict\",\"coloraxis\":{\"colorbar\":{\"outlinewidth\":0,\"ticks\":\"\"}},\"colorscale\":{\"diverging\":[[0,\"#8e0152\"],[0.1,\"#c51b7d\"],[0.2,\"#de77ae\"],[0.3,\"#f1b6da\"],[0.4,\"#fde0ef\"],[0.5,\"#f7f7f7\"],[0.6,\"#e6f5d0\"],[0.7,\"#b8e186\"],[0.8,\"#7fbc41\"],[0.9,\"#4d9221\"],[1,\"#276419\"]],\"sequential\":[[0.0,\"#0d0887\"],[0.1111111111111111,\"#46039f\"],[0.2222222222222222,\"#7201a8\"],[0.3333333333333333,\"#9c179e\"],[0.4444444444444444,\"#bd3786\"],[0.5555555555555556,\"#d8576b\"],[0.6666666666666666,\"#ed7953\"],[0.7777777777777778,\"#fb9f3a\"],[0.8888888888888888,\"#fdca26\"],[1.0,\"#f0f921\"]],\"sequentialminus\":[[0.0,\"#0d0887\"],[0.1111111111111111,\"#46039f\"],[0.2222222222222222,\"#7201a8\"],[0.3333333333333333,\"#9c179e\"],[0.4444444444444444,\"#bd3786\"],[0.5555555555555556,\"#d8576b\"],[0.6666666666666666,\"#ed7953\"],[0.7777777777777778,\"#fb9f3a\"],[0.8888888888888888,\"#fdca26\"],[1.0,\"#f0f921\"]]},\"colorway\":[\"#636efa\",\"#EF553B\",\"#00cc96\",\"#ab63fa\",\"#FFA15A\",\"#19d3f3\",\"#FF6692\",\"#B6E880\",\"#FF97FF\",\"#FECB52\"],\"font\":{\"color\":\"#2a3f5f\"},\"geo\":{\"bgcolor\":\"white\",\"lakecolor\":\"white\",\"landcolor\":\"#E5ECF6\",\"showlakes\":true,\"showland\":true,\"subunitcolor\":\"white\"},\"hoverlabel\":{\"align\":\"left\"},\"hovermode\":\"closest\",\"mapbox\":{\"style\":\"light\"},\"paper_bgcolor\":\"white\",\"plot_bgcolor\":\"#E5ECF6\",\"polar\":{\"angularaxis\":{\"gridcolor\":\"white\",\"linecolor\":\"white\",\"ticks\":\"\"},\"bgcolor\":\"#E5ECF6\",\"radialaxis\":{\"gridcolor\":\"white\",\"linecolor\":\"white\",\"ticks\":\"\"}},\"scene\":{\"xaxis\":{\"backgroundcolor\":\"#E5ECF6\",\"gridcolor\":\"white\",\"gridwidth\":2,\"linecolor\":\"white\",\"showbackground\":true,\"ticks\":\"\",\"zerolinecolor\":\"white\"},\"yaxis\":{\"backgroundcolor\":\"#E5ECF6\",\"gridcolor\":\"white\",\"gridwidth\":2,\"linecolor\":\"white\",\"showbackground\":true,\"ticks\":\"\",\"zerolinecolor\":\"white\"},\"zaxis\":{\"backgroundcolor\":\"#E5ECF6\",\"gridcolor\":\"white\",\"gridwidth\":2,\"linecolor\":\"white\",\"showbackground\":true,\"ticks\":\"\",\"zerolinecolor\":\"white\"}},\"shapedefaults\":{\"line\":{\"color\":\"#2a3f5f\"}},\"ternary\":{\"aaxis\":{\"gridcolor\":\"white\",\"linecolor\":\"white\",\"ticks\":\"\"},\"baxis\":{\"gridcolor\":\"white\",\"linecolor\":\"white\",\"ticks\":\"\"},\"bgcolor\":\"#E5ECF6\",\"caxis\":{\"gridcolor\":\"white\",\"linecolor\":\"white\",\"ticks\":\"\"}},\"title\":{\"x\":0.05},\"xaxis\":{\"automargin\":true,\"gridcolor\":\"white\",\"linecolor\":\"white\",\"ticks\":\"\",\"title\":{\"standoff\":15},\"zerolinecolor\":\"white\",\"zerolinewidth\":2},\"yaxis\":{\"automargin\":true,\"gridcolor\":\"white\",\"linecolor\":\"white\",\"ticks\":\"\",\"title\":{\"standoff\":15},\"zerolinecolor\":\"white\",\"zerolinewidth\":2}}},\"title\":{\"text\":\"Novas conex\\u00f5es por data\"},\"xaxis\":{\"anchor\":\"y\",\"domain\":[0.0,1.0],\"title\":{\"text\":\"Connected On\"}},\"yaxis\":{\"anchor\":\"x\",\"domain\":[0.0,1.0],\"title\":{\"text\":\"value\"}}},                        {\"responsive\": true}                    ).then(function(){\n",
              "                            \n",
              "var gd = document.getElementById('166381ae-1fda-4a4c-9d33-d99ac5acd67f');\n",
              "var x = new MutationObserver(function (mutations, observer) {{\n",
              "        var display = window.getComputedStyle(gd).display;\n",
              "        if (!display || display === 'none') {{\n",
              "            console.log([gd, 'removed!']);\n",
              "            Plotly.purge(gd);\n",
              "            observer.disconnect();\n",
              "        }}\n",
              "}});\n",
              "\n",
              "// Listen for the removal of the full notebook cells\n",
              "var notebookContainer = gd.closest('#notebook-container');\n",
              "if (notebookContainer) {{\n",
              "    x.observe(notebookContainer, {childList: true});\n",
              "}}\n",
              "\n",
              "// Listen for the clearing of the current output cell\n",
              "var outputEl = gd.closest('.output');\n",
              "if (outputEl) {{\n",
              "    x.observe(outputEl, {childList: true});\n",
              "}}\n",
              "\n",
              "                        })                };                            </script>        </div>\n",
              "</body>\n",
              "</html>"
            ]
          },
          "metadata": {}
        }
      ]
    },
    {
      "cell_type": "code",
      "metadata": {
        "id": "EOHwIjSK-PZ6"
      },
      "source": [
        "# Função para converter o mês Ano. mês. dia para somente mês\n",
        "def converte_data_mes(data):\n",
        "  return datetime.datetime.strptime(data, '%Y-%m-%d').strftime('%m')"
      ],
      "execution_count": null,
      "outputs": []
    },
    {
      "cell_type": "code",
      "metadata": {
        "colab": {
          "base_uri": "https://localhost:8080/",
          "height": 543
        },
        "id": "xys8sw_J-T-k",
        "outputId": "087d9759-89ae-4572-990a-2b6f67a5d0b3"
      },
      "source": [
        "# Armazenando somente o mês\n",
        "conexoes['Connected Month'] = conexoes['Connected On'].apply(converte_data_mes)\n",
        "# Mostrando resultado\n",
        "conexoes"
      ],
      "execution_count": null,
      "outputs": [
        {
          "output_type": "execute_result",
          "data": {
            "text/html": [
              "<div>\n",
              "<style scoped>\n",
              "    .dataframe tbody tr th:only-of-type {\n",
              "        vertical-align: middle;\n",
              "    }\n",
              "\n",
              "    .dataframe tbody tr th {\n",
              "        vertical-align: top;\n",
              "    }\n",
              "\n",
              "    .dataframe thead th {\n",
              "        text-align: right;\n",
              "    }\n",
              "</style>\n",
              "<table border=\"1\" class=\"dataframe\">\n",
              "  <thead>\n",
              "    <tr style=\"text-align: right;\">\n",
              "      <th></th>\n",
              "      <th>Company</th>\n",
              "      <th>Position</th>\n",
              "      <th>Connected On</th>\n",
              "      <th>Full Name</th>\n",
              "      <th>Connected Month</th>\n",
              "    </tr>\n",
              "  </thead>\n",
              "  <tbody>\n",
              "    <tr>\n",
              "      <th>0</th>\n",
              "      <td>Locbreak</td>\n",
              "      <td>empresa de energia</td>\n",
              "      <td>2021-09-13</td>\n",
              "      <td>Locbreak Energia SustentÃ¡vel</td>\n",
              "      <td>09</td>\n",
              "    </tr>\n",
              "    <tr>\n",
              "      <th>1</th>\n",
              "      <td>Offerwise</td>\n",
              "      <td>Head Of Business Intelligence and Statistic Team</td>\n",
              "      <td>2021-09-13</td>\n",
              "      <td>Gustavo Gontijo</td>\n",
              "      <td>09</td>\n",
              "    </tr>\n",
              "    <tr>\n",
              "      <th>2</th>\n",
              "      <td>Ãris | LaboratÃ³rio de InovaÃ§Ã£o e Dados</td>\n",
              "      <td>Gestora de Projetos</td>\n",
              "      <td>2021-09-13</td>\n",
              "      <td>Renata Duarte</td>\n",
              "      <td>09</td>\n",
              "    </tr>\n",
              "    <tr>\n",
              "      <th>3</th>\n",
              "      <td>GR8 Sistemas e Tecnologia</td>\n",
              "      <td>Programador</td>\n",
              "      <td>2021-09-12</td>\n",
              "      <td>Michael Henrique Souza Ferreira</td>\n",
              "      <td>09</td>\n",
              "    </tr>\n",
              "    <tr>\n",
              "      <th>4</th>\n",
              "      <td>Mercado Livre</td>\n",
              "      <td>Data Scientist</td>\n",
              "      <td>2021-09-11</td>\n",
              "      <td>Paulo Benatti Alves</td>\n",
              "      <td>09</td>\n",
              "    </tr>\n",
              "    <tr>\n",
              "      <th>...</th>\n",
              "      <td>...</td>\n",
              "      <td>...</td>\n",
              "      <td>...</td>\n",
              "      <td>...</td>\n",
              "      <td>...</td>\n",
              "    </tr>\n",
              "    <tr>\n",
              "      <th>218</th>\n",
              "      <td>Axislera</td>\n",
              "      <td>Chief Technical Officer</td>\n",
              "      <td>2017-12-12</td>\n",
              "      <td>Arles Sant Ana</td>\n",
              "      <td>12</td>\n",
              "    </tr>\n",
              "    <tr>\n",
              "      <th>219</th>\n",
              "      <td>Infomach</td>\n",
              "      <td>Fundador e CEO</td>\n",
              "      <td>2017-12-08</td>\n",
              "      <td>Antonio Luiz Alves</td>\n",
              "      <td>12</td>\n",
              "    </tr>\n",
              "    <tr>\n",
              "      <th>220</th>\n",
              "      <td>Grupo GFT</td>\n",
              "      <td>Cloud Solutions Architect</td>\n",
              "      <td>2017-11-22</td>\n",
              "      <td>JosÃ© Vicente Jonas FranÃ§a</td>\n",
              "      <td>11</td>\n",
              "    </tr>\n",
              "    <tr>\n",
              "      <th>221</th>\n",
              "      <td>Americas Health</td>\n",
              "      <td>Coordenador de Marketing e Relacionamento</td>\n",
              "      <td>2017-11-20</td>\n",
              "      <td>Yan DÃ¢maso</td>\n",
              "      <td>11</td>\n",
              "    </tr>\n",
              "    <tr>\n",
              "      <th>222</th>\n",
              "      <td>ServiceNow</td>\n",
              "      <td>Senior Enterprise Account Manager</td>\n",
              "      <td>2017-10-31</td>\n",
              "      <td>Cesar Brasil</td>\n",
              "      <td>10</td>\n",
              "    </tr>\n",
              "  </tbody>\n",
              "</table>\n",
              "<p>223 rows × 5 columns</p>\n",
              "</div>"
            ],
            "text/plain": [
              "                                         Company  ... Connected Month\n",
              "0                                       Locbreak  ...              09\n",
              "1                                      Offerwise  ...              09\n",
              "2    Ãris | LaboratÃ³rio de InovaÃ§Ã£o e Dados   ...              09\n",
              "3                      GR8 Sistemas e Tecnologia  ...              09\n",
              "4                                  Mercado Livre  ...              09\n",
              "..                                           ...  ...             ...\n",
              "218                                     Axislera  ...              12\n",
              "219                                     Infomach  ...              12\n",
              "220                                    Grupo GFT  ...              11\n",
              "221                              Americas Health  ...              11\n",
              "222                                   ServiceNow  ...              10\n",
              "\n",
              "[223 rows x 5 columns]"
            ]
          },
          "metadata": {},
          "execution_count": 253
        }
      ]
    },
    {
      "cell_type": "code",
      "metadata": {
        "colab": {
          "base_uri": "https://localhost:8080/",
          "height": 455
        },
        "id": "-LLUlSRN-W-0",
        "outputId": "413c6623-bc6e-407a-87f2-98dc81aed2f3"
      },
      "source": [
        "# Realizando o agrupamento\n",
        "conexoes.groupby(by = 'Connected Month').count()"
      ],
      "execution_count": null,
      "outputs": [
        {
          "output_type": "execute_result",
          "data": {
            "text/html": [
              "<div>\n",
              "<style scoped>\n",
              "    .dataframe tbody tr th:only-of-type {\n",
              "        vertical-align: middle;\n",
              "    }\n",
              "\n",
              "    .dataframe tbody tr th {\n",
              "        vertical-align: top;\n",
              "    }\n",
              "\n",
              "    .dataframe thead th {\n",
              "        text-align: right;\n",
              "    }\n",
              "</style>\n",
              "<table border=\"1\" class=\"dataframe\">\n",
              "  <thead>\n",
              "    <tr style=\"text-align: right;\">\n",
              "      <th></th>\n",
              "      <th>Company</th>\n",
              "      <th>Position</th>\n",
              "      <th>Connected On</th>\n",
              "      <th>Full Name</th>\n",
              "    </tr>\n",
              "    <tr>\n",
              "      <th>Connected Month</th>\n",
              "      <th></th>\n",
              "      <th></th>\n",
              "      <th></th>\n",
              "      <th></th>\n",
              "    </tr>\n",
              "  </thead>\n",
              "  <tbody>\n",
              "    <tr>\n",
              "      <th>01</th>\n",
              "      <td>23</td>\n",
              "      <td>23</td>\n",
              "      <td>23</td>\n",
              "      <td>23</td>\n",
              "    </tr>\n",
              "    <tr>\n",
              "      <th>02</th>\n",
              "      <td>15</td>\n",
              "      <td>15</td>\n",
              "      <td>15</td>\n",
              "      <td>15</td>\n",
              "    </tr>\n",
              "    <tr>\n",
              "      <th>03</th>\n",
              "      <td>12</td>\n",
              "      <td>12</td>\n",
              "      <td>12</td>\n",
              "      <td>12</td>\n",
              "    </tr>\n",
              "    <tr>\n",
              "      <th>04</th>\n",
              "      <td>11</td>\n",
              "      <td>11</td>\n",
              "      <td>11</td>\n",
              "      <td>11</td>\n",
              "    </tr>\n",
              "    <tr>\n",
              "      <th>05</th>\n",
              "      <td>11</td>\n",
              "      <td>11</td>\n",
              "      <td>11</td>\n",
              "      <td>11</td>\n",
              "    </tr>\n",
              "    <tr>\n",
              "      <th>06</th>\n",
              "      <td>9</td>\n",
              "      <td>9</td>\n",
              "      <td>9</td>\n",
              "      <td>9</td>\n",
              "    </tr>\n",
              "    <tr>\n",
              "      <th>07</th>\n",
              "      <td>18</td>\n",
              "      <td>18</td>\n",
              "      <td>18</td>\n",
              "      <td>18</td>\n",
              "    </tr>\n",
              "    <tr>\n",
              "      <th>08</th>\n",
              "      <td>34</td>\n",
              "      <td>34</td>\n",
              "      <td>34</td>\n",
              "      <td>34</td>\n",
              "    </tr>\n",
              "    <tr>\n",
              "      <th>09</th>\n",
              "      <td>58</td>\n",
              "      <td>58</td>\n",
              "      <td>58</td>\n",
              "      <td>58</td>\n",
              "    </tr>\n",
              "    <tr>\n",
              "      <th>10</th>\n",
              "      <td>13</td>\n",
              "      <td>13</td>\n",
              "      <td>13</td>\n",
              "      <td>13</td>\n",
              "    </tr>\n",
              "    <tr>\n",
              "      <th>11</th>\n",
              "      <td>7</td>\n",
              "      <td>7</td>\n",
              "      <td>7</td>\n",
              "      <td>7</td>\n",
              "    </tr>\n",
              "    <tr>\n",
              "      <th>12</th>\n",
              "      <td>12</td>\n",
              "      <td>12</td>\n",
              "      <td>12</td>\n",
              "      <td>12</td>\n",
              "    </tr>\n",
              "  </tbody>\n",
              "</table>\n",
              "</div>"
            ],
            "text/plain": [
              "                 Company  Position  Connected On  Full Name\n",
              "Connected Month                                            \n",
              "01                    23        23            23         23\n",
              "02                    15        15            15         15\n",
              "03                    12        12            12         12\n",
              "04                    11        11            11         11\n",
              "05                    11        11            11         11\n",
              "06                     9         9             9          9\n",
              "07                    18        18            18         18\n",
              "08                    34        34            34         34\n",
              "09                    58        58            58         58\n",
              "10                    13        13            13         13\n",
              "11                     7         7             7          7\n",
              "12                    12        12            12         12"
            ]
          },
          "metadata": {},
          "execution_count": 254
        }
      ]
    },
    {
      "cell_type": "code",
      "metadata": {
        "colab": {
          "base_uri": "https://localhost:8080/",
          "height": 542
        },
        "id": "a0mEmvQB-a67",
        "outputId": "bc7f11a0-10f0-47bb-d8f4-2d490d1919bd"
      },
      "source": [
        "# Grafico para visualizar o volume de conexoes durante os meses\n",
        "grafico = px.line(conexoes.groupby(by = 'Connected Month').count(), title = 'Novas conexões por mês')\n",
        "grafico.show()"
      ],
      "execution_count": null,
      "outputs": [
        {
          "output_type": "display_data",
          "data": {
            "text/html": [
              "<html>\n",
              "<head><meta charset=\"utf-8\" /></head>\n",
              "<body>\n",
              "    <div>            <script src=\"https://cdnjs.cloudflare.com/ajax/libs/mathjax/2.7.5/MathJax.js?config=TeX-AMS-MML_SVG\"></script><script type=\"text/javascript\">if (window.MathJax) {MathJax.Hub.Config({SVG: {font: \"STIX-Web\"}});}</script>                <script type=\"text/javascript\">window.PlotlyConfig = {MathJaxConfig: 'local'};</script>\n",
              "        <script src=\"https://cdn.plot.ly/plotly-2.4.2.min.js\"></script>                <div id=\"95346a34-3ed1-4a67-81af-eaca22f2d7d0\" class=\"plotly-graph-div\" style=\"height:525px; width:100%;\"></div>            <script type=\"text/javascript\">                                    window.PLOTLYENV=window.PLOTLYENV || {};                                    if (document.getElementById(\"95346a34-3ed1-4a67-81af-eaca22f2d7d0\")) {                    Plotly.newPlot(                        \"95346a34-3ed1-4a67-81af-eaca22f2d7d0\",                        [{\"hovertemplate\":\"variable=Company<br>Connected Month=%{x}<br>value=%{y}<extra></extra>\",\"legendgroup\":\"Company\",\"line\":{\"color\":\"#636efa\",\"dash\":\"solid\"},\"marker\":{\"symbol\":\"circle\"},\"mode\":\"lines\",\"name\":\"Company\",\"orientation\":\"v\",\"showlegend\":true,\"type\":\"scatter\",\"x\":[\"01\",\"02\",\"03\",\"04\",\"05\",\"06\",\"07\",\"08\",\"09\",\"10\",\"11\",\"12\"],\"xaxis\":\"x\",\"y\":[23,15,12,11,11,9,18,34,58,13,7,12],\"yaxis\":\"y\"},{\"hovertemplate\":\"variable=Position<br>Connected Month=%{x}<br>value=%{y}<extra></extra>\",\"legendgroup\":\"Position\",\"line\":{\"color\":\"#EF553B\",\"dash\":\"solid\"},\"marker\":{\"symbol\":\"circle\"},\"mode\":\"lines\",\"name\":\"Position\",\"orientation\":\"v\",\"showlegend\":true,\"type\":\"scatter\",\"x\":[\"01\",\"02\",\"03\",\"04\",\"05\",\"06\",\"07\",\"08\",\"09\",\"10\",\"11\",\"12\"],\"xaxis\":\"x\",\"y\":[23,15,12,11,11,9,18,34,58,13,7,12],\"yaxis\":\"y\"},{\"hovertemplate\":\"variable=Connected On<br>Connected Month=%{x}<br>value=%{y}<extra></extra>\",\"legendgroup\":\"Connected On\",\"line\":{\"color\":\"#00cc96\",\"dash\":\"solid\"},\"marker\":{\"symbol\":\"circle\"},\"mode\":\"lines\",\"name\":\"Connected On\",\"orientation\":\"v\",\"showlegend\":true,\"type\":\"scatter\",\"x\":[\"01\",\"02\",\"03\",\"04\",\"05\",\"06\",\"07\",\"08\",\"09\",\"10\",\"11\",\"12\"],\"xaxis\":\"x\",\"y\":[23,15,12,11,11,9,18,34,58,13,7,12],\"yaxis\":\"y\"},{\"hovertemplate\":\"variable=Full Name<br>Connected Month=%{x}<br>value=%{y}<extra></extra>\",\"legendgroup\":\"Full Name\",\"line\":{\"color\":\"#ab63fa\",\"dash\":\"solid\"},\"marker\":{\"symbol\":\"circle\"},\"mode\":\"lines\",\"name\":\"Full Name\",\"orientation\":\"v\",\"showlegend\":true,\"type\":\"scatter\",\"x\":[\"01\",\"02\",\"03\",\"04\",\"05\",\"06\",\"07\",\"08\",\"09\",\"10\",\"11\",\"12\"],\"xaxis\":\"x\",\"y\":[23,15,12,11,11,9,18,34,58,13,7,12],\"yaxis\":\"y\"}],                        {\"legend\":{\"title\":{\"text\":\"variable\"},\"tracegroupgap\":0},\"template\":{\"data\":{\"bar\":[{\"error_x\":{\"color\":\"#2a3f5f\"},\"error_y\":{\"color\":\"#2a3f5f\"},\"marker\":{\"line\":{\"color\":\"#E5ECF6\",\"width\":0.5},\"pattern\":{\"fillmode\":\"overlay\",\"size\":10,\"solidity\":0.2}},\"type\":\"bar\"}],\"barpolar\":[{\"marker\":{\"line\":{\"color\":\"#E5ECF6\",\"width\":0.5},\"pattern\":{\"fillmode\":\"overlay\",\"size\":10,\"solidity\":0.2}},\"type\":\"barpolar\"}],\"carpet\":[{\"aaxis\":{\"endlinecolor\":\"#2a3f5f\",\"gridcolor\":\"white\",\"linecolor\":\"white\",\"minorgridcolor\":\"white\",\"startlinecolor\":\"#2a3f5f\"},\"baxis\":{\"endlinecolor\":\"#2a3f5f\",\"gridcolor\":\"white\",\"linecolor\":\"white\",\"minorgridcolor\":\"white\",\"startlinecolor\":\"#2a3f5f\"},\"type\":\"carpet\"}],\"choropleth\":[{\"colorbar\":{\"outlinewidth\":0,\"ticks\":\"\"},\"type\":\"choropleth\"}],\"contour\":[{\"colorbar\":{\"outlinewidth\":0,\"ticks\":\"\"},\"colorscale\":[[0.0,\"#0d0887\"],[0.1111111111111111,\"#46039f\"],[0.2222222222222222,\"#7201a8\"],[0.3333333333333333,\"#9c179e\"],[0.4444444444444444,\"#bd3786\"],[0.5555555555555556,\"#d8576b\"],[0.6666666666666666,\"#ed7953\"],[0.7777777777777778,\"#fb9f3a\"],[0.8888888888888888,\"#fdca26\"],[1.0,\"#f0f921\"]],\"type\":\"contour\"}],\"contourcarpet\":[{\"colorbar\":{\"outlinewidth\":0,\"ticks\":\"\"},\"type\":\"contourcarpet\"}],\"heatmap\":[{\"colorbar\":{\"outlinewidth\":0,\"ticks\":\"\"},\"colorscale\":[[0.0,\"#0d0887\"],[0.1111111111111111,\"#46039f\"],[0.2222222222222222,\"#7201a8\"],[0.3333333333333333,\"#9c179e\"],[0.4444444444444444,\"#bd3786\"],[0.5555555555555556,\"#d8576b\"],[0.6666666666666666,\"#ed7953\"],[0.7777777777777778,\"#fb9f3a\"],[0.8888888888888888,\"#fdca26\"],[1.0,\"#f0f921\"]],\"type\":\"heatmap\"}],\"heatmapgl\":[{\"colorbar\":{\"outlinewidth\":0,\"ticks\":\"\"},\"colorscale\":[[0.0,\"#0d0887\"],[0.1111111111111111,\"#46039f\"],[0.2222222222222222,\"#7201a8\"],[0.3333333333333333,\"#9c179e\"],[0.4444444444444444,\"#bd3786\"],[0.5555555555555556,\"#d8576b\"],[0.6666666666666666,\"#ed7953\"],[0.7777777777777778,\"#fb9f3a\"],[0.8888888888888888,\"#fdca26\"],[1.0,\"#f0f921\"]],\"type\":\"heatmapgl\"}],\"histogram\":[{\"marker\":{\"pattern\":{\"fillmode\":\"overlay\",\"size\":10,\"solidity\":0.2}},\"type\":\"histogram\"}],\"histogram2d\":[{\"colorbar\":{\"outlinewidth\":0,\"ticks\":\"\"},\"colorscale\":[[0.0,\"#0d0887\"],[0.1111111111111111,\"#46039f\"],[0.2222222222222222,\"#7201a8\"],[0.3333333333333333,\"#9c179e\"],[0.4444444444444444,\"#bd3786\"],[0.5555555555555556,\"#d8576b\"],[0.6666666666666666,\"#ed7953\"],[0.7777777777777778,\"#fb9f3a\"],[0.8888888888888888,\"#fdca26\"],[1.0,\"#f0f921\"]],\"type\":\"histogram2d\"}],\"histogram2dcontour\":[{\"colorbar\":{\"outlinewidth\":0,\"ticks\":\"\"},\"colorscale\":[[0.0,\"#0d0887\"],[0.1111111111111111,\"#46039f\"],[0.2222222222222222,\"#7201a8\"],[0.3333333333333333,\"#9c179e\"],[0.4444444444444444,\"#bd3786\"],[0.5555555555555556,\"#d8576b\"],[0.6666666666666666,\"#ed7953\"],[0.7777777777777778,\"#fb9f3a\"],[0.8888888888888888,\"#fdca26\"],[1.0,\"#f0f921\"]],\"type\":\"histogram2dcontour\"}],\"mesh3d\":[{\"colorbar\":{\"outlinewidth\":0,\"ticks\":\"\"},\"type\":\"mesh3d\"}],\"parcoords\":[{\"line\":{\"colorbar\":{\"outlinewidth\":0,\"ticks\":\"\"}},\"type\":\"parcoords\"}],\"pie\":[{\"automargin\":true,\"type\":\"pie\"}],\"scatter\":[{\"marker\":{\"colorbar\":{\"outlinewidth\":0,\"ticks\":\"\"}},\"type\":\"scatter\"}],\"scatter3d\":[{\"line\":{\"colorbar\":{\"outlinewidth\":0,\"ticks\":\"\"}},\"marker\":{\"colorbar\":{\"outlinewidth\":0,\"ticks\":\"\"}},\"type\":\"scatter3d\"}],\"scattercarpet\":[{\"marker\":{\"colorbar\":{\"outlinewidth\":0,\"ticks\":\"\"}},\"type\":\"scattercarpet\"}],\"scattergeo\":[{\"marker\":{\"colorbar\":{\"outlinewidth\":0,\"ticks\":\"\"}},\"type\":\"scattergeo\"}],\"scattergl\":[{\"marker\":{\"colorbar\":{\"outlinewidth\":0,\"ticks\":\"\"}},\"type\":\"scattergl\"}],\"scattermapbox\":[{\"marker\":{\"colorbar\":{\"outlinewidth\":0,\"ticks\":\"\"}},\"type\":\"scattermapbox\"}],\"scatterpolar\":[{\"marker\":{\"colorbar\":{\"outlinewidth\":0,\"ticks\":\"\"}},\"type\":\"scatterpolar\"}],\"scatterpolargl\":[{\"marker\":{\"colorbar\":{\"outlinewidth\":0,\"ticks\":\"\"}},\"type\":\"scatterpolargl\"}],\"scatterternary\":[{\"marker\":{\"colorbar\":{\"outlinewidth\":0,\"ticks\":\"\"}},\"type\":\"scatterternary\"}],\"surface\":[{\"colorbar\":{\"outlinewidth\":0,\"ticks\":\"\"},\"colorscale\":[[0.0,\"#0d0887\"],[0.1111111111111111,\"#46039f\"],[0.2222222222222222,\"#7201a8\"],[0.3333333333333333,\"#9c179e\"],[0.4444444444444444,\"#bd3786\"],[0.5555555555555556,\"#d8576b\"],[0.6666666666666666,\"#ed7953\"],[0.7777777777777778,\"#fb9f3a\"],[0.8888888888888888,\"#fdca26\"],[1.0,\"#f0f921\"]],\"type\":\"surface\"}],\"table\":[{\"cells\":{\"fill\":{\"color\":\"#EBF0F8\"},\"line\":{\"color\":\"white\"}},\"header\":{\"fill\":{\"color\":\"#C8D4E3\"},\"line\":{\"color\":\"white\"}},\"type\":\"table\"}]},\"layout\":{\"annotationdefaults\":{\"arrowcolor\":\"#2a3f5f\",\"arrowhead\":0,\"arrowwidth\":1},\"autotypenumbers\":\"strict\",\"coloraxis\":{\"colorbar\":{\"outlinewidth\":0,\"ticks\":\"\"}},\"colorscale\":{\"diverging\":[[0,\"#8e0152\"],[0.1,\"#c51b7d\"],[0.2,\"#de77ae\"],[0.3,\"#f1b6da\"],[0.4,\"#fde0ef\"],[0.5,\"#f7f7f7\"],[0.6,\"#e6f5d0\"],[0.7,\"#b8e186\"],[0.8,\"#7fbc41\"],[0.9,\"#4d9221\"],[1,\"#276419\"]],\"sequential\":[[0.0,\"#0d0887\"],[0.1111111111111111,\"#46039f\"],[0.2222222222222222,\"#7201a8\"],[0.3333333333333333,\"#9c179e\"],[0.4444444444444444,\"#bd3786\"],[0.5555555555555556,\"#d8576b\"],[0.6666666666666666,\"#ed7953\"],[0.7777777777777778,\"#fb9f3a\"],[0.8888888888888888,\"#fdca26\"],[1.0,\"#f0f921\"]],\"sequentialminus\":[[0.0,\"#0d0887\"],[0.1111111111111111,\"#46039f\"],[0.2222222222222222,\"#7201a8\"],[0.3333333333333333,\"#9c179e\"],[0.4444444444444444,\"#bd3786\"],[0.5555555555555556,\"#d8576b\"],[0.6666666666666666,\"#ed7953\"],[0.7777777777777778,\"#fb9f3a\"],[0.8888888888888888,\"#fdca26\"],[1.0,\"#f0f921\"]]},\"colorway\":[\"#636efa\",\"#EF553B\",\"#00cc96\",\"#ab63fa\",\"#FFA15A\",\"#19d3f3\",\"#FF6692\",\"#B6E880\",\"#FF97FF\",\"#FECB52\"],\"font\":{\"color\":\"#2a3f5f\"},\"geo\":{\"bgcolor\":\"white\",\"lakecolor\":\"white\",\"landcolor\":\"#E5ECF6\",\"showlakes\":true,\"showland\":true,\"subunitcolor\":\"white\"},\"hoverlabel\":{\"align\":\"left\"},\"hovermode\":\"closest\",\"mapbox\":{\"style\":\"light\"},\"paper_bgcolor\":\"white\",\"plot_bgcolor\":\"#E5ECF6\",\"polar\":{\"angularaxis\":{\"gridcolor\":\"white\",\"linecolor\":\"white\",\"ticks\":\"\"},\"bgcolor\":\"#E5ECF6\",\"radialaxis\":{\"gridcolor\":\"white\",\"linecolor\":\"white\",\"ticks\":\"\"}},\"scene\":{\"xaxis\":{\"backgroundcolor\":\"#E5ECF6\",\"gridcolor\":\"white\",\"gridwidth\":2,\"linecolor\":\"white\",\"showbackground\":true,\"ticks\":\"\",\"zerolinecolor\":\"white\"},\"yaxis\":{\"backgroundcolor\":\"#E5ECF6\",\"gridcolor\":\"white\",\"gridwidth\":2,\"linecolor\":\"white\",\"showbackground\":true,\"ticks\":\"\",\"zerolinecolor\":\"white\"},\"zaxis\":{\"backgroundcolor\":\"#E5ECF6\",\"gridcolor\":\"white\",\"gridwidth\":2,\"linecolor\":\"white\",\"showbackground\":true,\"ticks\":\"\",\"zerolinecolor\":\"white\"}},\"shapedefaults\":{\"line\":{\"color\":\"#2a3f5f\"}},\"ternary\":{\"aaxis\":{\"gridcolor\":\"white\",\"linecolor\":\"white\",\"ticks\":\"\"},\"baxis\":{\"gridcolor\":\"white\",\"linecolor\":\"white\",\"ticks\":\"\"},\"bgcolor\":\"#E5ECF6\",\"caxis\":{\"gridcolor\":\"white\",\"linecolor\":\"white\",\"ticks\":\"\"}},\"title\":{\"x\":0.05},\"xaxis\":{\"automargin\":true,\"gridcolor\":\"white\",\"linecolor\":\"white\",\"ticks\":\"\",\"title\":{\"standoff\":15},\"zerolinecolor\":\"white\",\"zerolinewidth\":2},\"yaxis\":{\"automargin\":true,\"gridcolor\":\"white\",\"linecolor\":\"white\",\"ticks\":\"\",\"title\":{\"standoff\":15},\"zerolinecolor\":\"white\",\"zerolinewidth\":2}}},\"title\":{\"text\":\"Novas conex\\u00f5es por m\\u00eas\"},\"xaxis\":{\"anchor\":\"y\",\"domain\":[0.0,1.0],\"title\":{\"text\":\"Connected Month\"}},\"yaxis\":{\"anchor\":\"x\",\"domain\":[0.0,1.0],\"title\":{\"text\":\"value\"}}},                        {\"responsive\": true}                    ).then(function(){\n",
              "                            \n",
              "var gd = document.getElementById('95346a34-3ed1-4a67-81af-eaca22f2d7d0');\n",
              "var x = new MutationObserver(function (mutations, observer) {{\n",
              "        var display = window.getComputedStyle(gd).display;\n",
              "        if (!display || display === 'none') {{\n",
              "            console.log([gd, 'removed!']);\n",
              "            Plotly.purge(gd);\n",
              "            observer.disconnect();\n",
              "        }}\n",
              "}});\n",
              "\n",
              "// Listen for the removal of the full notebook cells\n",
              "var notebookContainer = gd.closest('#notebook-container');\n",
              "if (notebookContainer) {{\n",
              "    x.observe(notebookContainer, {childList: true});\n",
              "}}\n",
              "\n",
              "// Listen for the clearing of the current output cell\n",
              "var outputEl = gd.closest('.output');\n",
              "if (outputEl) {{\n",
              "    x.observe(outputEl, {childList: true});\n",
              "}}\n",
              "\n",
              "                        })                };                            </script>        </div>\n",
              "</body>\n",
              "</html>"
            ]
          },
          "metadata": {}
        }
      ]
    },
    {
      "cell_type": "code",
      "metadata": {
        "id": "BP8ohX3V-9g5"
      },
      "source": [
        "#Função para converter somente em ano\n",
        "def converte_data_ano(data):\n",
        "  return datetime.datetime.strptime(data, '%Y-%m-%d').strftime('%Y')"
      ],
      "execution_count": null,
      "outputs": []
    },
    {
      "cell_type": "code",
      "metadata": {
        "colab": {
          "base_uri": "https://localhost:8080/",
          "height": 560
        },
        "id": "I6gMkNON_RQb",
        "outputId": "53441888-8b22-499d-8eff-106266111f77"
      },
      "source": [
        "# Armazenando somente o ano\n",
        "conexoes['Connected Year'] = conexoes['Connected On'].apply(converte_data_ano)\n",
        "# Mostrando os dados\n",
        "conexoes"
      ],
      "execution_count": null,
      "outputs": [
        {
          "output_type": "execute_result",
          "data": {
            "text/html": [
              "<div>\n",
              "<style scoped>\n",
              "    .dataframe tbody tr th:only-of-type {\n",
              "        vertical-align: middle;\n",
              "    }\n",
              "\n",
              "    .dataframe tbody tr th {\n",
              "        vertical-align: top;\n",
              "    }\n",
              "\n",
              "    .dataframe thead th {\n",
              "        text-align: right;\n",
              "    }\n",
              "</style>\n",
              "<table border=\"1\" class=\"dataframe\">\n",
              "  <thead>\n",
              "    <tr style=\"text-align: right;\">\n",
              "      <th></th>\n",
              "      <th>Company</th>\n",
              "      <th>Position</th>\n",
              "      <th>Connected On</th>\n",
              "      <th>Full Name</th>\n",
              "      <th>Connected Month</th>\n",
              "      <th>Connected Year</th>\n",
              "    </tr>\n",
              "  </thead>\n",
              "  <tbody>\n",
              "    <tr>\n",
              "      <th>0</th>\n",
              "      <td>Locbreak</td>\n",
              "      <td>empresa de energia</td>\n",
              "      <td>2021-09-13</td>\n",
              "      <td>Locbreak Energia SustentÃ¡vel</td>\n",
              "      <td>09</td>\n",
              "      <td>2021</td>\n",
              "    </tr>\n",
              "    <tr>\n",
              "      <th>1</th>\n",
              "      <td>Offerwise</td>\n",
              "      <td>Head Of Business Intelligence and Statistic Team</td>\n",
              "      <td>2021-09-13</td>\n",
              "      <td>Gustavo Gontijo</td>\n",
              "      <td>09</td>\n",
              "      <td>2021</td>\n",
              "    </tr>\n",
              "    <tr>\n",
              "      <th>2</th>\n",
              "      <td>Ãris | LaboratÃ³rio de InovaÃ§Ã£o e Dados</td>\n",
              "      <td>Gestora de Projetos</td>\n",
              "      <td>2021-09-13</td>\n",
              "      <td>Renata Duarte</td>\n",
              "      <td>09</td>\n",
              "      <td>2021</td>\n",
              "    </tr>\n",
              "    <tr>\n",
              "      <th>3</th>\n",
              "      <td>GR8 Sistemas e Tecnologia</td>\n",
              "      <td>Programador</td>\n",
              "      <td>2021-09-12</td>\n",
              "      <td>Michael Henrique Souza Ferreira</td>\n",
              "      <td>09</td>\n",
              "      <td>2021</td>\n",
              "    </tr>\n",
              "    <tr>\n",
              "      <th>4</th>\n",
              "      <td>Mercado Livre</td>\n",
              "      <td>Data Scientist</td>\n",
              "      <td>2021-09-11</td>\n",
              "      <td>Paulo Benatti Alves</td>\n",
              "      <td>09</td>\n",
              "      <td>2021</td>\n",
              "    </tr>\n",
              "    <tr>\n",
              "      <th>...</th>\n",
              "      <td>...</td>\n",
              "      <td>...</td>\n",
              "      <td>...</td>\n",
              "      <td>...</td>\n",
              "      <td>...</td>\n",
              "      <td>...</td>\n",
              "    </tr>\n",
              "    <tr>\n",
              "      <th>218</th>\n",
              "      <td>Axislera</td>\n",
              "      <td>Chief Technical Officer</td>\n",
              "      <td>2017-12-12</td>\n",
              "      <td>Arles Sant Ana</td>\n",
              "      <td>12</td>\n",
              "      <td>2017</td>\n",
              "    </tr>\n",
              "    <tr>\n",
              "      <th>219</th>\n",
              "      <td>Infomach</td>\n",
              "      <td>Fundador e CEO</td>\n",
              "      <td>2017-12-08</td>\n",
              "      <td>Antonio Luiz Alves</td>\n",
              "      <td>12</td>\n",
              "      <td>2017</td>\n",
              "    </tr>\n",
              "    <tr>\n",
              "      <th>220</th>\n",
              "      <td>Grupo GFT</td>\n",
              "      <td>Cloud Solutions Architect</td>\n",
              "      <td>2017-11-22</td>\n",
              "      <td>JosÃ© Vicente Jonas FranÃ§a</td>\n",
              "      <td>11</td>\n",
              "      <td>2017</td>\n",
              "    </tr>\n",
              "    <tr>\n",
              "      <th>221</th>\n",
              "      <td>Americas Health</td>\n",
              "      <td>Coordenador de Marketing e Relacionamento</td>\n",
              "      <td>2017-11-20</td>\n",
              "      <td>Yan DÃ¢maso</td>\n",
              "      <td>11</td>\n",
              "      <td>2017</td>\n",
              "    </tr>\n",
              "    <tr>\n",
              "      <th>222</th>\n",
              "      <td>ServiceNow</td>\n",
              "      <td>Senior Enterprise Account Manager</td>\n",
              "      <td>2017-10-31</td>\n",
              "      <td>Cesar Brasil</td>\n",
              "      <td>10</td>\n",
              "      <td>2017</td>\n",
              "    </tr>\n",
              "  </tbody>\n",
              "</table>\n",
              "<p>223 rows × 6 columns</p>\n",
              "</div>"
            ],
            "text/plain": [
              "                                         Company  ... Connected Year\n",
              "0                                       Locbreak  ...           2021\n",
              "1                                      Offerwise  ...           2021\n",
              "2    Ãris | LaboratÃ³rio de InovaÃ§Ã£o e Dados   ...           2021\n",
              "3                      GR8 Sistemas e Tecnologia  ...           2021\n",
              "4                                  Mercado Livre  ...           2021\n",
              "..                                           ...  ...            ...\n",
              "218                                     Axislera  ...           2017\n",
              "219                                     Infomach  ...           2017\n",
              "220                                    Grupo GFT  ...           2017\n",
              "221                              Americas Health  ...           2017\n",
              "222                                   ServiceNow  ...           2017\n",
              "\n",
              "[223 rows x 6 columns]"
            ]
          },
          "metadata": {},
          "execution_count": 257
        }
      ]
    },
    {
      "cell_type": "code",
      "metadata": {
        "colab": {
          "base_uri": "https://localhost:8080/",
          "height": 236
        },
        "id": "VT7NEiBn_RN8",
        "outputId": "c0c58647-72c8-4d9a-f14f-f6445fe445ca"
      },
      "source": [
        "# Agrupando os dados para verificar quantidade de conexões por ano\n",
        "conexoes.groupby(by ='Connected Year').count()"
      ],
      "execution_count": null,
      "outputs": [
        {
          "output_type": "execute_result",
          "data": {
            "text/html": [
              "<div>\n",
              "<style scoped>\n",
              "    .dataframe tbody tr th:only-of-type {\n",
              "        vertical-align: middle;\n",
              "    }\n",
              "\n",
              "    .dataframe tbody tr th {\n",
              "        vertical-align: top;\n",
              "    }\n",
              "\n",
              "    .dataframe thead th {\n",
              "        text-align: right;\n",
              "    }\n",
              "</style>\n",
              "<table border=\"1\" class=\"dataframe\">\n",
              "  <thead>\n",
              "    <tr style=\"text-align: right;\">\n",
              "      <th></th>\n",
              "      <th>Company</th>\n",
              "      <th>Position</th>\n",
              "      <th>Connected On</th>\n",
              "      <th>Full Name</th>\n",
              "      <th>Connected Month</th>\n",
              "    </tr>\n",
              "    <tr>\n",
              "      <th>Connected Year</th>\n",
              "      <th></th>\n",
              "      <th></th>\n",
              "      <th></th>\n",
              "      <th></th>\n",
              "      <th></th>\n",
              "    </tr>\n",
              "  </thead>\n",
              "  <tbody>\n",
              "    <tr>\n",
              "      <th>2017</th>\n",
              "      <td>8</td>\n",
              "      <td>8</td>\n",
              "      <td>8</td>\n",
              "      <td>8</td>\n",
              "      <td>8</td>\n",
              "    </tr>\n",
              "    <tr>\n",
              "      <th>2018</th>\n",
              "      <td>66</td>\n",
              "      <td>66</td>\n",
              "      <td>66</td>\n",
              "      <td>66</td>\n",
              "      <td>66</td>\n",
              "    </tr>\n",
              "    <tr>\n",
              "      <th>2019</th>\n",
              "      <td>52</td>\n",
              "      <td>52</td>\n",
              "      <td>52</td>\n",
              "      <td>52</td>\n",
              "      <td>52</td>\n",
              "    </tr>\n",
              "    <tr>\n",
              "      <th>2020</th>\n",
              "      <td>25</td>\n",
              "      <td>25</td>\n",
              "      <td>25</td>\n",
              "      <td>25</td>\n",
              "      <td>25</td>\n",
              "    </tr>\n",
              "    <tr>\n",
              "      <th>2021</th>\n",
              "      <td>72</td>\n",
              "      <td>72</td>\n",
              "      <td>72</td>\n",
              "      <td>72</td>\n",
              "      <td>72</td>\n",
              "    </tr>\n",
              "  </tbody>\n",
              "</table>\n",
              "</div>"
            ],
            "text/plain": [
              "                Company  Position  Connected On  Full Name  Connected Month\n",
              "Connected Year                                                             \n",
              "2017                  8         8             8          8                8\n",
              "2018                 66        66            66         66               66\n",
              "2019                 52        52            52         52               52\n",
              "2020                 25        25            25         25               25\n",
              "2021                 72        72            72         72               72"
            ]
          },
          "metadata": {},
          "execution_count": 258
        }
      ]
    },
    {
      "cell_type": "code",
      "metadata": {
        "colab": {
          "base_uri": "https://localhost:8080/",
          "height": 542
        },
        "id": "EZGpFEKF_Q_b",
        "outputId": "f90090a8-8097-43f6-8459-c02c4b181ce6"
      },
      "source": [
        "grafico = px.line(conexoes.groupby(by='Connected Year').count(), title = 'Novas Conexões por Ano')\n",
        "grafico.show()"
      ],
      "execution_count": null,
      "outputs": [
        {
          "output_type": "display_data",
          "data": {
            "text/html": [
              "<html>\n",
              "<head><meta charset=\"utf-8\" /></head>\n",
              "<body>\n",
              "    <div>            <script src=\"https://cdnjs.cloudflare.com/ajax/libs/mathjax/2.7.5/MathJax.js?config=TeX-AMS-MML_SVG\"></script><script type=\"text/javascript\">if (window.MathJax) {MathJax.Hub.Config({SVG: {font: \"STIX-Web\"}});}</script>                <script type=\"text/javascript\">window.PlotlyConfig = {MathJaxConfig: 'local'};</script>\n",
              "        <script src=\"https://cdn.plot.ly/plotly-2.4.2.min.js\"></script>                <div id=\"adf9b20c-eff1-4e14-868f-d8e7d2d759dd\" class=\"plotly-graph-div\" style=\"height:525px; width:100%;\"></div>            <script type=\"text/javascript\">                                    window.PLOTLYENV=window.PLOTLYENV || {};                                    if (document.getElementById(\"adf9b20c-eff1-4e14-868f-d8e7d2d759dd\")) {                    Plotly.newPlot(                        \"adf9b20c-eff1-4e14-868f-d8e7d2d759dd\",                        [{\"hovertemplate\":\"variable=Company<br>Connected Year=%{x}<br>value=%{y}<extra></extra>\",\"legendgroup\":\"Company\",\"line\":{\"color\":\"#636efa\",\"dash\":\"solid\"},\"marker\":{\"symbol\":\"circle\"},\"mode\":\"lines\",\"name\":\"Company\",\"orientation\":\"v\",\"showlegend\":true,\"type\":\"scatter\",\"x\":[\"2017\",\"2018\",\"2019\",\"2020\",\"2021\"],\"xaxis\":\"x\",\"y\":[8,66,52,25,72],\"yaxis\":\"y\"},{\"hovertemplate\":\"variable=Position<br>Connected Year=%{x}<br>value=%{y}<extra></extra>\",\"legendgroup\":\"Position\",\"line\":{\"color\":\"#EF553B\",\"dash\":\"solid\"},\"marker\":{\"symbol\":\"circle\"},\"mode\":\"lines\",\"name\":\"Position\",\"orientation\":\"v\",\"showlegend\":true,\"type\":\"scatter\",\"x\":[\"2017\",\"2018\",\"2019\",\"2020\",\"2021\"],\"xaxis\":\"x\",\"y\":[8,66,52,25,72],\"yaxis\":\"y\"},{\"hovertemplate\":\"variable=Connected On<br>Connected Year=%{x}<br>value=%{y}<extra></extra>\",\"legendgroup\":\"Connected On\",\"line\":{\"color\":\"#00cc96\",\"dash\":\"solid\"},\"marker\":{\"symbol\":\"circle\"},\"mode\":\"lines\",\"name\":\"Connected On\",\"orientation\":\"v\",\"showlegend\":true,\"type\":\"scatter\",\"x\":[\"2017\",\"2018\",\"2019\",\"2020\",\"2021\"],\"xaxis\":\"x\",\"y\":[8,66,52,25,72],\"yaxis\":\"y\"},{\"hovertemplate\":\"variable=Full Name<br>Connected Year=%{x}<br>value=%{y}<extra></extra>\",\"legendgroup\":\"Full Name\",\"line\":{\"color\":\"#ab63fa\",\"dash\":\"solid\"},\"marker\":{\"symbol\":\"circle\"},\"mode\":\"lines\",\"name\":\"Full Name\",\"orientation\":\"v\",\"showlegend\":true,\"type\":\"scatter\",\"x\":[\"2017\",\"2018\",\"2019\",\"2020\",\"2021\"],\"xaxis\":\"x\",\"y\":[8,66,52,25,72],\"yaxis\":\"y\"},{\"hovertemplate\":\"variable=Connected Month<br>Connected Year=%{x}<br>value=%{y}<extra></extra>\",\"legendgroup\":\"Connected Month\",\"line\":{\"color\":\"#FFA15A\",\"dash\":\"solid\"},\"marker\":{\"symbol\":\"circle\"},\"mode\":\"lines\",\"name\":\"Connected Month\",\"orientation\":\"v\",\"showlegend\":true,\"type\":\"scatter\",\"x\":[\"2017\",\"2018\",\"2019\",\"2020\",\"2021\"],\"xaxis\":\"x\",\"y\":[8,66,52,25,72],\"yaxis\":\"y\"}],                        {\"legend\":{\"title\":{\"text\":\"variable\"},\"tracegroupgap\":0},\"template\":{\"data\":{\"bar\":[{\"error_x\":{\"color\":\"#2a3f5f\"},\"error_y\":{\"color\":\"#2a3f5f\"},\"marker\":{\"line\":{\"color\":\"#E5ECF6\",\"width\":0.5},\"pattern\":{\"fillmode\":\"overlay\",\"size\":10,\"solidity\":0.2}},\"type\":\"bar\"}],\"barpolar\":[{\"marker\":{\"line\":{\"color\":\"#E5ECF6\",\"width\":0.5},\"pattern\":{\"fillmode\":\"overlay\",\"size\":10,\"solidity\":0.2}},\"type\":\"barpolar\"}],\"carpet\":[{\"aaxis\":{\"endlinecolor\":\"#2a3f5f\",\"gridcolor\":\"white\",\"linecolor\":\"white\",\"minorgridcolor\":\"white\",\"startlinecolor\":\"#2a3f5f\"},\"baxis\":{\"endlinecolor\":\"#2a3f5f\",\"gridcolor\":\"white\",\"linecolor\":\"white\",\"minorgridcolor\":\"white\",\"startlinecolor\":\"#2a3f5f\"},\"type\":\"carpet\"}],\"choropleth\":[{\"colorbar\":{\"outlinewidth\":0,\"ticks\":\"\"},\"type\":\"choropleth\"}],\"contour\":[{\"colorbar\":{\"outlinewidth\":0,\"ticks\":\"\"},\"colorscale\":[[0.0,\"#0d0887\"],[0.1111111111111111,\"#46039f\"],[0.2222222222222222,\"#7201a8\"],[0.3333333333333333,\"#9c179e\"],[0.4444444444444444,\"#bd3786\"],[0.5555555555555556,\"#d8576b\"],[0.6666666666666666,\"#ed7953\"],[0.7777777777777778,\"#fb9f3a\"],[0.8888888888888888,\"#fdca26\"],[1.0,\"#f0f921\"]],\"type\":\"contour\"}],\"contourcarpet\":[{\"colorbar\":{\"outlinewidth\":0,\"ticks\":\"\"},\"type\":\"contourcarpet\"}],\"heatmap\":[{\"colorbar\":{\"outlinewidth\":0,\"ticks\":\"\"},\"colorscale\":[[0.0,\"#0d0887\"],[0.1111111111111111,\"#46039f\"],[0.2222222222222222,\"#7201a8\"],[0.3333333333333333,\"#9c179e\"],[0.4444444444444444,\"#bd3786\"],[0.5555555555555556,\"#d8576b\"],[0.6666666666666666,\"#ed7953\"],[0.7777777777777778,\"#fb9f3a\"],[0.8888888888888888,\"#fdca26\"],[1.0,\"#f0f921\"]],\"type\":\"heatmap\"}],\"heatmapgl\":[{\"colorbar\":{\"outlinewidth\":0,\"ticks\":\"\"},\"colorscale\":[[0.0,\"#0d0887\"],[0.1111111111111111,\"#46039f\"],[0.2222222222222222,\"#7201a8\"],[0.3333333333333333,\"#9c179e\"],[0.4444444444444444,\"#bd3786\"],[0.5555555555555556,\"#d8576b\"],[0.6666666666666666,\"#ed7953\"],[0.7777777777777778,\"#fb9f3a\"],[0.8888888888888888,\"#fdca26\"],[1.0,\"#f0f921\"]],\"type\":\"heatmapgl\"}],\"histogram\":[{\"marker\":{\"pattern\":{\"fillmode\":\"overlay\",\"size\":10,\"solidity\":0.2}},\"type\":\"histogram\"}],\"histogram2d\":[{\"colorbar\":{\"outlinewidth\":0,\"ticks\":\"\"},\"colorscale\":[[0.0,\"#0d0887\"],[0.1111111111111111,\"#46039f\"],[0.2222222222222222,\"#7201a8\"],[0.3333333333333333,\"#9c179e\"],[0.4444444444444444,\"#bd3786\"],[0.5555555555555556,\"#d8576b\"],[0.6666666666666666,\"#ed7953\"],[0.7777777777777778,\"#fb9f3a\"],[0.8888888888888888,\"#fdca26\"],[1.0,\"#f0f921\"]],\"type\":\"histogram2d\"}],\"histogram2dcontour\":[{\"colorbar\":{\"outlinewidth\":0,\"ticks\":\"\"},\"colorscale\":[[0.0,\"#0d0887\"],[0.1111111111111111,\"#46039f\"],[0.2222222222222222,\"#7201a8\"],[0.3333333333333333,\"#9c179e\"],[0.4444444444444444,\"#bd3786\"],[0.5555555555555556,\"#d8576b\"],[0.6666666666666666,\"#ed7953\"],[0.7777777777777778,\"#fb9f3a\"],[0.8888888888888888,\"#fdca26\"],[1.0,\"#f0f921\"]],\"type\":\"histogram2dcontour\"}],\"mesh3d\":[{\"colorbar\":{\"outlinewidth\":0,\"ticks\":\"\"},\"type\":\"mesh3d\"}],\"parcoords\":[{\"line\":{\"colorbar\":{\"outlinewidth\":0,\"ticks\":\"\"}},\"type\":\"parcoords\"}],\"pie\":[{\"automargin\":true,\"type\":\"pie\"}],\"scatter\":[{\"marker\":{\"colorbar\":{\"outlinewidth\":0,\"ticks\":\"\"}},\"type\":\"scatter\"}],\"scatter3d\":[{\"line\":{\"colorbar\":{\"outlinewidth\":0,\"ticks\":\"\"}},\"marker\":{\"colorbar\":{\"outlinewidth\":0,\"ticks\":\"\"}},\"type\":\"scatter3d\"}],\"scattercarpet\":[{\"marker\":{\"colorbar\":{\"outlinewidth\":0,\"ticks\":\"\"}},\"type\":\"scattercarpet\"}],\"scattergeo\":[{\"marker\":{\"colorbar\":{\"outlinewidth\":0,\"ticks\":\"\"}},\"type\":\"scattergeo\"}],\"scattergl\":[{\"marker\":{\"colorbar\":{\"outlinewidth\":0,\"ticks\":\"\"}},\"type\":\"scattergl\"}],\"scattermapbox\":[{\"marker\":{\"colorbar\":{\"outlinewidth\":0,\"ticks\":\"\"}},\"type\":\"scattermapbox\"}],\"scatterpolar\":[{\"marker\":{\"colorbar\":{\"outlinewidth\":0,\"ticks\":\"\"}},\"type\":\"scatterpolar\"}],\"scatterpolargl\":[{\"marker\":{\"colorbar\":{\"outlinewidth\":0,\"ticks\":\"\"}},\"type\":\"scatterpolargl\"}],\"scatterternary\":[{\"marker\":{\"colorbar\":{\"outlinewidth\":0,\"ticks\":\"\"}},\"type\":\"scatterternary\"}],\"surface\":[{\"colorbar\":{\"outlinewidth\":0,\"ticks\":\"\"},\"colorscale\":[[0.0,\"#0d0887\"],[0.1111111111111111,\"#46039f\"],[0.2222222222222222,\"#7201a8\"],[0.3333333333333333,\"#9c179e\"],[0.4444444444444444,\"#bd3786\"],[0.5555555555555556,\"#d8576b\"],[0.6666666666666666,\"#ed7953\"],[0.7777777777777778,\"#fb9f3a\"],[0.8888888888888888,\"#fdca26\"],[1.0,\"#f0f921\"]],\"type\":\"surface\"}],\"table\":[{\"cells\":{\"fill\":{\"color\":\"#EBF0F8\"},\"line\":{\"color\":\"white\"}},\"header\":{\"fill\":{\"color\":\"#C8D4E3\"},\"line\":{\"color\":\"white\"}},\"type\":\"table\"}]},\"layout\":{\"annotationdefaults\":{\"arrowcolor\":\"#2a3f5f\",\"arrowhead\":0,\"arrowwidth\":1},\"autotypenumbers\":\"strict\",\"coloraxis\":{\"colorbar\":{\"outlinewidth\":0,\"ticks\":\"\"}},\"colorscale\":{\"diverging\":[[0,\"#8e0152\"],[0.1,\"#c51b7d\"],[0.2,\"#de77ae\"],[0.3,\"#f1b6da\"],[0.4,\"#fde0ef\"],[0.5,\"#f7f7f7\"],[0.6,\"#e6f5d0\"],[0.7,\"#b8e186\"],[0.8,\"#7fbc41\"],[0.9,\"#4d9221\"],[1,\"#276419\"]],\"sequential\":[[0.0,\"#0d0887\"],[0.1111111111111111,\"#46039f\"],[0.2222222222222222,\"#7201a8\"],[0.3333333333333333,\"#9c179e\"],[0.4444444444444444,\"#bd3786\"],[0.5555555555555556,\"#d8576b\"],[0.6666666666666666,\"#ed7953\"],[0.7777777777777778,\"#fb9f3a\"],[0.8888888888888888,\"#fdca26\"],[1.0,\"#f0f921\"]],\"sequentialminus\":[[0.0,\"#0d0887\"],[0.1111111111111111,\"#46039f\"],[0.2222222222222222,\"#7201a8\"],[0.3333333333333333,\"#9c179e\"],[0.4444444444444444,\"#bd3786\"],[0.5555555555555556,\"#d8576b\"],[0.6666666666666666,\"#ed7953\"],[0.7777777777777778,\"#fb9f3a\"],[0.8888888888888888,\"#fdca26\"],[1.0,\"#f0f921\"]]},\"colorway\":[\"#636efa\",\"#EF553B\",\"#00cc96\",\"#ab63fa\",\"#FFA15A\",\"#19d3f3\",\"#FF6692\",\"#B6E880\",\"#FF97FF\",\"#FECB52\"],\"font\":{\"color\":\"#2a3f5f\"},\"geo\":{\"bgcolor\":\"white\",\"lakecolor\":\"white\",\"landcolor\":\"#E5ECF6\",\"showlakes\":true,\"showland\":true,\"subunitcolor\":\"white\"},\"hoverlabel\":{\"align\":\"left\"},\"hovermode\":\"closest\",\"mapbox\":{\"style\":\"light\"},\"paper_bgcolor\":\"white\",\"plot_bgcolor\":\"#E5ECF6\",\"polar\":{\"angularaxis\":{\"gridcolor\":\"white\",\"linecolor\":\"white\",\"ticks\":\"\"},\"bgcolor\":\"#E5ECF6\",\"radialaxis\":{\"gridcolor\":\"white\",\"linecolor\":\"white\",\"ticks\":\"\"}},\"scene\":{\"xaxis\":{\"backgroundcolor\":\"#E5ECF6\",\"gridcolor\":\"white\",\"gridwidth\":2,\"linecolor\":\"white\",\"showbackground\":true,\"ticks\":\"\",\"zerolinecolor\":\"white\"},\"yaxis\":{\"backgroundcolor\":\"#E5ECF6\",\"gridcolor\":\"white\",\"gridwidth\":2,\"linecolor\":\"white\",\"showbackground\":true,\"ticks\":\"\",\"zerolinecolor\":\"white\"},\"zaxis\":{\"backgroundcolor\":\"#E5ECF6\",\"gridcolor\":\"white\",\"gridwidth\":2,\"linecolor\":\"white\",\"showbackground\":true,\"ticks\":\"\",\"zerolinecolor\":\"white\"}},\"shapedefaults\":{\"line\":{\"color\":\"#2a3f5f\"}},\"ternary\":{\"aaxis\":{\"gridcolor\":\"white\",\"linecolor\":\"white\",\"ticks\":\"\"},\"baxis\":{\"gridcolor\":\"white\",\"linecolor\":\"white\",\"ticks\":\"\"},\"bgcolor\":\"#E5ECF6\",\"caxis\":{\"gridcolor\":\"white\",\"linecolor\":\"white\",\"ticks\":\"\"}},\"title\":{\"x\":0.05},\"xaxis\":{\"automargin\":true,\"gridcolor\":\"white\",\"linecolor\":\"white\",\"ticks\":\"\",\"title\":{\"standoff\":15},\"zerolinecolor\":\"white\",\"zerolinewidth\":2},\"yaxis\":{\"automargin\":true,\"gridcolor\":\"white\",\"linecolor\":\"white\",\"ticks\":\"\",\"title\":{\"standoff\":15},\"zerolinecolor\":\"white\",\"zerolinewidth\":2}}},\"title\":{\"text\":\"Novas Conex\\u00f5es por Ano\"},\"xaxis\":{\"anchor\":\"y\",\"domain\":[0.0,1.0],\"title\":{\"text\":\"Connected Year\"}},\"yaxis\":{\"anchor\":\"x\",\"domain\":[0.0,1.0],\"title\":{\"text\":\"value\"}}},                        {\"responsive\": true}                    ).then(function(){\n",
              "                            \n",
              "var gd = document.getElementById('adf9b20c-eff1-4e14-868f-d8e7d2d759dd');\n",
              "var x = new MutationObserver(function (mutations, observer) {{\n",
              "        var display = window.getComputedStyle(gd).display;\n",
              "        if (!display || display === 'none') {{\n",
              "            console.log([gd, 'removed!']);\n",
              "            Plotly.purge(gd);\n",
              "            observer.disconnect();\n",
              "        }}\n",
              "}});\n",
              "\n",
              "// Listen for the removal of the full notebook cells\n",
              "var notebookContainer = gd.closest('#notebook-container');\n",
              "if (notebookContainer) {{\n",
              "    x.observe(notebookContainer, {childList: true});\n",
              "}}\n",
              "\n",
              "// Listen for the clearing of the current output cell\n",
              "var outputEl = gd.closest('.output');\n",
              "if (outputEl) {{\n",
              "    x.observe(outputEl, {childList: true});\n",
              "}}\n",
              "\n",
              "                        })                };                            </script>        </div>\n",
              "</body>\n",
              "</html>"
            ]
          },
          "metadata": {}
        }
      ]
    },
    {
      "cell_type": "markdown",
      "metadata": {
        "id": "sSLq3uiyAk7E"
      },
      "source": [
        "## Empresa\n"
      ]
    },
    {
      "cell_type": "code",
      "metadata": {
        "colab": {
          "base_uri": "https://localhost:8080/"
        },
        "id": "n4jF_CneApTG",
        "outputId": "f7ac251f-22f7-41bf-e228-939627544af9"
      },
      "source": [
        "# Lista das empresas e quantas pessoas trabalham em cada empresa\n",
        "\n",
        "np.unique(conexoes['Company'], return_counts=True)"
      ],
      "execution_count": null,
      "outputs": [
        {
          "output_type": "execute_result",
          "data": {
            "text/plain": [
              "(array(['2Com Consulting', 'ACE Startups', 'ADVANCED Consulting',\n",
              "        'ATRA Informatica', 'AWWCOR Inc', 'AYESA', 'Accenture Brasil',\n",
              "        'AdÃ£o ImÃ³veis', 'Alura Cursos Online',\n",
              "        'Amanda Manzi Consultoria em GestÃ£o com Pessoas',\n",
              "        'Americas Health', 'Aoop Cloud Solutions', 'AutÃ´nomo',\n",
              "        'Auvo Tecnologia', 'Axislera',\n",
              "        'BDA Solutions | Big Data & Analytics', 'BR Home Centers',\n",
              "        'Brunel', 'BuzzLead', 'CELK Sistemas', 'CPqD', 'CRP Tecnologia',\n",
              "        'CVV - Centro de ValorizaÃ§Ã£o da Vida',\n",
              "        'Centro de ExcelÃªncia em InteligÃªncia Artificial (CExIA) & Deep Learning Brasil',\n",
              "        'Cielo', 'ClearSale', 'Click Menos', 'CollÃ¨ge des IngÃ©nieurs',\n",
              "        'Compasso UOL', 'Conexa - Um Hub de InovaÃ§Ã£o Siagri',\n",
              "        'Cooperativa COMIGO', 'Corp360', 'CrowdStrike', 'DATA H ',\n",
              "        'DIVIDATA Processamento de Dados Ltda', 'DSX IT Solutions',\n",
              "        'DSX iT Solutions', 'Data Sprints', 'Datadog', 'Deal',\n",
              "        'Defensoria Publica do Estado de GoiÃ¡s ', 'Deloitte', 'ESoluti',\n",
              "        'EasyPlay', 'Ecx Card - CartÃµes de BenefÃ\\xadcios', 'Emater -Go',\n",
              "        'Enel', 'Enel Brasil', 'Enel DistribuiÃ§Ã£o GoiÃ¡s', 'Enel Goias',\n",
              "        'Enel Group', 'Energisa', 'Escola ZION', 'EspaÃ§o Ã‰tica',\n",
              "        'Exis Servicos', 'FR Digital',\n",
              "        'Faculdade de Tecnologia Senac GoiÃ¡s.', 'Founder Institute',\n",
              "        'FundaÃ§Ã£o CPqD â€“ Centro de Pesquisa e Desenvolvimento em TelecomunicaÃ§Ãµes',\n",
              "        'G4F SoluÃ§Ãµes Corporativas', 'GOL Linhas AÃ©reas',\n",
              "        'GR8 Sistemas e Tecnologia', 'Gauge', 'GoVendas', 'Grupo GFT',\n",
              "        'Grupo Saga', 'Gynprog Diagnostico Automotivo',\n",
              "        'HD Tecnologia em InformaÃ§Ãµes',\n",
              "        'HMAP - Hospital Municipal de Aparecida de GoiÃ¢nia', 'Hapvida',\n",
              "        'INN Tecnologia', 'INTERA | Talent Hacking',\n",
              "        'IPOG - Instituto de PÃ³s-GraduaÃ§Ã£o e GraduaÃ§Ã£o',\n",
              "        'InSol Tecnologia', 'Indra', 'Influency.me', 'Infomach',\n",
              "        'Infomach SoluÃ§Ãµes', 'Ingenieros Emetres SLP (Im3)', 'Invillia',\n",
              "        'ItaÃº Unibanco', 'Juntos Somos Mais', 'Ka Solution', 'Kavak.com',\n",
              "        'Konsulti', 'LG lugar de gente', 'LUBEXx', 'Locbreak', 'Loft',\n",
              "        'Lottus Psicologia', 'Lucroo', 'Lynx Spa', 'MadeFY',\n",
              "        'ManpowerGroup', 'MasterMind Brasil Central', 'Meetime',\n",
              "        'Memora Processos Inovadores S/A', 'Mercado Livre', 'Meta Farma',\n",
              "        'Mindtree', 'Minerva Foods', 'Mutant', 'MyFarm ', 'NTT DATA',\n",
              "        'NectarCRM', 'Novo Mundo MÃ³veis e Utilidades', 'Nubank',\n",
              "        'Offerwise', 'Office Hostel', 'Oitis Hotel', 'Ok Dados',\n",
              "        'Olegario Motors', 'OnCloud_Br', 'Online UX Team', 'Oobj',\n",
              "        'Oobj - Tecnologia em GestÃ£o Fiscal',\n",
              "        'Organizacao Das Voluntarias De Goias', 'PepsiCo',\n",
              "        'Philip Morris International', 'Philips', 'Piracanjuba',\n",
              "        'Pit Bull Jeans', 'Planalto ',\n",
              "        'Point Point - Engenharia e Tecnologia.', 'Primepass',\n",
              "        'Procuradoria Geral do Estado de GoiÃ¡s', 'Qualiti Network',\n",
              "        'Rede Frota', 'Reev Â®', 'SONDA', 'Sales Hackers', 'Sanmina',\n",
              "        'ScoraS',\n",
              "        'Secretaria Municipal De Desenvolvimento Humano e Social',\n",
              "        'Senior Sistemas', 'Service IT.', 'ServiceNow',\n",
              "        'SisProg InformÃ¡tica', 'Soluti Digital', 'Stefanini Brasil',\n",
              "        'Studio Le San', 'SuasVendas', 'T Engenharia e Sistemas (TEES)',\n",
              "        'TH Consult', 'TOTVS', 'Tag Business Solutions',\n",
              "        'Tagesspiegel Background MobilitÃ¤t und Transport', 'Tembici',\n",
              "        'The Brooklyn Brothers', 'Tidlos Home', 'Towards Data Science',\n",
              "        'TraÃ§o NegÃ³cios',\n",
              "        'UniEVANGÃ‰LICA - Centro UniversitÃ¡rio de AnÃ¡polis',\n",
              "        'Universidade Federal de GoiÃ¡s', 'Vale',\n",
              "        'Vorbe Engenharia e ServiÃ§os', 'WBusiness', 'Webmotors',\n",
              "        'Wildlife Studios', 'Winning by Design', 'Wipro Limited',\n",
              "        'Xavante Solutions', 'ZG SoluÃ§Ãµes', 'ZÃ© Delivery', 'a55',\n",
              "        'edrone', 'enjoei', 'iFood', 'iRancho', 'ioasys',\n",
              "        'Ã\\x8dris | LaboratÃ³rio de InovaÃ§Ã£o e Dados '], dtype=object),\n",
              " array([ 1,  1,  1,  1,  1,  5,  1,  2,  1,  1,  1,  1,  1,  1,  1,  1,  1,\n",
              "         1,  1,  1,  2,  1,  1,  1,  1,  1,  1,  1,  1,  2,  1,  1,  1,  1,\n",
              "         1,  1,  1,  1,  1,  1,  1,  1,  1,  1,  1,  1,  5, 10,  1,  1,  9,\n",
              "         1,  1,  1,  2,  1,  1,  1,  1,  1,  1,  1,  1,  1,  2,  1,  1,  1,\n",
              "         1,  1,  1,  1,  1,  1,  1,  1,  4,  4,  1,  1,  2,  1,  1,  1,  1,\n",
              "         5,  1,  1,  1,  1,  1,  1,  1,  1,  1,  1,  1,  2,  1,  1,  1,  1,\n",
              "         1,  1,  1,  1,  2,  1,  1,  1,  3,  1,  1,  1,  1,  1,  1,  1,  1,\n",
              "         1,  1,  1,  1,  1,  1,  1,  1,  1,  1,  3,  1,  1,  1,  1,  1,  1,\n",
              "         2,  1,  1,  1,  1,  1,  2,  1,  1,  2,  1,  1,  1,  1,  1,  1,  1,\n",
              "         2,  1,  1,  1,  1,  1,  1,  1,  1,  2,  1,  1,  1,  1,  1,  1,  1,\n",
              "         1]))"
            ]
          },
          "metadata": {},
          "execution_count": 261
        }
      ]
    },
    {
      "cell_type": "code",
      "metadata": {
        "colab": {
          "base_uri": "https://localhost:8080/"
        },
        "id": "yEdhK9McC3aa",
        "outputId": "3b7c7909-776f-405b-fbcd-32aee7476532"
      },
      "source": [
        "conexoes.shape"
      ],
      "execution_count": null,
      "outputs": [
        {
          "output_type": "execute_result",
          "data": {
            "text/plain": [
              "(223, 6)"
            ]
          },
          "metadata": {},
          "execution_count": 262
        }
      ]
    },
    {
      "cell_type": "code",
      "metadata": {
        "colab": {
          "base_uri": "https://localhost:8080/"
        },
        "id": "PLak2tL-DQIO",
        "outputId": "87193a13-ee33-4f12-d2de-c4a05a9f32b8"
      },
      "source": [
        "len(np.unique(conexoes['Company']))"
      ],
      "execution_count": null,
      "outputs": [
        {
          "output_type": "execute_result",
          "data": {
            "text/plain": [
              "171"
            ]
          },
          "metadata": {},
          "execution_count": 263
        }
      ]
    },
    {
      "cell_type": "code",
      "metadata": {
        "colab": {
          "base_uri": "https://localhost:8080/",
          "height": 542
        },
        "id": "9MZaoACfDWuk",
        "outputId": "4177f642-704e-49e8-891a-1e47b71111ad"
      },
      "source": [
        "grafico = px.histogram(conexoes['Company'])\n",
        "grafico.show()"
      ],
      "execution_count": null,
      "outputs": [
        {
          "output_type": "display_data",
          "data": {
            "text/html": [
              "<html>\n",
              "<head><meta charset=\"utf-8\" /></head>\n",
              "<body>\n",
              "    <div>            <script src=\"https://cdnjs.cloudflare.com/ajax/libs/mathjax/2.7.5/MathJax.js?config=TeX-AMS-MML_SVG\"></script><script type=\"text/javascript\">if (window.MathJax) {MathJax.Hub.Config({SVG: {font: \"STIX-Web\"}});}</script>                <script type=\"text/javascript\">window.PlotlyConfig = {MathJaxConfig: 'local'};</script>\n",
              "        <script src=\"https://cdn.plot.ly/plotly-2.4.2.min.js\"></script>                <div id=\"3d14ebfb-5a5d-46c5-8e0f-23ef5e587bc2\" class=\"plotly-graph-div\" style=\"height:525px; width:100%;\"></div>            <script type=\"text/javascript\">                                    window.PLOTLYENV=window.PLOTLYENV || {};                                    if (document.getElementById(\"3d14ebfb-5a5d-46c5-8e0f-23ef5e587bc2\")) {                    Plotly.newPlot(                        \"3d14ebfb-5a5d-46c5-8e0f-23ef5e587bc2\",                        [{\"alignmentgroup\":\"True\",\"bingroup\":\"x\",\"hovertemplate\":\"variable=Company<br>value=%{x}<br>count=%{y}<extra></extra>\",\"legendgroup\":\"Company\",\"marker\":{\"color\":\"#636efa\",\"pattern\":{\"shape\":\"\"}},\"name\":\"Company\",\"offsetgroup\":\"Company\",\"orientation\":\"v\",\"showlegend\":true,\"type\":\"histogram\",\"x\":[\"Locbreak\",\"Offerwise\",\"\\u00c3\\u008dris | Laborat\\u00c3\\u00b3rio de Inova\\u00c3\\u00a7\\u00c3\\u00a3o e Dados \",\"GR8 Sistemas e Tecnologia\",\"Mercado Livre\",\"Corp360\",\"EasyPlay\",\"ioasys\",\"Ita\\u00c3\\u00ba Unibanco\",\"Philip Morris International\",\"Nubank\",\"Webmotors\",\"Deal\",\"Nubank\",\"Loft\",\"NTT DATA\",\"Stefanini Brasil\",\"Accenture Brasil\",\"Escola ZION\",\"Enel\",\"GOL Linhas A\\u00c3\\u00a9reas\",\"Soluti Digital\",\"Lynx Spa\",\"Enel Group\",\"Enel Brasil\",\"Alura Cursos Online\",\"Faculdade de Tecnologia Senac Goi\\u00c3\\u00a1s.\",\"SONDA\",\"Enel Group\",\"Kavak.com\",\"Enel Brasil\",\"Wipro Limited\",\"Compasso UOL\",\"Mutant\",\"FR Digital\",\"INTERA | Talent Hacking\",\"ATRA Informatica\",\"Enel Distribui\\u00c3\\u00a7\\u00c3\\u00a3o Goi\\u00c3\\u00a1s\",\"Conexa - Um Hub de Inova\\u00c3\\u00a7\\u00c3\\u00a3o Siagri\",\"Universidade Federal de Goi\\u00c3\\u00a1s\",\"Tag Business Solutions\",\"Mercado Livre\",\"Mindtree\",\"Enel\",\"Enel Group\",\"Sanmina\",\"Novo Mundo M\\u00c3\\u00b3veis e Utilidades\",\"Ka Solution\",\"Enel\",\"CPqD\",\"Tra\\u00c3\\u00a7o Neg\\u00c3\\u00b3cios\",\"UniEVANG\\u00c3\\u2030LICA - Centro Universit\\u00c3\\u00a1rio de An\\u00c3\\u00a1polis\",\"Enel Group\",\"G4F Solu\\u00c3\\u00a7\\u00c3\\u00b5es Corporativas\",\"Ok Dados\",\"Towards Data Science\",\"ADVANCED Consulting\",\"AWWCOR Inc\",\"Point Point - Engenharia e Tecnologia.\",\"Organizacao Das Voluntarias De Goias\",\"AYESA\",\"Enel Brasil\",\"CVV - Centro de Valoriza\\u00c3\\u00a7\\u00c3\\u00a3o da Vida\",\"Service IT.\",\"Enel\",\"Datadog\",\"T Engenharia e Sistemas (TEES)\",\"Tag Business Solutions\",\"MyFarm \",\"Enel Brasil\",\"BDA Solutions | Big Data & Analytics\",\"Enel Goias\",\"Aoop Cloud Solutions\",\"Aut\\u00c3\\u00b4nomo\",\"SONDA\",\"MadeFY\",\"Enel Brasil\",\"CELK Sistemas\",\"Ingenieros Emetres SLP (Im3)\",\"Deloitte\",\"Memora Processos Inovadores S/A\",\"SONDA\",\"Enel Brasil\",\"Enel Group\",\"ZG Solu\\u00c3\\u00a7\\u00c3\\u00b5es\",\"iRancho\",\"Coll\\u00c3\\u00a8ge des Ing\\u00c3\\u00a9nieurs\",\"Vale\",\"Vorbe Engenharia e Servi\\u00c3\\u00a7os\",\"Enel Group\",\"CPqD\",\"SisProg Inform\\u00c3\\u00a1tica\",\"LG lugar de gente\",\"Energisa\",\"ServiceNow\",\"Office Hostel\",\"Enel Group\",\"Enel Brasil\",\"Enel Brasil\",\"Philips\",\"Exis Servicos\",\"Exis Servicos\",\"Founder Institute\",\"Tidlos Home\",\"Funda\\u00c3\\u00a7\\u00c3\\u00a3o CPqD \\u00e2\\u20ac\\u201c Centro de Pesquisa e Desenvolvimento em Telecomunica\\u00c3\\u00a7\\u00c3\\u00b5es\",\"Brunel\",\"ClearSale\",\"Enel\",\"AYESA\",\"Click Menos\",\"Enel Brasil\",\"Ok Dados\",\"HMAP - Hospital Municipal de Aparecida de Goi\\u00c3\\u00a2nia\",\"Enel Group\",\"AYESA\",\"SuasVendas\",\"Gynprog Diagnostico Automotivo\",\"Secretaria Municipal De Desenvolvimento Humano e Social\",\"Studio Le San\",\"PepsiCo\",\"Enel Brasil\",\"ScoraS\",\"Ok Dados\",\"ESoluti\",\"AYESA\",\"ManpowerGroup\",\"Meta Farma\",\"Xavante Solutions\",\"Lottus Psicologia\",\"MasterMind Brasil Central\",\"Emater -Go\",\"AYESA\",\"Indra\",\"Data Sprints\",\"Conexa - Um Hub de Inova\\u00c3\\u00a7\\u00c3\\u00a3o Siagri\",\"Cooperativa COMIGO\",\"Planalto \",\"BR Home Centers\",\"Universidade Federal de Goi\\u00c3\\u00a1s\",\"iFood\",\"Online UX Team\",\"Defensoria Publica do Estado de Goi\\u00c3\\u00a1s \",\"Ad\\u00c3\\u00a3o Im\\u00c3\\u00b3veis\",\"CRP Tecnologia\",\"Hapvida\",\"Oobj - Tecnologia em Gest\\u00c3\\u00a3o Fiscal\",\"BuzzLead\",\"Z\\u00c3\\u00a9 Delivery\",\"Invillia\",\"Winning by Design\",\"Rede Frota\",\"Ita\\u00c3\\u00ba Unibanco\",\"Juntos Somos Mais\",\"Infomach\",\"T Engenharia e Sistemas (TEES)\",\"WBusiness\",\"DATA H \",\"Minerva Foods\",\"Tembici\",\"TH Consult\",\"LUBEXx\",\"Centro de Excel\\u00c3\\u00aancia em Intelig\\u00c3\\u00aancia Artificial (CExIA) & Deep Learning Brasil\",\"Wildlife Studios\",\"Cielo\",\"enjoei\",\"Gauge\",\"Amanda Manzi Consultoria em Gest\\u00c3\\u00a3o com Pessoas\",\"Olegario Motors\",\"Influency.me\",\"Ad\\u00c3\\u00a3o Im\\u00c3\\u00b3veis\",\"Grupo Saga\",\"Auvo Tecnologia\",\"Espa\\u00c3\\u00a7o \\u00c3\\u2030tica\",\"Ecx Card - Cart\\u00c3\\u00b5es de Benef\\u00c3\\u00adcios\",\"Qualiti Network\",\"Oitis Hotel\",\"Lucroo\",\"Konsulti\",\"GoVendas\",\"InSol Tecnologia\",\"Oobj\",\"DSX IT Solutions\",\"IPOG - Instituto de P\\u00c3\\u00b3s-Gradua\\u00c3\\u00a7\\u00c3\\u00a3o e Gradua\\u00c3\\u00a7\\u00c3\\u00a3o\",\"HD Tecnologia em Informa\\u00c3\\u00a7\\u00c3\\u00b5es\",\"Reev \\u00c2\\u00ae\",\"edrone\",\"The Brooklyn Brothers\",\"Primepass\",\"LG lugar de gente\",\"CrowdStrike\",\"Procuradoria Geral do Estado de Goi\\u00c3\\u00a1s\",\"a55\",\"NectarCRM\",\"OnCloud_Br\",\"TOTVS\",\"Infomach Solu\\u00c3\\u00a7\\u00c3\\u00b5es\",\"Sales Hackers\",\"Grupo GFT\",\"LG lugar de gente\",\"LG lugar de gente\",\"Infomach\",\"DIVIDATA Processamento de Dados Ltda\",\"LG lugar de gente\",\"2Com Consulting\",\"INN Tecnologia\",\"Infomach Solu\\u00c3\\u00a7\\u00c3\\u00b5es\",\"Enel Group\",\"Piracanjuba\",\"Pit Bull Jeans\",\"Senior Sistemas\",\"Tagesspiegel Background Mobilit\\u00c3\\u00a4t und Transport\",\"ZG Solu\\u00c3\\u00a7\\u00c3\\u00b5es\",\"Infomach Solu\\u00c3\\u00a7\\u00c3\\u00b5es\",\"ACE Startups\",\"Meetime\",\"Infomach Solu\\u00c3\\u00a7\\u00c3\\u00b5es\",\"Infomach\",\"DSX iT Solutions\",\"Axislera\",\"Infomach\",\"Grupo GFT\",\"Americas Health\",\"ServiceNow\"],\"xaxis\":\"x\",\"yaxis\":\"y\"}],                        {\"barmode\":\"relative\",\"legend\":{\"title\":{\"text\":\"variable\"},\"tracegroupgap\":0},\"margin\":{\"t\":60},\"template\":{\"data\":{\"bar\":[{\"error_x\":{\"color\":\"#2a3f5f\"},\"error_y\":{\"color\":\"#2a3f5f\"},\"marker\":{\"line\":{\"color\":\"#E5ECF6\",\"width\":0.5},\"pattern\":{\"fillmode\":\"overlay\",\"size\":10,\"solidity\":0.2}},\"type\":\"bar\"}],\"barpolar\":[{\"marker\":{\"line\":{\"color\":\"#E5ECF6\",\"width\":0.5},\"pattern\":{\"fillmode\":\"overlay\",\"size\":10,\"solidity\":0.2}},\"type\":\"barpolar\"}],\"carpet\":[{\"aaxis\":{\"endlinecolor\":\"#2a3f5f\",\"gridcolor\":\"white\",\"linecolor\":\"white\",\"minorgridcolor\":\"white\",\"startlinecolor\":\"#2a3f5f\"},\"baxis\":{\"endlinecolor\":\"#2a3f5f\",\"gridcolor\":\"white\",\"linecolor\":\"white\",\"minorgridcolor\":\"white\",\"startlinecolor\":\"#2a3f5f\"},\"type\":\"carpet\"}],\"choropleth\":[{\"colorbar\":{\"outlinewidth\":0,\"ticks\":\"\"},\"type\":\"choropleth\"}],\"contour\":[{\"colorbar\":{\"outlinewidth\":0,\"ticks\":\"\"},\"colorscale\":[[0.0,\"#0d0887\"],[0.1111111111111111,\"#46039f\"],[0.2222222222222222,\"#7201a8\"],[0.3333333333333333,\"#9c179e\"],[0.4444444444444444,\"#bd3786\"],[0.5555555555555556,\"#d8576b\"],[0.6666666666666666,\"#ed7953\"],[0.7777777777777778,\"#fb9f3a\"],[0.8888888888888888,\"#fdca26\"],[1.0,\"#f0f921\"]],\"type\":\"contour\"}],\"contourcarpet\":[{\"colorbar\":{\"outlinewidth\":0,\"ticks\":\"\"},\"type\":\"contourcarpet\"}],\"heatmap\":[{\"colorbar\":{\"outlinewidth\":0,\"ticks\":\"\"},\"colorscale\":[[0.0,\"#0d0887\"],[0.1111111111111111,\"#46039f\"],[0.2222222222222222,\"#7201a8\"],[0.3333333333333333,\"#9c179e\"],[0.4444444444444444,\"#bd3786\"],[0.5555555555555556,\"#d8576b\"],[0.6666666666666666,\"#ed7953\"],[0.7777777777777778,\"#fb9f3a\"],[0.8888888888888888,\"#fdca26\"],[1.0,\"#f0f921\"]],\"type\":\"heatmap\"}],\"heatmapgl\":[{\"colorbar\":{\"outlinewidth\":0,\"ticks\":\"\"},\"colorscale\":[[0.0,\"#0d0887\"],[0.1111111111111111,\"#46039f\"],[0.2222222222222222,\"#7201a8\"],[0.3333333333333333,\"#9c179e\"],[0.4444444444444444,\"#bd3786\"],[0.5555555555555556,\"#d8576b\"],[0.6666666666666666,\"#ed7953\"],[0.7777777777777778,\"#fb9f3a\"],[0.8888888888888888,\"#fdca26\"],[1.0,\"#f0f921\"]],\"type\":\"heatmapgl\"}],\"histogram\":[{\"marker\":{\"pattern\":{\"fillmode\":\"overlay\",\"size\":10,\"solidity\":0.2}},\"type\":\"histogram\"}],\"histogram2d\":[{\"colorbar\":{\"outlinewidth\":0,\"ticks\":\"\"},\"colorscale\":[[0.0,\"#0d0887\"],[0.1111111111111111,\"#46039f\"],[0.2222222222222222,\"#7201a8\"],[0.3333333333333333,\"#9c179e\"],[0.4444444444444444,\"#bd3786\"],[0.5555555555555556,\"#d8576b\"],[0.6666666666666666,\"#ed7953\"],[0.7777777777777778,\"#fb9f3a\"],[0.8888888888888888,\"#fdca26\"],[1.0,\"#f0f921\"]],\"type\":\"histogram2d\"}],\"histogram2dcontour\":[{\"colorbar\":{\"outlinewidth\":0,\"ticks\":\"\"},\"colorscale\":[[0.0,\"#0d0887\"],[0.1111111111111111,\"#46039f\"],[0.2222222222222222,\"#7201a8\"],[0.3333333333333333,\"#9c179e\"],[0.4444444444444444,\"#bd3786\"],[0.5555555555555556,\"#d8576b\"],[0.6666666666666666,\"#ed7953\"],[0.7777777777777778,\"#fb9f3a\"],[0.8888888888888888,\"#fdca26\"],[1.0,\"#f0f921\"]],\"type\":\"histogram2dcontour\"}],\"mesh3d\":[{\"colorbar\":{\"outlinewidth\":0,\"ticks\":\"\"},\"type\":\"mesh3d\"}],\"parcoords\":[{\"line\":{\"colorbar\":{\"outlinewidth\":0,\"ticks\":\"\"}},\"type\":\"parcoords\"}],\"pie\":[{\"automargin\":true,\"type\":\"pie\"}],\"scatter\":[{\"marker\":{\"colorbar\":{\"outlinewidth\":0,\"ticks\":\"\"}},\"type\":\"scatter\"}],\"scatter3d\":[{\"line\":{\"colorbar\":{\"outlinewidth\":0,\"ticks\":\"\"}},\"marker\":{\"colorbar\":{\"outlinewidth\":0,\"ticks\":\"\"}},\"type\":\"scatter3d\"}],\"scattercarpet\":[{\"marker\":{\"colorbar\":{\"outlinewidth\":0,\"ticks\":\"\"}},\"type\":\"scattercarpet\"}],\"scattergeo\":[{\"marker\":{\"colorbar\":{\"outlinewidth\":0,\"ticks\":\"\"}},\"type\":\"scattergeo\"}],\"scattergl\":[{\"marker\":{\"colorbar\":{\"outlinewidth\":0,\"ticks\":\"\"}},\"type\":\"scattergl\"}],\"scattermapbox\":[{\"marker\":{\"colorbar\":{\"outlinewidth\":0,\"ticks\":\"\"}},\"type\":\"scattermapbox\"}],\"scatterpolar\":[{\"marker\":{\"colorbar\":{\"outlinewidth\":0,\"ticks\":\"\"}},\"type\":\"scatterpolar\"}],\"scatterpolargl\":[{\"marker\":{\"colorbar\":{\"outlinewidth\":0,\"ticks\":\"\"}},\"type\":\"scatterpolargl\"}],\"scatterternary\":[{\"marker\":{\"colorbar\":{\"outlinewidth\":0,\"ticks\":\"\"}},\"type\":\"scatterternary\"}],\"surface\":[{\"colorbar\":{\"outlinewidth\":0,\"ticks\":\"\"},\"colorscale\":[[0.0,\"#0d0887\"],[0.1111111111111111,\"#46039f\"],[0.2222222222222222,\"#7201a8\"],[0.3333333333333333,\"#9c179e\"],[0.4444444444444444,\"#bd3786\"],[0.5555555555555556,\"#d8576b\"],[0.6666666666666666,\"#ed7953\"],[0.7777777777777778,\"#fb9f3a\"],[0.8888888888888888,\"#fdca26\"],[1.0,\"#f0f921\"]],\"type\":\"surface\"}],\"table\":[{\"cells\":{\"fill\":{\"color\":\"#EBF0F8\"},\"line\":{\"color\":\"white\"}},\"header\":{\"fill\":{\"color\":\"#C8D4E3\"},\"line\":{\"color\":\"white\"}},\"type\":\"table\"}]},\"layout\":{\"annotationdefaults\":{\"arrowcolor\":\"#2a3f5f\",\"arrowhead\":0,\"arrowwidth\":1},\"autotypenumbers\":\"strict\",\"coloraxis\":{\"colorbar\":{\"outlinewidth\":0,\"ticks\":\"\"}},\"colorscale\":{\"diverging\":[[0,\"#8e0152\"],[0.1,\"#c51b7d\"],[0.2,\"#de77ae\"],[0.3,\"#f1b6da\"],[0.4,\"#fde0ef\"],[0.5,\"#f7f7f7\"],[0.6,\"#e6f5d0\"],[0.7,\"#b8e186\"],[0.8,\"#7fbc41\"],[0.9,\"#4d9221\"],[1,\"#276419\"]],\"sequential\":[[0.0,\"#0d0887\"],[0.1111111111111111,\"#46039f\"],[0.2222222222222222,\"#7201a8\"],[0.3333333333333333,\"#9c179e\"],[0.4444444444444444,\"#bd3786\"],[0.5555555555555556,\"#d8576b\"],[0.6666666666666666,\"#ed7953\"],[0.7777777777777778,\"#fb9f3a\"],[0.8888888888888888,\"#fdca26\"],[1.0,\"#f0f921\"]],\"sequentialminus\":[[0.0,\"#0d0887\"],[0.1111111111111111,\"#46039f\"],[0.2222222222222222,\"#7201a8\"],[0.3333333333333333,\"#9c179e\"],[0.4444444444444444,\"#bd3786\"],[0.5555555555555556,\"#d8576b\"],[0.6666666666666666,\"#ed7953\"],[0.7777777777777778,\"#fb9f3a\"],[0.8888888888888888,\"#fdca26\"],[1.0,\"#f0f921\"]]},\"colorway\":[\"#636efa\",\"#EF553B\",\"#00cc96\",\"#ab63fa\",\"#FFA15A\",\"#19d3f3\",\"#FF6692\",\"#B6E880\",\"#FF97FF\",\"#FECB52\"],\"font\":{\"color\":\"#2a3f5f\"},\"geo\":{\"bgcolor\":\"white\",\"lakecolor\":\"white\",\"landcolor\":\"#E5ECF6\",\"showlakes\":true,\"showland\":true,\"subunitcolor\":\"white\"},\"hoverlabel\":{\"align\":\"left\"},\"hovermode\":\"closest\",\"mapbox\":{\"style\":\"light\"},\"paper_bgcolor\":\"white\",\"plot_bgcolor\":\"#E5ECF6\",\"polar\":{\"angularaxis\":{\"gridcolor\":\"white\",\"linecolor\":\"white\",\"ticks\":\"\"},\"bgcolor\":\"#E5ECF6\",\"radialaxis\":{\"gridcolor\":\"white\",\"linecolor\":\"white\",\"ticks\":\"\"}},\"scene\":{\"xaxis\":{\"backgroundcolor\":\"#E5ECF6\",\"gridcolor\":\"white\",\"gridwidth\":2,\"linecolor\":\"white\",\"showbackground\":true,\"ticks\":\"\",\"zerolinecolor\":\"white\"},\"yaxis\":{\"backgroundcolor\":\"#E5ECF6\",\"gridcolor\":\"white\",\"gridwidth\":2,\"linecolor\":\"white\",\"showbackground\":true,\"ticks\":\"\",\"zerolinecolor\":\"white\"},\"zaxis\":{\"backgroundcolor\":\"#E5ECF6\",\"gridcolor\":\"white\",\"gridwidth\":2,\"linecolor\":\"white\",\"showbackground\":true,\"ticks\":\"\",\"zerolinecolor\":\"white\"}},\"shapedefaults\":{\"line\":{\"color\":\"#2a3f5f\"}},\"ternary\":{\"aaxis\":{\"gridcolor\":\"white\",\"linecolor\":\"white\",\"ticks\":\"\"},\"baxis\":{\"gridcolor\":\"white\",\"linecolor\":\"white\",\"ticks\":\"\"},\"bgcolor\":\"#E5ECF6\",\"caxis\":{\"gridcolor\":\"white\",\"linecolor\":\"white\",\"ticks\":\"\"}},\"title\":{\"x\":0.05},\"xaxis\":{\"automargin\":true,\"gridcolor\":\"white\",\"linecolor\":\"white\",\"ticks\":\"\",\"title\":{\"standoff\":15},\"zerolinecolor\":\"white\",\"zerolinewidth\":2},\"yaxis\":{\"automargin\":true,\"gridcolor\":\"white\",\"linecolor\":\"white\",\"ticks\":\"\",\"title\":{\"standoff\":15},\"zerolinecolor\":\"white\",\"zerolinewidth\":2}}},\"xaxis\":{\"anchor\":\"y\",\"domain\":[0.0,1.0],\"title\":{\"text\":\"value\"}},\"yaxis\":{\"anchor\":\"x\",\"domain\":[0.0,1.0],\"title\":{\"text\":\"count\"}}},                        {\"responsive\": true}                    ).then(function(){\n",
              "                            \n",
              "var gd = document.getElementById('3d14ebfb-5a5d-46c5-8e0f-23ef5e587bc2');\n",
              "var x = new MutationObserver(function (mutations, observer) {{\n",
              "        var display = window.getComputedStyle(gd).display;\n",
              "        if (!display || display === 'none') {{\n",
              "            console.log([gd, 'removed!']);\n",
              "            Plotly.purge(gd);\n",
              "            observer.disconnect();\n",
              "        }}\n",
              "}});\n",
              "\n",
              "// Listen for the removal of the full notebook cells\n",
              "var notebookContainer = gd.closest('#notebook-container');\n",
              "if (notebookContainer) {{\n",
              "    x.observe(notebookContainer, {childList: true});\n",
              "}}\n",
              "\n",
              "// Listen for the clearing of the current output cell\n",
              "var outputEl = gd.closest('.output');\n",
              "if (outputEl) {{\n",
              "    x.observe(outputEl, {childList: true});\n",
              "}}\n",
              "\n",
              "                        })                };                            </script>        </div>\n",
              "</body>\n",
              "</html>"
            ]
          },
          "metadata": {}
        }
      ]
    },
    {
      "cell_type": "code",
      "metadata": {
        "colab": {
          "base_uri": "https://localhost:8080/",
          "height": 542
        },
        "id": "dn6QEwPpDdok",
        "outputId": "074e4a57-5846-46d6-81a0-2ba0aeb9f541"
      },
      "source": [
        "#Agrupando quantidade de conexões\n",
        "grafico = px.treemap(conexoes, path=['Connected Year'])\n",
        "grafico.show()"
      ],
      "execution_count": null,
      "outputs": [
        {
          "output_type": "display_data",
          "data": {
            "text/html": [
              "<html>\n",
              "<head><meta charset=\"utf-8\" /></head>\n",
              "<body>\n",
              "    <div>            <script src=\"https://cdnjs.cloudflare.com/ajax/libs/mathjax/2.7.5/MathJax.js?config=TeX-AMS-MML_SVG\"></script><script type=\"text/javascript\">if (window.MathJax) {MathJax.Hub.Config({SVG: {font: \"STIX-Web\"}});}</script>                <script type=\"text/javascript\">window.PlotlyConfig = {MathJaxConfig: 'local'};</script>\n",
              "        <script src=\"https://cdn.plot.ly/plotly-2.4.2.min.js\"></script>                <div id=\"a2f689bb-ead1-4da0-9a8a-6ebff4506d20\" class=\"plotly-graph-div\" style=\"height:525px; width:100%;\"></div>            <script type=\"text/javascript\">                                    window.PLOTLYENV=window.PLOTLYENV || {};                                    if (document.getElementById(\"a2f689bb-ead1-4da0-9a8a-6ebff4506d20\")) {                    Plotly.newPlot(                        \"a2f689bb-ead1-4da0-9a8a-6ebff4506d20\",                        [{\"branchvalues\":\"total\",\"domain\":{\"x\":[0.0,1.0],\"y\":[0.0,1.0]},\"hovertemplate\":\"labels=%{label}<br>count=%{value}<br>parent=%{parent}<br>id=%{id}<extra></extra>\",\"ids\":[\"2017\",\"2018\",\"2019\",\"2020\",\"2021\"],\"labels\":[\"2017\",\"2018\",\"2019\",\"2020\",\"2021\"],\"name\":\"\",\"parents\":[\"\",\"\",\"\",\"\",\"\"],\"type\":\"treemap\",\"values\":[8,66,52,25,72]}],                        {\"legend\":{\"tracegroupgap\":0},\"margin\":{\"t\":60},\"template\":{\"data\":{\"bar\":[{\"error_x\":{\"color\":\"#2a3f5f\"},\"error_y\":{\"color\":\"#2a3f5f\"},\"marker\":{\"line\":{\"color\":\"#E5ECF6\",\"width\":0.5},\"pattern\":{\"fillmode\":\"overlay\",\"size\":10,\"solidity\":0.2}},\"type\":\"bar\"}],\"barpolar\":[{\"marker\":{\"line\":{\"color\":\"#E5ECF6\",\"width\":0.5},\"pattern\":{\"fillmode\":\"overlay\",\"size\":10,\"solidity\":0.2}},\"type\":\"barpolar\"}],\"carpet\":[{\"aaxis\":{\"endlinecolor\":\"#2a3f5f\",\"gridcolor\":\"white\",\"linecolor\":\"white\",\"minorgridcolor\":\"white\",\"startlinecolor\":\"#2a3f5f\"},\"baxis\":{\"endlinecolor\":\"#2a3f5f\",\"gridcolor\":\"white\",\"linecolor\":\"white\",\"minorgridcolor\":\"white\",\"startlinecolor\":\"#2a3f5f\"},\"type\":\"carpet\"}],\"choropleth\":[{\"colorbar\":{\"outlinewidth\":0,\"ticks\":\"\"},\"type\":\"choropleth\"}],\"contour\":[{\"colorbar\":{\"outlinewidth\":0,\"ticks\":\"\"},\"colorscale\":[[0.0,\"#0d0887\"],[0.1111111111111111,\"#46039f\"],[0.2222222222222222,\"#7201a8\"],[0.3333333333333333,\"#9c179e\"],[0.4444444444444444,\"#bd3786\"],[0.5555555555555556,\"#d8576b\"],[0.6666666666666666,\"#ed7953\"],[0.7777777777777778,\"#fb9f3a\"],[0.8888888888888888,\"#fdca26\"],[1.0,\"#f0f921\"]],\"type\":\"contour\"}],\"contourcarpet\":[{\"colorbar\":{\"outlinewidth\":0,\"ticks\":\"\"},\"type\":\"contourcarpet\"}],\"heatmap\":[{\"colorbar\":{\"outlinewidth\":0,\"ticks\":\"\"},\"colorscale\":[[0.0,\"#0d0887\"],[0.1111111111111111,\"#46039f\"],[0.2222222222222222,\"#7201a8\"],[0.3333333333333333,\"#9c179e\"],[0.4444444444444444,\"#bd3786\"],[0.5555555555555556,\"#d8576b\"],[0.6666666666666666,\"#ed7953\"],[0.7777777777777778,\"#fb9f3a\"],[0.8888888888888888,\"#fdca26\"],[1.0,\"#f0f921\"]],\"type\":\"heatmap\"}],\"heatmapgl\":[{\"colorbar\":{\"outlinewidth\":0,\"ticks\":\"\"},\"colorscale\":[[0.0,\"#0d0887\"],[0.1111111111111111,\"#46039f\"],[0.2222222222222222,\"#7201a8\"],[0.3333333333333333,\"#9c179e\"],[0.4444444444444444,\"#bd3786\"],[0.5555555555555556,\"#d8576b\"],[0.6666666666666666,\"#ed7953\"],[0.7777777777777778,\"#fb9f3a\"],[0.8888888888888888,\"#fdca26\"],[1.0,\"#f0f921\"]],\"type\":\"heatmapgl\"}],\"histogram\":[{\"marker\":{\"pattern\":{\"fillmode\":\"overlay\",\"size\":10,\"solidity\":0.2}},\"type\":\"histogram\"}],\"histogram2d\":[{\"colorbar\":{\"outlinewidth\":0,\"ticks\":\"\"},\"colorscale\":[[0.0,\"#0d0887\"],[0.1111111111111111,\"#46039f\"],[0.2222222222222222,\"#7201a8\"],[0.3333333333333333,\"#9c179e\"],[0.4444444444444444,\"#bd3786\"],[0.5555555555555556,\"#d8576b\"],[0.6666666666666666,\"#ed7953\"],[0.7777777777777778,\"#fb9f3a\"],[0.8888888888888888,\"#fdca26\"],[1.0,\"#f0f921\"]],\"type\":\"histogram2d\"}],\"histogram2dcontour\":[{\"colorbar\":{\"outlinewidth\":0,\"ticks\":\"\"},\"colorscale\":[[0.0,\"#0d0887\"],[0.1111111111111111,\"#46039f\"],[0.2222222222222222,\"#7201a8\"],[0.3333333333333333,\"#9c179e\"],[0.4444444444444444,\"#bd3786\"],[0.5555555555555556,\"#d8576b\"],[0.6666666666666666,\"#ed7953\"],[0.7777777777777778,\"#fb9f3a\"],[0.8888888888888888,\"#fdca26\"],[1.0,\"#f0f921\"]],\"type\":\"histogram2dcontour\"}],\"mesh3d\":[{\"colorbar\":{\"outlinewidth\":0,\"ticks\":\"\"},\"type\":\"mesh3d\"}],\"parcoords\":[{\"line\":{\"colorbar\":{\"outlinewidth\":0,\"ticks\":\"\"}},\"type\":\"parcoords\"}],\"pie\":[{\"automargin\":true,\"type\":\"pie\"}],\"scatter\":[{\"marker\":{\"colorbar\":{\"outlinewidth\":0,\"ticks\":\"\"}},\"type\":\"scatter\"}],\"scatter3d\":[{\"line\":{\"colorbar\":{\"outlinewidth\":0,\"ticks\":\"\"}},\"marker\":{\"colorbar\":{\"outlinewidth\":0,\"ticks\":\"\"}},\"type\":\"scatter3d\"}],\"scattercarpet\":[{\"marker\":{\"colorbar\":{\"outlinewidth\":0,\"ticks\":\"\"}},\"type\":\"scattercarpet\"}],\"scattergeo\":[{\"marker\":{\"colorbar\":{\"outlinewidth\":0,\"ticks\":\"\"}},\"type\":\"scattergeo\"}],\"scattergl\":[{\"marker\":{\"colorbar\":{\"outlinewidth\":0,\"ticks\":\"\"}},\"type\":\"scattergl\"}],\"scattermapbox\":[{\"marker\":{\"colorbar\":{\"outlinewidth\":0,\"ticks\":\"\"}},\"type\":\"scattermapbox\"}],\"scatterpolar\":[{\"marker\":{\"colorbar\":{\"outlinewidth\":0,\"ticks\":\"\"}},\"type\":\"scatterpolar\"}],\"scatterpolargl\":[{\"marker\":{\"colorbar\":{\"outlinewidth\":0,\"ticks\":\"\"}},\"type\":\"scatterpolargl\"}],\"scatterternary\":[{\"marker\":{\"colorbar\":{\"outlinewidth\":0,\"ticks\":\"\"}},\"type\":\"scatterternary\"}],\"surface\":[{\"colorbar\":{\"outlinewidth\":0,\"ticks\":\"\"},\"colorscale\":[[0.0,\"#0d0887\"],[0.1111111111111111,\"#46039f\"],[0.2222222222222222,\"#7201a8\"],[0.3333333333333333,\"#9c179e\"],[0.4444444444444444,\"#bd3786\"],[0.5555555555555556,\"#d8576b\"],[0.6666666666666666,\"#ed7953\"],[0.7777777777777778,\"#fb9f3a\"],[0.8888888888888888,\"#fdca26\"],[1.0,\"#f0f921\"]],\"type\":\"surface\"}],\"table\":[{\"cells\":{\"fill\":{\"color\":\"#EBF0F8\"},\"line\":{\"color\":\"white\"}},\"header\":{\"fill\":{\"color\":\"#C8D4E3\"},\"line\":{\"color\":\"white\"}},\"type\":\"table\"}]},\"layout\":{\"annotationdefaults\":{\"arrowcolor\":\"#2a3f5f\",\"arrowhead\":0,\"arrowwidth\":1},\"autotypenumbers\":\"strict\",\"coloraxis\":{\"colorbar\":{\"outlinewidth\":0,\"ticks\":\"\"}},\"colorscale\":{\"diverging\":[[0,\"#8e0152\"],[0.1,\"#c51b7d\"],[0.2,\"#de77ae\"],[0.3,\"#f1b6da\"],[0.4,\"#fde0ef\"],[0.5,\"#f7f7f7\"],[0.6,\"#e6f5d0\"],[0.7,\"#b8e186\"],[0.8,\"#7fbc41\"],[0.9,\"#4d9221\"],[1,\"#276419\"]],\"sequential\":[[0.0,\"#0d0887\"],[0.1111111111111111,\"#46039f\"],[0.2222222222222222,\"#7201a8\"],[0.3333333333333333,\"#9c179e\"],[0.4444444444444444,\"#bd3786\"],[0.5555555555555556,\"#d8576b\"],[0.6666666666666666,\"#ed7953\"],[0.7777777777777778,\"#fb9f3a\"],[0.8888888888888888,\"#fdca26\"],[1.0,\"#f0f921\"]],\"sequentialminus\":[[0.0,\"#0d0887\"],[0.1111111111111111,\"#46039f\"],[0.2222222222222222,\"#7201a8\"],[0.3333333333333333,\"#9c179e\"],[0.4444444444444444,\"#bd3786\"],[0.5555555555555556,\"#d8576b\"],[0.6666666666666666,\"#ed7953\"],[0.7777777777777778,\"#fb9f3a\"],[0.8888888888888888,\"#fdca26\"],[1.0,\"#f0f921\"]]},\"colorway\":[\"#636efa\",\"#EF553B\",\"#00cc96\",\"#ab63fa\",\"#FFA15A\",\"#19d3f3\",\"#FF6692\",\"#B6E880\",\"#FF97FF\",\"#FECB52\"],\"font\":{\"color\":\"#2a3f5f\"},\"geo\":{\"bgcolor\":\"white\",\"lakecolor\":\"white\",\"landcolor\":\"#E5ECF6\",\"showlakes\":true,\"showland\":true,\"subunitcolor\":\"white\"},\"hoverlabel\":{\"align\":\"left\"},\"hovermode\":\"closest\",\"mapbox\":{\"style\":\"light\"},\"paper_bgcolor\":\"white\",\"plot_bgcolor\":\"#E5ECF6\",\"polar\":{\"angularaxis\":{\"gridcolor\":\"white\",\"linecolor\":\"white\",\"ticks\":\"\"},\"bgcolor\":\"#E5ECF6\",\"radialaxis\":{\"gridcolor\":\"white\",\"linecolor\":\"white\",\"ticks\":\"\"}},\"scene\":{\"xaxis\":{\"backgroundcolor\":\"#E5ECF6\",\"gridcolor\":\"white\",\"gridwidth\":2,\"linecolor\":\"white\",\"showbackground\":true,\"ticks\":\"\",\"zerolinecolor\":\"white\"},\"yaxis\":{\"backgroundcolor\":\"#E5ECF6\",\"gridcolor\":\"white\",\"gridwidth\":2,\"linecolor\":\"white\",\"showbackground\":true,\"ticks\":\"\",\"zerolinecolor\":\"white\"},\"zaxis\":{\"backgroundcolor\":\"#E5ECF6\",\"gridcolor\":\"white\",\"gridwidth\":2,\"linecolor\":\"white\",\"showbackground\":true,\"ticks\":\"\",\"zerolinecolor\":\"white\"}},\"shapedefaults\":{\"line\":{\"color\":\"#2a3f5f\"}},\"ternary\":{\"aaxis\":{\"gridcolor\":\"white\",\"linecolor\":\"white\",\"ticks\":\"\"},\"baxis\":{\"gridcolor\":\"white\",\"linecolor\":\"white\",\"ticks\":\"\"},\"bgcolor\":\"#E5ECF6\",\"caxis\":{\"gridcolor\":\"white\",\"linecolor\":\"white\",\"ticks\":\"\"}},\"title\":{\"x\":0.05},\"xaxis\":{\"automargin\":true,\"gridcolor\":\"white\",\"linecolor\":\"white\",\"ticks\":\"\",\"title\":{\"standoff\":15},\"zerolinecolor\":\"white\",\"zerolinewidth\":2},\"yaxis\":{\"automargin\":true,\"gridcolor\":\"white\",\"linecolor\":\"white\",\"ticks\":\"\",\"title\":{\"standoff\":15},\"zerolinecolor\":\"white\",\"zerolinewidth\":2}}}},                        {\"responsive\": true}                    ).then(function(){\n",
              "                            \n",
              "var gd = document.getElementById('a2f689bb-ead1-4da0-9a8a-6ebff4506d20');\n",
              "var x = new MutationObserver(function (mutations, observer) {{\n",
              "        var display = window.getComputedStyle(gd).display;\n",
              "        if (!display || display === 'none') {{\n",
              "            console.log([gd, 'removed!']);\n",
              "            Plotly.purge(gd);\n",
              "            observer.disconnect();\n",
              "        }}\n",
              "}});\n",
              "\n",
              "// Listen for the removal of the full notebook cells\n",
              "var notebookContainer = gd.closest('#notebook-container');\n",
              "if (notebookContainer) {{\n",
              "    x.observe(notebookContainer, {childList: true});\n",
              "}}\n",
              "\n",
              "// Listen for the clearing of the current output cell\n",
              "var outputEl = gd.closest('.output');\n",
              "if (outputEl) {{\n",
              "    x.observe(outputEl, {childList: true});\n",
              "}}\n",
              "\n",
              "                        })                };                            </script>        </div>\n",
              "</body>\n",
              "</html>"
            ]
          },
          "metadata": {}
        }
      ]
    },
    {
      "cell_type": "code",
      "metadata": {
        "colab": {
          "base_uri": "https://localhost:8080/",
          "height": 542
        },
        "id": "r3Ef1znpOpns",
        "outputId": "a4b9ddac-8f71-48b7-b530-511b01bc4037"
      },
      "source": [
        "#Agrupando conexões por empresa\n",
        "grafico = px.treemap(conexoes, path=['Company','Position', 'Full Name'])\n",
        "grafico.show()"
      ],
      "execution_count": null,
      "outputs": [
        {
          "output_type": "display_data",
          "data": {
            "text/html": [
              "<html>\n",
              "<head><meta charset=\"utf-8\" /></head>\n",
              "<body>\n",
              "    <div>            <script src=\"https://cdnjs.cloudflare.com/ajax/libs/mathjax/2.7.5/MathJax.js?config=TeX-AMS-MML_SVG\"></script><script type=\"text/javascript\">if (window.MathJax) {MathJax.Hub.Config({SVG: {font: \"STIX-Web\"}});}</script>                <script type=\"text/javascript\">window.PlotlyConfig = {MathJaxConfig: 'local'};</script>\n",
              "        <script src=\"https://cdn.plot.ly/plotly-2.4.2.min.js\"></script>                <div id=\"34076116-ca2e-4971-921a-8ddd1d107265\" class=\"plotly-graph-div\" style=\"height:525px; width:100%;\"></div>            <script type=\"text/javascript\">                                    window.PLOTLYENV=window.PLOTLYENV || {};                                    if (document.getElementById(\"34076116-ca2e-4971-921a-8ddd1d107265\")) {                    Plotly.newPlot(                        \"34076116-ca2e-4971-921a-8ddd1d107265\",                        [{\"branchvalues\":\"total\",\"domain\":{\"x\":[0.0,1.0],\"y\":[0.0,1.0]},\"hovertemplate\":\"labels=%{label}<br>count=%{value}<br>parent=%{parent}<br>id=%{id}<extra></extra>\",\"ids\":[\"CPqD/Analista de Sistemas Java Senior/Adilson Brambilla Rodrigues\",\"Minerva Foods/Chief Human Resources Officer/Adriano Lima\",\"Infomach Solu\\u00c3\\u00a7\\u00c3\\u00b5es/Support Analyst/Aeliton Rodrigues\",\"Lottus Psicologia/Psic\\u00c3\\u00b3logo cl\\u00c3\\u00adnico/Alex Junio\",\"AWWCOR Inc/Recruiter / HR Manager/Alexander Litvinov\",\"UniEVANG\\u00c3\\u2030LICA - Centro Universit\\u00c3\\u00a1rio de An\\u00c3\\u00a1polis/Professor/Alexandre Tannus\",\"Organizacao Das Voluntarias De Goias/T\\u00c3\\u00a9cnico administrativo/Alexssander Costa  Sousa\",\"SONDA/Tech Recruiter/Aline Silva\",\"EasyPlay/Co-Founder/Alisson Pedro\",\"INN Tecnologia/Analista de seguran\\u00c3\\u00a7a de redes/Allan Ramos\",\"Data Sprints/Co-Founder & CTO/Allan Sene\",\"Ad\\u00c3\\u00a3o Im\\u00c3\\u00b3veis/Assistente de Gest\\u00c3\\u00a3o de Talentos /Amanda Amaral Alves\",\"Amanda Manzi Consultoria em Gest\\u00c3\\u00a3o com Pessoas/Consultora em Desenvolvimento Organizacional e Humano/Amanda Manzi\",\"TH Consult/Gerente de RH/Amanda Silvestre\",\"SONDA/Analista de RH  | Tech recruiter  /Ana Carolina Soares Moura\",\"ScoraS/Chief Data Officer | Founder/Anderson L. Amaral\",\"Centro de Excel\\u00c3\\u00aancia em Intelig\\u00c3\\u00aancia Artificial (CExIA) & Deep Learning Brasil/General Manager/Anderson Soares\",\"The Brooklyn Brothers/Resource Manager/Andressa Lippert\",\"iRancho/Desenvolvedor full stack/Andr\\u00c3\\u00a9 Luiz Astrol de Oliveira\",\"Stefanini Brasil/Data Scientist/Andr\\u00c3\\u00a9 Veit\",\"Infomach/Fundador e CEO/Antonio Luiz Alves\",\"Xavante Solutions/Gerente de Projetos / Scrum Master/Ariel Crezo Ferreira\",\"Axislera/Chief Technical Officer/Arles Sant Ana\",\"Universidade Federal de Goi\\u00c3\\u00a1s/Researcher professor in Machine Learning and Deep Learning/Arlindo Galv\\u00c3\\u00a3o\",\"Universidade Federal de Goi\\u00c3\\u00a1s/Monitora Acad\\u00c3\\u00aamica/Beatriz Dias\",\"Indra/Analista Administrativo Sr./Beatriz Milhomem\",\"Ok Dados/Diretora administrativa/Bruna Caroline\",\"Ka Solution/Instrutora de SAP/Bruna Paes\",\"LG lugar de gente/Tech Recruiter/Brunna Campos Salzmann\",\"ZG Solu\\u00c3\\u00a7\\u00c3\\u00b5es/Analista de Suporte T\\u00c3\\u00a9cnico/Brunna Gualberto\",\"Nubank/Senior Business Analyst/Bruno Henrique Neves \\u00f0\\u0178\\u0161\\u20ac\",\"Infomach/Analista de seguran\\u00c3\\u00a7a de redes/Caian Santiago\",\"IPOG - Instituto de P\\u00c3\\u00b3s-Gradua\\u00c3\\u00a7\\u00c3\\u00a3o e Gradua\\u00c3\\u00a7\\u00c3\\u00a3o/Consultor comercial - Inside Sales/Camila Almeida\",\"Enel Group/Head of B2B & B2G Customer Solutions & Experience/Carlos Falconiere De Araujo Filho\",\"Tidlos Home/Designer de interiores/Carolina Rodrigues\",\"Conexa - Um Hub de Inova\\u00c3\\u00a7\\u00c3\\u00a3o Siagri/Tech Recruiter/Catarine Sales\",\"Enel Brasil/Focal point of agility Brazil for Digital Market Transformation/Celso Einstein Melges Arnaut\",\"ServiceNow/Senior Enterprise Account Manager/Cesar Brasil\",\"Founder Institute/Local Leader/Claudio Avila\",\"Tag Business Solutions/Estagi\\u00c3\\u00a1rio/Claudio Bertini Batista\",\"Espa\\u00c3\\u00a7o \\u00c3\\u2030tica/Founder/Cl\\u00c3\\u00b3vis de Barros Filho\",\"Olegario Motors/Consultor de vendas/Daniel Vieira\",\"Oobj - Tecnologia em Gest\\u00c3\\u00a3o Fiscal/Analista de Marketing Pleno/Daniele Lima\",\"Loft/Data Scientist/Davi Vieira\",\"Towards Data Science/Technical Writer/Davide Coccomini\",\"Gynprog Diagnostico Automotivo/Assistente financeiro/Debora Araujo\",\"DIVIDATA Processamento de Dados Ltda/T\\u00c3\\u00a9cnico de Microinform\\u00c3\\u00a1tica Especializado /Desiron Filho\",\"Sanmina/Analista de Sistemas Senior/Devanir Souza\",\"Aoop Cloud Solutions/ServiceNow Delivery Manager/Diego Beltrame\",\"Meetime/CMO/Diego Cordovez\",\"Ok Dados/Co CEO/Diego Dantas\",\"Defensoria Publica do Estado de Goi\\u00c3\\u00a1s /Assessor de Suporte/Douglas Vieira Do Nascimento\",\"Memora Processos Inovadores S/A/Gerente comercial/Eder Freddi\",\"Mindtree/SAP S/4HANA SD / CS Consultant (Associate)/Eliel Silveira\",\"Procuradoria Geral do Estado de Goi\\u00c3\\u00a1s/T\\u00c3\\u00a9cnico de suporte em TI/Eliseu Rodrigues\",\"Enel/Executiva de Relacionamento B2B/Ellen Bertoldo\",\"CPqD/Analista de Sistemas/Elton Batista de Almeida\",\"DATA H /Founder and CEO/Evandro Barros\",\"LUBEXx/Consultora de vendas/FABRICIA RIBEIRO\",\"Enel Brasil/Especialista em Solu\\u00c3\\u00a7\\u00c3\\u00b5es Digitais/Fabiano Carvalho\",\"OnCloud_Br/Diretor Comercial/Fabiano Leao\",\"Accenture Brasil/Augmented Insights Analyst/Fabio Akamine\",\"Wildlife Studios/Senior Staff Data Scientist and Technical Project Manager for Core Science and AI/Felipe Antunes\",\"Juntos Somos Mais/Tech Lead/Felipe Fialho\",\"Gauge/UX Designer/Felipe Santiago\",\"edrone/COO/Felippe Pereira\",\"FR Digital/Designer Gr\\u00c3\\u00a1fico/Fernanda  Aires \",\"Enel Brasil/Especialista Senior Customer Experience and Interaction/Fernanda Faleiro Lima de Sousa\",\"LG lugar de gente/Desenvolvedor trainee/Fernando Brito\",\"Enel/ICT Manager at Enel D Goi\\u00c3\\u00a1s/Fernando Daniel Porras\",\"Enel Brasil/Head of Innovation/Filippo Alberganti\",\"AYESA/AYESA/Flavia Carrera\",\"Infomach Solu\\u00c3\\u00a7\\u00c3\\u00b5es/L\\u00c3\\u00adder T\\u00c3\\u00a9cnico/Fouad Ata\",\"Tra\\u00c3\\u00a7o Neg\\u00c3\\u00b3cios/Desenvolvedor para Wordpress/Gabriel  Villa Real Bandeira\",\"Soluti Digital/Analista ERP/Gabriel Araujo Campos\",\"Mutant/Analista de RH Pleno/Gabriel Ferreira\",\"2Com Consulting/External Sales Advisor - Consultor LGPD/Gabriel Prates\",\"Auvo Tecnologia/Founder e CEO/Gabriel Rodrigues\",\"Primepass/Sales Account Executive/Gabriel Saraiva\",\"Lynx Spa/Estagi\\u00c3\\u00a1rio de Desenvolvimento/Gabriel Sousa\",\"Enel Brasil/Analista de Neg\\u00c3\\u00b3cios Senior/Gabriela Mansur\",\"Influency.me/Analista de Customer Success Pleno/Gabriele Araujo\",\"Alura Cursos Online/Tech community manager/Gabs Ferreira\",\"Vale/Data Scientist SR - People Analytics Expert/Gleisson Bispo\",\"Kavak.com/Head of Brand/Gui Monteiro\",\"ZG Solu\\u00c3\\u00a7\\u00c3\\u00b5es/Desenvolvedor de software/Guilherme Lopes\",\"NectarCRM/Sales Account Executive/Guilherme Melo\",\"Deal/Analista de dados/Gustavo Abbomerato Zantut\",\"Offerwise/Head Of Business Intelligence and Statistic Team/Gustavo Gontijo\",\"Faculdade de Tecnologia Senac Goi\\u00c3\\u00a1s./Professor/Gustavo Siqueira Vinhal\",\"DSX iT Solutions/Founder/Gustavo Vila Verde\",\"T Engenharia e Sistemas (TEES)/Analista de infraestrutura/Hayander Landi\",\"Webmotors/Data Scientist/Helen Acypreste\",\"Sales Hackers/Coordenadora de Marketing/Helena Maria Schmitz \\u00f0\\u0178\\u0161\\u20ac\",\"ADVANCED Consulting/CRM - Customer Relationship Management Big Business/Hermes  da Fonseca\",\"Ok Dados/Technical Lead/Higor Pereira\",\"ESoluti/Analista de TI/Igor Eduardo\",\"Compasso UOL/Software Engineer/Isabel Rubim\",\"Infomach/Consultora de vendas/Isabela Maia\",\"Ecx Card - Cart\\u00c3\\u00b5es de Benef\\u00c3\\u00adcios/Inside Sales Account Executive/Isabela Miranda Souza\",\"Meta Farma/Gerente de cobran\\u00c3\\u00a7a/Isilene Alves Isa\",\"Enel Brasil/Executivo Enel /Ivan Corr\\u00c3\\u00aaa .'.\",\"Z\\u00c3\\u00a9 Delivery/Growth Specialist/Jakeline Oliveira\",\"AYESA/Coordenador t\\u00c3\\u00a9cnico/Jeferson Marques Cunha\",\"CrowdStrike/Country Manager/Jeferson Propheta\",\"ServiceNow/Senior Advisory Solution Consultant/Joao Saes\",\"ClearSale/Analista de Modelagem/Jos\\u00c3\\u00a9 Evandeilton Lopes\",\"Enel Distribui\\u00c3\\u00a7\\u00c3\\u00a3o Goi\\u00c3\\u00a1s/Diretor-Presidente /Jos\\u00c3\\u00a9 Luis Salas Rincon\",\"Grupo GFT/Cloud Solutions Architect/Jos\\u00c3\\u00a9 Vicente Jonas Fran\\u00c3\\u00a7a\",\"Enel Group/Especialista de Governan\\u00c3\\u00a7a dos Processos/Jo\\u00c3\\u00a3o Augusto\",\"SuasVendas/Estagi\\u00c3\\u00a1rio de desenvolvimento web/Jo\\u00c3\\u00a3o Augusto\",\"TOTVS/Analista de suporte/Jo\\u00c3\\u00a3o Santos\",\"MasterMind Brasil Central/Diretor regional/Julio Roberto Oliveira\",\"SisProg Inform\\u00c3\\u00a1tica/Propriet\\u00c3\\u00a1rio/Junior Ferreira\",\"Enel Brasil/Especialista Desenvolvimento de Rede/Juraci Gomes\",\"Oobj/SDR- Sales Development Representative/J\\u00c3\\u00a9ssica  Lira\",\"LG lugar de gente/Analista de Estrat\\u00c3\\u00a9gia e Integra\\u00c3\\u00a7\\u00c3\\u00a3o do Cliente /J\\u00c3\\u00a9ssica  Resende \",\"BR Home Centers/Analista de marketing/J\\u00c3\\u00a9ssika Alves\",\"Grupo Saga/Auxiliar administrativo/J\\u00c3\\u00balia De Melo Pinto\",\"Tembici/Data Products Manager/J\\u00c3\\u00balio C\\u00c3\\u00a9sar Pessoa\",\"Tagesspiegel Background Mobilit\\u00c3\\u00a4t und Transport/Freier Journalist/J\\u00c3\\u00bcrgen St\\u00c3\\u00bcber\",\"CVV - Centro de Valoriza\\u00c3\\u00a7\\u00c3\\u00a3o da Vida/Voluntaria/Kamilla Nascimento\",\"Cielo/Consultor de desenvolvimento de neg\\u00c3\\u00b3cios/LIS N\\u00c3\\u201cBREGA DE ALMEIDA\",\"Tag Business Solutions/Estagi\\u00c3\\u00a1ria/Lais Pereira Felipe\",\"LG lugar de gente/Consultora Comercial Hunter /Lara Cristina Lacerda Silva\",\"ioasys/Desenvolvedora/Laryssa Oliveira\",\"Hapvida/Psic\\u00c3\\u00b3logo cl\\u00c3\\u00adnico/Laura Azevedo Freitas\",\"Enel Group/Analista de Negocios /Leandra Lima\",\"BuzzLead/CEO/Leandro Martins\",\"MyFarm /CEO/Leandro Xavier\",\"Point Point - Engenharia e Tecnologia./Auxiliar Administrativo/Leon Guerra\",\"Cooperativa COMIGO/Analista de Sistema de Gest\\u00c3\\u00a3o Integrado (SGI) pleno/Livia Silva Mateus\",\"Locbreak/empresa de energia/Locbreak Energia Sustent\\u00c3\\u00a1vel\",\"InSol Tecnologia/Head Of Sales /Lorena Silva\",\"T Engenharia e Sistemas (TEES)/Analista de TI/Lorran Bonif\\u00c3\\u00a1cio\",\"Wipro Limited/PMO Analyst/Luana Carvalho\",\"Enel/Inspections Operation - Head of Opera\\u00c3\\u00a7\\u00c3\\u00a3o Grupo B Goi\\u00c3\\u00a1s/Lucas Borges\",\"Secretaria Municipal De Desenvolvimento Humano e Social/Assessor T\\u00c3\\u00a9cnico/Lucas Carvalho\",\"Enel Group/Analista Sr. Fechamento Cont\\u00c3\\u00a1bil Distribui\\u00c3\\u00a7\\u00c3\\u00a3o/Transmiss\\u00c3\\u00a3o/Lucas Castro\",\"G4F Solu\\u00c3\\u00a7\\u00c3\\u00b5es Corporativas/Analista s\\u00c3\\u00aanior/Lucas Ferreira Madruga\",\"Datadog/Sales Development Representative/Lucas Silva\",\"Enel Group/Information Technology Specialist/Luciana Oliveira\",\"Konsulti/CEO/Luciano Krol\",\"AYESA/Market /Ludmila Vilela\",\"Planalto /Sales Development Representative/Luis Eduardo da Silva Maia\",\"Philips/People Strategy & Engagement \\u00f0\\u0178\\u2019\\u2122/Luisa Escobar (She/Her)\",\"Senior Sistemas/Executivo de contas/Luiz Andre Bento\",\"Studio Le San/Designer gr\\u00c3\\u00a1fico/Luiz Augusto Santana\",\"CELK Sistemas/L\\u00c3\\u00adder t\\u00c3\\u00a9cnico de Java/Luiz Felipe Pacheco Eleoterio\",\"ManpowerGroup/Analista de suporte de TI/Marcos Andre Gomes de Melo Junior - SFC- SFPC -SMPC - SPOPC\",\"Exis Servicos/Desenvolvedor full stack/Marcos Douglas\",\"Service IT./Analista de Governan\\u00c3\\u00a7a/Marcos Paulo Estevam\",\"Ita\\u00c3\\u00ba Unibanco/Senior Front-End Engineer/Marcos Sousa\",\"Funda\\u00c3\\u00a7\\u00c3\\u00a3o CPqD \\u00e2\\u20ac\\u201c Centro de Pesquisa e Desenvolvimento em Telecomunica\\u00c3\\u00a7\\u00c3\\u00b5es/Coordenador de projetos/Marcus Vinicius Kobayashi de Moraes\",\"DSX IT Solutions/Sales Representative/Maria Clara Morais\",\"GoVendas/Customer Success Analyst/Maria Eduarda Peres\",\"INTERA | Talent Hacking/Talent Hacker Hunter/Maria Fernanda Santana\",\"Vorbe Engenharia e Servi\\u00c3\\u00a7os/S\\u00c3\\u00b3cio propriet\\u00c3\\u00a1rio e Respons\\u00c3\\u00a1vel T\\u00c3\\u00a9cnico/Mathaus Batista\",\"Conexa - Um Hub de Inova\\u00c3\\u00a7\\u00c3\\u00a3o Siagri/Data Analyst/Matheus Cunha\",\"LG lugar de gente/Consultor de relacionamento/Matheus Guimar\\u00c3\\u00a3es\",\"Philip Morris International/Packaging Automation Developer Specialist/Maximiliano Meyer\",\"GR8 Sistemas e Tecnologia/Programador/Michael Henrique Souza Ferreira\",\"ATRA Informatica/Tech Recruiter/Michele  Barbosa\",\"Novo Mundo M\\u00c3\\u00b3veis e Utilidades/Desenvolvedor trainee/Moises Alves da costa\",\"Invillia/Specialist Backend Developer/Murilo Barros Peixoto\",\"Ita\\u00c3\\u00ba Unibanco/Talent Acquisition | Corporate Recruiter/Natalia Gon\\u00c3\\u00a7alves\",\"Rede Frota/Coordenadora de Atendimento/N\\u00c3\\u00a1dia Tatiele\",\"Enel Group/Especialista em Cobran\\u00c3\\u00a7a Brasil/N\\u00c3\\u00a1iron Guimar\\u00c3\\u00a3es\",\"Enel/Analista/Oct\\u00c3\\u00a1vio Lo Leggio\",\"Office Hostel/Diretor/Office Hostel\",\"SONDA/Tech Recruiter/Patricia Pereira Muniz  Gomes\",\"Mercado Livre/Data Scientist/Paulo Benatti Alves\",\"MadeFY/Diretor de desenvolvimento de neg\\u00c3\\u00b3cios/Paulo Bueno\",\"Qualiti Network/Consultor de ICT (Tecnologia da Informa\\u00c3\\u00a7\\u00c3\\u00a3o e Comunica\\u00c3\\u00a7\\u00c3\\u00a3o)/Paulo Henrique Barbosa Lopes\",\"Infomach Solu\\u00c3\\u00a7\\u00c3\\u00b5es/Consultor de Vendas de Seguran\\u00c3\\u00a7a da Informa\\u00c3\\u00a7\\u00c3\\u00a3o/Paulo Reis de Oliveira\",\"Corp360/Diretor/Paulo Tacio Nascimento\",\"Energisa/Eletricista de Inspe\\u00c3\\u00a7\\u00c3\\u00a3o I/Pedro Henrique Alves dos Santos\",\"ACE Startups/Co-Founder/Pedro Waengertner\",\"a55/Sales Account Executive/Ranielly Coelho\",\"Infomach/L\\u00c3\\u00adder de equipe de produto/Reginaldo Costa\",\"\\u00c3\\u008dris | Laborat\\u00c3\\u00b3rio de Inova\\u00c3\\u00a7\\u00c3\\u00a3o e Dados /Gestora de Projetos/Renata Duarte\",\"Enel Group/Especialista de Atendimento N\\u00c3\\u00a3o Presencial/Renato D. Machado\",\"Coll\\u00c3\\u00a8ge des Ing\\u00c3\\u00a9nieurs/MBA Fellow at Coll\\u00c3\\u00a8ge des Ing\\u00c3\\u00a9nieurs/Rhea Moutafis\",\"Oitis Hotel/Recep\\u00c3\\u00a7\\u00c3\\u00a3o/Ricardo  Pacas\",\"WBusiness/Redator S\\u00c3\\u00aanior | Analista de Marketing/Roberto Portella\",\"Enel/Analista de Projetos Pleno/Robson Roger\",\"Pit Bull Jeans/Contador/Rodrigo  Santos\",\"Piracanjuba/Cloud & IT Infrastructure Specialist/Rodrigo Marques Teixeira\",\"Click Menos/Fundador/Ronan Morgado\",\"PepsiCo/Pricing Analyst/Rubi Rivera Rodriguez\",\"CRP Tecnologia/Consultor de vendas/R\\u00c3\\u00b4mulo Feitosa Flexa Junior\",\"Escola ZION/Aluno/Sophia Machado\",\"Enel Goias/Analista de Sistemas/Standisley Sousa\",\"HD Tecnologia em Informa\\u00c3\\u00a7\\u00c3\\u00b5es/Sales Development Specialist/Stephanie Moraes\",\"Enel Brasil/T\\u00c3\\u00a9cnico em eletrotecnica III/S\\u00c3\\u00a9rgio Marques\",\"Mercado Livre/Analista de BI/Teresa Santiago\",\"Enel Group/Assistente administrativo/Thalita Souza\",\"Ingenieros Emetres SLP (Im3)/Assistente administrativo/Thaynara Alves Serhan Wahbe\",\"Enel Brasil/Especialista em telecomunica\\u00c3\\u00a7\\u00c3\\u00b5es/Thiago Amaral da Cunha\",\"Brunel/Recruiter/Thiago Sousa\",\"Infomach Solu\\u00c3\\u00a7\\u00c3\\u00b5es/Consultor de Neg\\u00c3\\u00b3cios/Thiago Vieira de Sousa\",\"Enel Group/Analista Sr. Digital Solutions/Thomaz Jorge\",\"AYESA/DBA de Oracle/Tiago Braile\",\"Deloitte/Consultant/Tiago Macul\",\"Aut\\u00c3\\u00b4nomo/Corretor imobili\\u00c3\\u00a1rio/Tiago Oliveira - Corretor Hi-tech\",\"Online UX Team/Head de Product (UX & UI) Design/Ubiratan Silva\",\"Enel Brasil/Analista de dados/Umberto S Junior\",\"BDA Solutions | Big Data & Analytics/Data Analytics Manager/Vanice Mora de Souza\",\"GOL Linhas A\\u00c3\\u00a9reas/Flight Attendant/Victor Leite\",\"AYESA/Gerente de Projetos/Victor Pless\",\"NTT DATA/Data Scientist/Victor de S\\u00c3\\u00a1 Nunes\",\"Lucroo/Inside Sales Representative/Victorya Yasmim\",\"HMAP - Hospital Municipal de Aparecida de Goi\\u00c3\\u00a2nia/Coordenador de TI/Vinicius Costa\",\"Grupo GFT/Developer/Vin\\u00c3\\u00adcius Lima\",\"Reev \\u00c2\\u00ae/CEO/Vin\\u00c3\\u00adcius Mayrink\",\"Exis Servicos/Analista e Programador de Sistemas/Vin\\u00c3\\u00adcius Montes\",\"enjoei/Back-end Developer/Vitor Hugo R Miranda\",\"Ad\\u00c3\\u00a3o Im\\u00c3\\u00b3veis/Assistente de Gest\\u00c3\\u00a3o de talentos/Waine Karla  Nogueira \",\"Nubank/Senior Data Engineer/Wellington C. Faria\",\"Americas Health/Coordenador de Marketing e Relacionamento/Yan D\\u00c3\\u00a2maso\",\"Emater -Go/Estagi\\u00c3\\u00a1rio de ci\\u00c3\\u00aancia da computa\\u00c3\\u00a7\\u00c3\\u00a3o/Ycaro Kayk\",\"iFood/Software Engineer at iFood/\\u00c3\\u008dtalo Fernandes Gon\\u00c3\\u00a7alves\",\"Winning by Design/Founder/Co-CEO/\\u00f0\\u0178\\u0090\\u00b6 Jacco van der Kooij\",\"AYESA/AYESA\",\"Escola ZION/Aluno\",\"Enel/Analista\",\"Indra/Analista Administrativo Sr.\",\"Soluti Digital/Analista ERP\",\"Enel Group/Analista Sr. Digital Solutions\",\"Enel Group/Analista Sr. Fechamento Cont\\u00c3\\u00a1bil Distribui\\u00c3\\u00a7\\u00c3\\u00a3o/Transmiss\\u00c3\\u00a3o\",\"Mercado Livre/Analista de BI\",\"Influency.me/Analista de Customer Success Pleno\",\"LG lugar de gente/Analista de Estrat\\u00c3\\u00a9gia e Integra\\u00c3\\u00a7\\u00c3\\u00a3o do Cliente \",\"Service IT./Analista de Governan\\u00c3\\u00a7a\",\"Oobj - Tecnologia em Gest\\u00c3\\u00a3o Fiscal/Analista de Marketing Pleno\",\"ClearSale/Analista de Modelagem\",\"Enel Group/Analista de Negocios \",\"Enel Brasil/Analista de Neg\\u00c3\\u00b3cios Senior\",\"Enel/Analista de Projetos Pleno\",\"SONDA/Analista de RH  | Tech recruiter  \",\"Mutant/Analista de RH Pleno\",\"Cooperativa COMIGO/Analista de Sistema de Gest\\u00c3\\u00a3o Integrado (SGI) pleno\",\"CPqD/Analista de Sistemas\",\"Enel Goias/Analista de Sistemas\",\"CPqD/Analista de Sistemas Java Senior\",\"Sanmina/Analista de Sistemas Senior\",\"ZG Solu\\u00c3\\u00a7\\u00c3\\u00b5es/Analista de Suporte T\\u00c3\\u00a9cnico\",\"ESoluti/Analista de TI\",\"T Engenharia e Sistemas (TEES)/Analista de TI\",\"Deal/Analista de dados\",\"Enel Brasil/Analista de dados\",\"T Engenharia e Sistemas (TEES)/Analista de infraestrutura\",\"BR Home Centers/Analista de marketing\",\"INN Tecnologia/Analista de seguran\\u00c3\\u00a7a de redes\",\"Infomach/Analista de seguran\\u00c3\\u00a7a de redes\",\"TOTVS/Analista de suporte\",\"ManpowerGroup/Analista de suporte de TI\",\"Exis Servicos/Analista e Programador de Sistemas\",\"G4F Solu\\u00c3\\u00a7\\u00c3\\u00b5es Corporativas/Analista s\\u00c3\\u00aanior\",\"Secretaria Municipal De Desenvolvimento Humano e Social/Assessor T\\u00c3\\u00a9cnico\",\"Defensoria Publica do Estado de Goi\\u00c3\\u00a1s /Assessor de Suporte\",\"Enel Group/Assistente administrativo\",\"Ingenieros Emetres SLP (Im3)/Assistente administrativo\",\"Ad\\u00c3\\u00a3o Im\\u00c3\\u00b3veis/Assistente de Gest\\u00c3\\u00a3o de Talentos \",\"Ad\\u00c3\\u00a3o Im\\u00c3\\u00b3veis/Assistente de Gest\\u00c3\\u00a3o de talentos\",\"Gynprog Diagnostico Automotivo/Assistente financeiro\",\"Accenture Brasil/Augmented Insights Analyst\",\"Point Point - Engenharia e Tecnologia./Auxiliar Administrativo\",\"Grupo Saga/Auxiliar administrativo\",\"enjoei/Back-end Developer\",\"BuzzLead/CEO\",\"Konsulti/CEO\",\"MyFarm /CEO\",\"Reev \\u00c2\\u00ae/CEO\",\"Meetime/CMO\",\"edrone/COO\",\"ADVANCED Consulting/CRM - Customer Relationship Management Big Business\",\"ScoraS/Chief Data Officer | Founder\",\"Minerva Foods/Chief Human Resources Officer\",\"Axislera/Chief Technical Officer\",\"Piracanjuba/Cloud & IT Infrastructure Specialist\",\"Grupo GFT/Cloud Solutions Architect\",\"Ok Dados/Co CEO\",\"ACE Startups/Co-Founder\",\"EasyPlay/Co-Founder\",\"Data Sprints/Co-Founder & CTO\",\"Deloitte/Consultant\",\"IPOG - Instituto de P\\u00c3\\u00b3s-Gradua\\u00c3\\u00a7\\u00c3\\u00a3o e Gradua\\u00c3\\u00a7\\u00c3\\u00a3o/Consultor comercial - Inside Sales\",\"Qualiti Network/Consultor de ICT (Tecnologia da Informa\\u00c3\\u00a7\\u00c3\\u00a3o e Comunica\\u00c3\\u00a7\\u00c3\\u00a3o)\",\"Infomach Solu\\u00c3\\u00a7\\u00c3\\u00b5es/Consultor de Neg\\u00c3\\u00b3cios\",\"Infomach Solu\\u00c3\\u00a7\\u00c3\\u00b5es/Consultor de Vendas de Seguran\\u00c3\\u00a7a da Informa\\u00c3\\u00a7\\u00c3\\u00a3o\",\"Cielo/Consultor de desenvolvimento de neg\\u00c3\\u00b3cios\",\"LG lugar de gente/Consultor de relacionamento\",\"CRP Tecnologia/Consultor de vendas\",\"Olegario Motors/Consultor de vendas\",\"LG lugar de gente/Consultora Comercial Hunter \",\"Infomach/Consultora de vendas\",\"LUBEXx/Consultora de vendas\",\"Amanda Manzi Consultoria em Gest\\u00c3\\u00a3o com Pessoas/Consultora em Desenvolvimento Organizacional e Humano\",\"Pit Bull Jeans/Contador\",\"Americas Health/Coordenador de Marketing e Relacionamento\",\"HMAP - Hospital Municipal de Aparecida de Goi\\u00c3\\u00a2nia/Coordenador de TI\",\"Funda\\u00c3\\u00a7\\u00c3\\u00a3o CPqD \\u00e2\\u20ac\\u201c Centro de Pesquisa e Desenvolvimento em Telecomunica\\u00c3\\u00a7\\u00c3\\u00b5es/Coordenador de projetos\",\"AYESA/Coordenador t\\u00c3\\u00a9cnico\",\"Rede Frota/Coordenadora de Atendimento\",\"Sales Hackers/Coordenadora de Marketing\",\"Aut\\u00c3\\u00b4nomo/Corretor imobili\\u00c3\\u00a1rio\",\"CrowdStrike/Country Manager\",\"GoVendas/Customer Success Analyst\",\"AYESA/DBA de Oracle\",\"Conexa - Um Hub de Inova\\u00c3\\u00a7\\u00c3\\u00a3o Siagri/Data Analyst\",\"BDA Solutions | Big Data & Analytics/Data Analytics Manager\",\"Tembici/Data Products Manager\",\"Loft/Data Scientist\",\"Mercado Livre/Data Scientist\",\"NTT DATA/Data Scientist\",\"Stefanini Brasil/Data Scientist\",\"Webmotors/Data Scientist\",\"Vale/Data Scientist SR - People Analytics Expert\",\"ZG Solu\\u00c3\\u00a7\\u00c3\\u00b5es/Desenvolvedor de software\",\"Exis Servicos/Desenvolvedor full stack\",\"iRancho/Desenvolvedor full stack\",\"Tra\\u00c3\\u00a7o Neg\\u00c3\\u00b3cios/Desenvolvedor para Wordpress\",\"LG lugar de gente/Desenvolvedor trainee\",\"Novo Mundo M\\u00c3\\u00b3veis e Utilidades/Desenvolvedor trainee\",\"ioasys/Desenvolvedora\",\"FR Digital/Designer Gr\\u00c3\\u00a1fico\",\"Tidlos Home/Designer de interiores\",\"Studio Le San/Designer gr\\u00c3\\u00a1fico\",\"Grupo GFT/Developer\",\"Corp360/Diretor\",\"Office Hostel/Diretor\",\"OnCloud_Br/Diretor Comercial\",\"MadeFY/Diretor de desenvolvimento de neg\\u00c3\\u00b3cios\",\"MasterMind Brasil Central/Diretor regional\",\"Enel Distribui\\u00c3\\u00a7\\u00c3\\u00a3o Goi\\u00c3\\u00a1s/Diretor-Presidente \",\"Ok Dados/Diretora administrativa\",\"Energisa/Eletricista de Inspe\\u00c3\\u00a7\\u00c3\\u00a3o I\",\"Enel Brasil/Especialista Desenvolvimento de Rede\",\"Enel Brasil/Especialista Senior Customer Experience and Interaction\",\"Enel Group/Especialista de Atendimento N\\u00c3\\u00a3o Presencial\",\"Enel Group/Especialista de Governan\\u00c3\\u00a7a dos Processos\",\"Enel Group/Especialista em Cobran\\u00c3\\u00a7a Brasil\",\"Enel Brasil/Especialista em Solu\\u00c3\\u00a7\\u00c3\\u00b5es Digitais\",\"Enel Brasil/Especialista em telecomunica\\u00c3\\u00a7\\u00c3\\u00b5es\",\"Tag Business Solutions/Estagi\\u00c3\\u00a1ria\",\"Tag Business Solutions/Estagi\\u00c3\\u00a1rio\",\"Lynx Spa/Estagi\\u00c3\\u00a1rio de Desenvolvimento\",\"Emater -Go/Estagi\\u00c3\\u00a1rio de ci\\u00c3\\u00aancia da computa\\u00c3\\u00a7\\u00c3\\u00a3o\",\"SuasVendas/Estagi\\u00c3\\u00a1rio de desenvolvimento web\",\"Enel/Executiva de Relacionamento B2B\",\"Enel Brasil/Executivo Enel \",\"Senior Sistemas/Executivo de contas\",\"2Com Consulting/External Sales Advisor - Consultor LGPD\",\"GOL Linhas A\\u00c3\\u00a9reas/Flight Attendant\",\"Enel Brasil/Focal point of agility Brazil for Digital Market Transformation\",\"DSX iT Solutions/Founder\",\"Espa\\u00c3\\u00a7o \\u00c3\\u2030tica/Founder\",\"DATA H /Founder and CEO\",\"Auvo Tecnologia/Founder e CEO\",\"Winning by Design/Founder/Co-CEO\",\"Tagesspiegel Background Mobilit\\u00c3\\u00a4t und Transport/Freier Journalist\",\"Click Menos/Fundador\",\"Infomach/Fundador e CEO\",\"Centro de Excel\\u00c3\\u00aancia em Intelig\\u00c3\\u00aancia Artificial (CExIA) & Deep Learning Brasil/General Manager\",\"Memora Processos Inovadores S/A/Gerente comercial\",\"AYESA/Gerente de Projetos\",\"Xavante Solutions/Gerente de Projetos / Scrum Master\",\"TH Consult/Gerente de RH\",\"Meta Farma/Gerente de cobran\\u00c3\\u00a7a\",\"\\u00c3\\u008dris | Laborat\\u00c3\\u00b3rio de Inova\\u00c3\\u00a7\\u00c3\\u00a3o e Dados /Gestora de Projetos\",\"Z\\u00c3\\u00a9 Delivery/Growth Specialist\",\"Offerwise/Head Of Business Intelligence and Statistic Team\",\"InSol Tecnologia/Head Of Sales \",\"Online UX Team/Head de Product (UX & UI) Design\",\"Enel Group/Head of B2B & B2G Customer Solutions & Experience\",\"Kavak.com/Head of Brand\",\"Enel Brasil/Head of Innovation\",\"Enel/ICT Manager at Enel D Goi\\u00c3\\u00a1s\",\"Enel Group/Information Technology Specialist\",\"Ecx Card - Cart\\u00c3\\u00b5es de Benef\\u00c3\\u00adcios/Inside Sales Account Executive\",\"Lucroo/Inside Sales Representative\",\"Enel/Inspections Operation - Head of Opera\\u00c3\\u00a7\\u00c3\\u00a3o Grupo B Goi\\u00c3\\u00a1s\",\"Ka Solution/Instrutora de SAP\",\"Founder Institute/Local Leader\",\"Infomach Solu\\u00c3\\u00a7\\u00c3\\u00b5es/L\\u00c3\\u00adder T\\u00c3\\u00a9cnico\",\"Infomach/L\\u00c3\\u00adder de equipe de produto\",\"CELK Sistemas/L\\u00c3\\u00adder t\\u00c3\\u00a9cnico de Java\",\"Coll\\u00c3\\u00a8ge des Ing\\u00c3\\u00a9nieurs/MBA Fellow at Coll\\u00c3\\u00a8ge des Ing\\u00c3\\u00a9nieurs\",\"AYESA/Market \",\"Universidade Federal de Goi\\u00c3\\u00a1s/Monitora Acad\\u00c3\\u00aamica\",\"Wipro Limited/PMO Analyst\",\"Philip Morris International/Packaging Automation Developer Specialist\",\"Philips/People Strategy & Engagement \\u00f0\\u0178\\u2019\\u2122\",\"PepsiCo/Pricing Analyst\",\"Faculdade de Tecnologia Senac Goi\\u00c3\\u00a1s./Professor\",\"UniEVANG\\u00c3\\u2030LICA - Centro Universit\\u00c3\\u00a1rio de An\\u00c3\\u00a1polis/Professor\",\"GR8 Sistemas e Tecnologia/Programador\",\"SisProg Inform\\u00c3\\u00a1tica/Propriet\\u00c3\\u00a1rio\",\"Hapvida/Psic\\u00c3\\u00b3logo cl\\u00c3\\u00adnico\",\"Lottus Psicologia/Psic\\u00c3\\u00b3logo cl\\u00c3\\u00adnico\",\"Oitis Hotel/Recep\\u00c3\\u00a7\\u00c3\\u00a3o\",\"Brunel/Recruiter\",\"AWWCOR Inc/Recruiter / HR Manager\",\"WBusiness/Redator S\\u00c3\\u00aanior | Analista de Marketing\",\"Universidade Federal de Goi\\u00c3\\u00a1s/Researcher professor in Machine Learning and Deep Learning\",\"The Brooklyn Brothers/Resource Manager\",\"Mindtree/SAP S/4HANA SD / CS Consultant (Associate)\",\"Oobj/SDR- Sales Development Representative\",\"NectarCRM/Sales Account Executive\",\"Primepass/Sales Account Executive\",\"a55/Sales Account Executive\",\"Datadog/Sales Development Representative\",\"Planalto /Sales Development Representative\",\"HD Tecnologia em Informa\\u00c3\\u00a7\\u00c3\\u00b5es/Sales Development Specialist\",\"DSX IT Solutions/Sales Representative\",\"ServiceNow/Senior Advisory Solution Consultant\",\"Nubank/Senior Business Analyst\",\"Nubank/Senior Data Engineer\",\"ServiceNow/Senior Enterprise Account Manager\",\"Ita\\u00c3\\u00ba Unibanco/Senior Front-End Engineer\",\"Wildlife Studios/Senior Staff Data Scientist and Technical Project Manager for Core Science and AI\",\"Aoop Cloud Solutions/ServiceNow Delivery Manager\",\"Compasso UOL/Software Engineer\",\"iFood/Software Engineer at iFood\",\"Invillia/Specialist Backend Developer\",\"Infomach Solu\\u00c3\\u00a7\\u00c3\\u00b5es/Support Analyst\",\"Vorbe Engenharia e Servi\\u00c3\\u00a7os/S\\u00c3\\u00b3cio propriet\\u00c3\\u00a1rio e Respons\\u00c3\\u00a1vel T\\u00c3\\u00a9cnico\",\"Ita\\u00c3\\u00ba Unibanco/Talent Acquisition | Corporate Recruiter\",\"INTERA | Talent Hacking/Talent Hacker Hunter\",\"Juntos Somos Mais/Tech Lead\",\"ATRA Informatica/Tech Recruiter\",\"Conexa - Um Hub de Inova\\u00c3\\u00a7\\u00c3\\u00a3o Siagri/Tech Recruiter\",\"LG lugar de gente/Tech Recruiter\",\"SONDA/Tech Recruiter\",\"Alura Cursos Online/Tech community manager\",\"Ok Dados/Technical Lead\",\"Towards Data Science/Technical Writer\",\"Organizacao Das Voluntarias De Goias/T\\u00c3\\u00a9cnico administrativo\",\"DIVIDATA Processamento de Dados Ltda/T\\u00c3\\u00a9cnico de Microinform\\u00c3\\u00a1tica Especializado \",\"Procuradoria Geral do Estado de Goi\\u00c3\\u00a1s/T\\u00c3\\u00a9cnico de suporte em TI\",\"Enel Brasil/T\\u00c3\\u00a9cnico em eletrotecnica III\",\"Gauge/UX Designer\",\"CVV - Centro de Valoriza\\u00c3\\u00a7\\u00c3\\u00a3o da Vida/Voluntaria\",\"Locbreak/empresa de energia\",\"2Com Consulting\",\"ACE Startups\",\"ADVANCED Consulting\",\"ATRA Informatica\",\"AWWCOR Inc\",\"AYESA\",\"Accenture Brasil\",\"Ad\\u00c3\\u00a3o Im\\u00c3\\u00b3veis\",\"Alura Cursos Online\",\"Amanda Manzi Consultoria em Gest\\u00c3\\u00a3o com Pessoas\",\"Americas Health\",\"Aoop Cloud Solutions\",\"Aut\\u00c3\\u00b4nomo\",\"Auvo Tecnologia\",\"Axislera\",\"BDA Solutions | Big Data & Analytics\",\"BR Home Centers\",\"Brunel\",\"BuzzLead\",\"CELK Sistemas\",\"CPqD\",\"CRP Tecnologia\",\"CVV - Centro de Valoriza\\u00c3\\u00a7\\u00c3\\u00a3o da Vida\",\"Centro de Excel\\u00c3\\u00aancia em Intelig\\u00c3\\u00aancia Artificial (CExIA) & Deep Learning Brasil\",\"Cielo\",\"ClearSale\",\"Click Menos\",\"Coll\\u00c3\\u00a8ge des Ing\\u00c3\\u00a9nieurs\",\"Compasso UOL\",\"Conexa - Um Hub de Inova\\u00c3\\u00a7\\u00c3\\u00a3o Siagri\",\"Cooperativa COMIGO\",\"Corp360\",\"CrowdStrike\",\"DATA H \",\"DIVIDATA Processamento de Dados Ltda\",\"DSX IT Solutions\",\"DSX iT Solutions\",\"Data Sprints\",\"Datadog\",\"Deal\",\"Defensoria Publica do Estado de Goi\\u00c3\\u00a1s \",\"Deloitte\",\"ESoluti\",\"EasyPlay\",\"Ecx Card - Cart\\u00c3\\u00b5es de Benef\\u00c3\\u00adcios\",\"Emater -Go\",\"Enel\",\"Enel Brasil\",\"Enel Distribui\\u00c3\\u00a7\\u00c3\\u00a3o Goi\\u00c3\\u00a1s\",\"Enel Goias\",\"Enel Group\",\"Energisa\",\"Escola ZION\",\"Espa\\u00c3\\u00a7o \\u00c3\\u2030tica\",\"Exis Servicos\",\"FR Digital\",\"Faculdade de Tecnologia Senac Goi\\u00c3\\u00a1s.\",\"Founder Institute\",\"Funda\\u00c3\\u00a7\\u00c3\\u00a3o CPqD \\u00e2\\u20ac\\u201c Centro de Pesquisa e Desenvolvimento em Telecomunica\\u00c3\\u00a7\\u00c3\\u00b5es\",\"G4F Solu\\u00c3\\u00a7\\u00c3\\u00b5es Corporativas\",\"GOL Linhas A\\u00c3\\u00a9reas\",\"GR8 Sistemas e Tecnologia\",\"Gauge\",\"GoVendas\",\"Grupo GFT\",\"Grupo Saga\",\"Gynprog Diagnostico Automotivo\",\"HD Tecnologia em Informa\\u00c3\\u00a7\\u00c3\\u00b5es\",\"HMAP - Hospital Municipal de Aparecida de Goi\\u00c3\\u00a2nia\",\"Hapvida\",\"INN Tecnologia\",\"INTERA | Talent Hacking\",\"IPOG - Instituto de P\\u00c3\\u00b3s-Gradua\\u00c3\\u00a7\\u00c3\\u00a3o e Gradua\\u00c3\\u00a7\\u00c3\\u00a3o\",\"InSol Tecnologia\",\"Indra\",\"Influency.me\",\"Infomach\",\"Infomach Solu\\u00c3\\u00a7\\u00c3\\u00b5es\",\"Ingenieros Emetres SLP (Im3)\",\"Invillia\",\"Ita\\u00c3\\u00ba Unibanco\",\"Juntos Somos Mais\",\"Ka Solution\",\"Kavak.com\",\"Konsulti\",\"LG lugar de gente\",\"LUBEXx\",\"Locbreak\",\"Loft\",\"Lottus Psicologia\",\"Lucroo\",\"Lynx Spa\",\"MadeFY\",\"ManpowerGroup\",\"MasterMind Brasil Central\",\"Meetime\",\"Memora Processos Inovadores S/A\",\"Mercado Livre\",\"Meta Farma\",\"Mindtree\",\"Minerva Foods\",\"Mutant\",\"MyFarm \",\"NTT DATA\",\"NectarCRM\",\"Novo Mundo M\\u00c3\\u00b3veis e Utilidades\",\"Nubank\",\"Offerwise\",\"Office Hostel\",\"Oitis Hotel\",\"Ok Dados\",\"Olegario Motors\",\"OnCloud_Br\",\"Online UX Team\",\"Oobj\",\"Oobj - Tecnologia em Gest\\u00c3\\u00a3o Fiscal\",\"Organizacao Das Voluntarias De Goias\",\"PepsiCo\",\"Philip Morris International\",\"Philips\",\"Piracanjuba\",\"Pit Bull Jeans\",\"Planalto \",\"Point Point - Engenharia e Tecnologia.\",\"Primepass\",\"Procuradoria Geral do Estado de Goi\\u00c3\\u00a1s\",\"Qualiti Network\",\"Rede Frota\",\"Reev \\u00c2\\u00ae\",\"SONDA\",\"Sales Hackers\",\"Sanmina\",\"ScoraS\",\"Secretaria Municipal De Desenvolvimento Humano e Social\",\"Senior Sistemas\",\"Service IT.\",\"ServiceNow\",\"SisProg Inform\\u00c3\\u00a1tica\",\"Soluti Digital\",\"Stefanini Brasil\",\"Studio Le San\",\"SuasVendas\",\"T Engenharia e Sistemas (TEES)\",\"TH Consult\",\"TOTVS\",\"Tag Business Solutions\",\"Tagesspiegel Background Mobilit\\u00c3\\u00a4t und Transport\",\"Tembici\",\"The Brooklyn Brothers\",\"Tidlos Home\",\"Towards Data Science\",\"Tra\\u00c3\\u00a7o Neg\\u00c3\\u00b3cios\",\"UniEVANG\\u00c3\\u2030LICA - Centro Universit\\u00c3\\u00a1rio de An\\u00c3\\u00a1polis\",\"Universidade Federal de Goi\\u00c3\\u00a1s\",\"Vale\",\"Vorbe Engenharia e Servi\\u00c3\\u00a7os\",\"WBusiness\",\"Webmotors\",\"Wildlife Studios\",\"Winning by Design\",\"Wipro Limited\",\"Xavante Solutions\",\"ZG Solu\\u00c3\\u00a7\\u00c3\\u00b5es\",\"Z\\u00c3\\u00a9 Delivery\",\"a55\",\"edrone\",\"enjoei\",\"iFood\",\"iRancho\",\"ioasys\",\"\\u00c3\\u008dris | Laborat\\u00c3\\u00b3rio de Inova\\u00c3\\u00a7\\u00c3\\u00a3o e Dados \"],\"labels\":[\"Adilson Brambilla Rodrigues\",\"Adriano Lima\",\"Aeliton Rodrigues\",\"Alex Junio\",\"Alexander Litvinov\",\"Alexandre Tannus\",\"Alexssander Costa  Sousa\",\"Aline Silva\",\"Alisson Pedro\",\"Allan Ramos\",\"Allan Sene\",\"Amanda Amaral Alves\",\"Amanda Manzi\",\"Amanda Silvestre\",\"Ana Carolina Soares Moura\",\"Anderson L. Amaral\",\"Anderson Soares\",\"Andressa Lippert\",\"Andr\\u00c3\\u00a9 Luiz Astrol de Oliveira\",\"Andr\\u00c3\\u00a9 Veit\",\"Antonio Luiz Alves\",\"Ariel Crezo Ferreira\",\"Arles Sant Ana\",\"Arlindo Galv\\u00c3\\u00a3o\",\"Beatriz Dias\",\"Beatriz Milhomem\",\"Bruna Caroline\",\"Bruna Paes\",\"Brunna Campos Salzmann\",\"Brunna Gualberto\",\"Bruno Henrique Neves \\u00f0\\u0178\\u0161\\u20ac\",\"Caian Santiago\",\"Camila Almeida\",\"Carlos Falconiere De Araujo Filho\",\"Carolina Rodrigues\",\"Catarine Sales\",\"Celso Einstein Melges Arnaut\",\"Cesar Brasil\",\"Claudio Avila\",\"Claudio Bertini Batista\",\"Cl\\u00c3\\u00b3vis de Barros Filho\",\"Daniel Vieira\",\"Daniele Lima\",\"Davi Vieira\",\"Davide Coccomini\",\"Debora Araujo\",\"Desiron Filho\",\"Devanir Souza\",\"Diego Beltrame\",\"Diego Cordovez\",\"Diego Dantas\",\"Douglas Vieira Do Nascimento\",\"Eder Freddi\",\"Eliel Silveira\",\"Eliseu Rodrigues\",\"Ellen Bertoldo\",\"Elton Batista de Almeida\",\"Evandro Barros\",\"FABRICIA RIBEIRO\",\"Fabiano Carvalho\",\"Fabiano Leao\",\"Fabio Akamine\",\"Felipe Antunes\",\"Felipe Fialho\",\"Felipe Santiago\",\"Felippe Pereira\",\"Fernanda  Aires \",\"Fernanda Faleiro Lima de Sousa\",\"Fernando Brito\",\"Fernando Daniel Porras\",\"Filippo Alberganti\",\"Flavia Carrera\",\"Fouad Ata\",\"Gabriel  Villa Real Bandeira\",\"Gabriel Araujo Campos\",\"Gabriel Ferreira\",\"Gabriel Prates\",\"Gabriel Rodrigues\",\"Gabriel Saraiva\",\"Gabriel Sousa\",\"Gabriela Mansur\",\"Gabriele Araujo\",\"Gabs Ferreira\",\"Gleisson Bispo\",\"Gui Monteiro\",\"Guilherme Lopes\",\"Guilherme Melo\",\"Gustavo Abbomerato Zantut\",\"Gustavo Gontijo\",\"Gustavo Siqueira Vinhal\",\"Gustavo Vila Verde\",\"Hayander Landi\",\"Helen Acypreste\",\"Helena Maria Schmitz \\u00f0\\u0178\\u0161\\u20ac\",\"Hermes  da Fonseca\",\"Higor Pereira\",\"Igor Eduardo\",\"Isabel Rubim\",\"Isabela Maia\",\"Isabela Miranda Souza\",\"Isilene Alves Isa\",\"Ivan Corr\\u00c3\\u00aaa .'.\",\"Jakeline Oliveira\",\"Jeferson Marques Cunha\",\"Jeferson Propheta\",\"Joao Saes\",\"Jos\\u00c3\\u00a9 Evandeilton Lopes\",\"Jos\\u00c3\\u00a9 Luis Salas Rincon\",\"Jos\\u00c3\\u00a9 Vicente Jonas Fran\\u00c3\\u00a7a\",\"Jo\\u00c3\\u00a3o Augusto\",\"Jo\\u00c3\\u00a3o Augusto\",\"Jo\\u00c3\\u00a3o Santos\",\"Julio Roberto Oliveira\",\"Junior Ferreira\",\"Juraci Gomes\",\"J\\u00c3\\u00a9ssica  Lira\",\"J\\u00c3\\u00a9ssica  Resende \",\"J\\u00c3\\u00a9ssika Alves\",\"J\\u00c3\\u00balia De Melo Pinto\",\"J\\u00c3\\u00balio C\\u00c3\\u00a9sar Pessoa\",\"J\\u00c3\\u00bcrgen St\\u00c3\\u00bcber\",\"Kamilla Nascimento\",\"LIS N\\u00c3\\u201cBREGA DE ALMEIDA\",\"Lais Pereira Felipe\",\"Lara Cristina Lacerda Silva\",\"Laryssa Oliveira\",\"Laura Azevedo Freitas\",\"Leandra Lima\",\"Leandro Martins\",\"Leandro Xavier\",\"Leon Guerra\",\"Livia Silva Mateus\",\"Locbreak Energia Sustent\\u00c3\\u00a1vel\",\"Lorena Silva\",\"Lorran Bonif\\u00c3\\u00a1cio\",\"Luana Carvalho\",\"Lucas Borges\",\"Lucas Carvalho\",\"Lucas Castro\",\"Lucas Ferreira Madruga\",\"Lucas Silva\",\"Luciana Oliveira\",\"Luciano Krol\",\"Ludmila Vilela\",\"Luis Eduardo da Silva Maia\",\"Luisa Escobar (She/Her)\",\"Luiz Andre Bento\",\"Luiz Augusto Santana\",\"Luiz Felipe Pacheco Eleoterio\",\"Marcos Andre Gomes de Melo Junior - SFC- SFPC -SMPC - SPOPC\",\"Marcos Douglas\",\"Marcos Paulo Estevam\",\"Marcos Sousa\",\"Marcus Vinicius Kobayashi de Moraes\",\"Maria Clara Morais\",\"Maria Eduarda Peres\",\"Maria Fernanda Santana\",\"Mathaus Batista\",\"Matheus Cunha\",\"Matheus Guimar\\u00c3\\u00a3es\",\"Maximiliano Meyer\",\"Michael Henrique Souza Ferreira\",\"Michele  Barbosa\",\"Moises Alves da costa\",\"Murilo Barros Peixoto\",\"Natalia Gon\\u00c3\\u00a7alves\",\"N\\u00c3\\u00a1dia Tatiele\",\"N\\u00c3\\u00a1iron Guimar\\u00c3\\u00a3es\",\"Oct\\u00c3\\u00a1vio Lo Leggio\",\"Office Hostel\",\"Patricia Pereira Muniz  Gomes\",\"Paulo Benatti Alves\",\"Paulo Bueno\",\"Paulo Henrique Barbosa Lopes\",\"Paulo Reis de Oliveira\",\"Paulo Tacio Nascimento\",\"Pedro Henrique Alves dos Santos\",\"Pedro Waengertner\",\"Ranielly Coelho\",\"Reginaldo Costa\",\"Renata Duarte\",\"Renato D. Machado\",\"Rhea Moutafis\",\"Ricardo  Pacas\",\"Roberto Portella\",\"Robson Roger\",\"Rodrigo  Santos\",\"Rodrigo Marques Teixeira\",\"Ronan Morgado\",\"Rubi Rivera Rodriguez\",\"R\\u00c3\\u00b4mulo Feitosa Flexa Junior\",\"Sophia Machado\",\"Standisley Sousa\",\"Stephanie Moraes\",\"S\\u00c3\\u00a9rgio Marques\",\"Teresa Santiago\",\"Thalita Souza\",\"Thaynara Alves Serhan Wahbe\",\"Thiago Amaral da Cunha\",\"Thiago Sousa\",\"Thiago Vieira de Sousa\",\"Thomaz Jorge\",\"Tiago Braile\",\"Tiago Macul\",\"Tiago Oliveira - Corretor Hi-tech\",\"Ubiratan Silva\",\"Umberto S Junior\",\"Vanice Mora de Souza\",\"Victor Leite\",\"Victor Pless\",\"Victor de S\\u00c3\\u00a1 Nunes\",\"Victorya Yasmim\",\"Vinicius Costa\",\"Vin\\u00c3\\u00adcius Lima\",\"Vin\\u00c3\\u00adcius Mayrink\",\"Vin\\u00c3\\u00adcius Montes\",\"Vitor Hugo R Miranda\",\"Waine Karla  Nogueira \",\"Wellington C. Faria\",\"Yan D\\u00c3\\u00a2maso\",\"Ycaro Kayk\",\"\\u00c3\\u008dtalo Fernandes Gon\\u00c3\\u00a7alves\",\"\\u00f0\\u0178\\u0090\\u00b6 Jacco van der Kooij\",\"AYESA\",\"Aluno\",\"Analista\",\"Analista Administrativo Sr.\",\"Analista ERP\",\"Analista Sr. Digital Solutions\",\"Analista Sr. Fechamento Cont\\u00c3\\u00a1bil Distribui\\u00c3\\u00a7\\u00c3\\u00a3o/Transmiss\\u00c3\\u00a3o\",\"Analista de BI\",\"Analista de Customer Success Pleno\",\"Analista de Estrat\\u00c3\\u00a9gia e Integra\\u00c3\\u00a7\\u00c3\\u00a3o do Cliente \",\"Analista de Governan\\u00c3\\u00a7a\",\"Analista de Marketing Pleno\",\"Analista de Modelagem\",\"Analista de Negocios \",\"Analista de Neg\\u00c3\\u00b3cios Senior\",\"Analista de Projetos Pleno\",\"Analista de RH  | Tech recruiter  \",\"Analista de RH Pleno\",\"Analista de Sistema de Gest\\u00c3\\u00a3o Integrado (SGI) pleno\",\"Analista de Sistemas\",\"Analista de Sistemas\",\"Analista de Sistemas Java Senior\",\"Analista de Sistemas Senior\",\"Analista de Suporte T\\u00c3\\u00a9cnico\",\"Analista de TI\",\"Analista de TI\",\"Analista de dados\",\"Analista de dados\",\"Analista de infraestrutura\",\"Analista de marketing\",\"Analista de seguran\\u00c3\\u00a7a de redes\",\"Analista de seguran\\u00c3\\u00a7a de redes\",\"Analista de suporte\",\"Analista de suporte de TI\",\"Analista e Programador de Sistemas\",\"Analista s\\u00c3\\u00aanior\",\"Assessor T\\u00c3\\u00a9cnico\",\"Assessor de Suporte\",\"Assistente administrativo\",\"Assistente administrativo\",\"Assistente de Gest\\u00c3\\u00a3o de Talentos \",\"Assistente de Gest\\u00c3\\u00a3o de talentos\",\"Assistente financeiro\",\"Augmented Insights Analyst\",\"Auxiliar Administrativo\",\"Auxiliar administrativo\",\"Back-end Developer\",\"CEO\",\"CEO\",\"CEO\",\"CEO\",\"CMO\",\"COO\",\"CRM - Customer Relationship Management Big Business\",\"Chief Data Officer | Founder\",\"Chief Human Resources Officer\",\"Chief Technical Officer\",\"Cloud & IT Infrastructure Specialist\",\"Cloud Solutions Architect\",\"Co CEO\",\"Co-Founder\",\"Co-Founder\",\"Co-Founder & CTO\",\"Consultant\",\"Consultor comercial - Inside Sales\",\"Consultor de ICT (Tecnologia da Informa\\u00c3\\u00a7\\u00c3\\u00a3o e Comunica\\u00c3\\u00a7\\u00c3\\u00a3o)\",\"Consultor de Neg\\u00c3\\u00b3cios\",\"Consultor de Vendas de Seguran\\u00c3\\u00a7a da Informa\\u00c3\\u00a7\\u00c3\\u00a3o\",\"Consultor de desenvolvimento de neg\\u00c3\\u00b3cios\",\"Consultor de relacionamento\",\"Consultor de vendas\",\"Consultor de vendas\",\"Consultora Comercial Hunter \",\"Consultora de vendas\",\"Consultora de vendas\",\"Consultora em Desenvolvimento Organizacional e Humano\",\"Contador\",\"Coordenador de Marketing e Relacionamento\",\"Coordenador de TI\",\"Coordenador de projetos\",\"Coordenador t\\u00c3\\u00a9cnico\",\"Coordenadora de Atendimento\",\"Coordenadora de Marketing\",\"Corretor imobili\\u00c3\\u00a1rio\",\"Country Manager\",\"Customer Success Analyst\",\"DBA de Oracle\",\"Data Analyst\",\"Data Analytics Manager\",\"Data Products Manager\",\"Data Scientist\",\"Data Scientist\",\"Data Scientist\",\"Data Scientist\",\"Data Scientist\",\"Data Scientist SR - People Analytics Expert\",\"Desenvolvedor de software\",\"Desenvolvedor full stack\",\"Desenvolvedor full stack\",\"Desenvolvedor para Wordpress\",\"Desenvolvedor trainee\",\"Desenvolvedor trainee\",\"Desenvolvedora\",\"Designer Gr\\u00c3\\u00a1fico\",\"Designer de interiores\",\"Designer gr\\u00c3\\u00a1fico\",\"Developer\",\"Diretor\",\"Diretor\",\"Diretor Comercial\",\"Diretor de desenvolvimento de neg\\u00c3\\u00b3cios\",\"Diretor regional\",\"Diretor-Presidente \",\"Diretora administrativa\",\"Eletricista de Inspe\\u00c3\\u00a7\\u00c3\\u00a3o I\",\"Especialista Desenvolvimento de Rede\",\"Especialista Senior Customer Experience and Interaction\",\"Especialista de Atendimento N\\u00c3\\u00a3o Presencial\",\"Especialista de Governan\\u00c3\\u00a7a dos Processos\",\"Especialista em Cobran\\u00c3\\u00a7a Brasil\",\"Especialista em Solu\\u00c3\\u00a7\\u00c3\\u00b5es Digitais\",\"Especialista em telecomunica\\u00c3\\u00a7\\u00c3\\u00b5es\",\"Estagi\\u00c3\\u00a1ria\",\"Estagi\\u00c3\\u00a1rio\",\"Estagi\\u00c3\\u00a1rio de Desenvolvimento\",\"Estagi\\u00c3\\u00a1rio de ci\\u00c3\\u00aancia da computa\\u00c3\\u00a7\\u00c3\\u00a3o\",\"Estagi\\u00c3\\u00a1rio de desenvolvimento web\",\"Executiva de Relacionamento B2B\",\"Executivo Enel \",\"Executivo de contas\",\"External Sales Advisor - Consultor LGPD\",\"Flight Attendant\",\"Focal point of agility Brazil for Digital Market Transformation\",\"Founder\",\"Founder\",\"Founder and CEO\",\"Founder e CEO\",\"Founder/Co-CEO\",\"Freier Journalist\",\"Fundador\",\"Fundador e CEO\",\"General Manager\",\"Gerente comercial\",\"Gerente de Projetos\",\"Gerente de Projetos / Scrum Master\",\"Gerente de RH\",\"Gerente de cobran\\u00c3\\u00a7a\",\"Gestora de Projetos\",\"Growth Specialist\",\"Head Of Business Intelligence and Statistic Team\",\"Head Of Sales \",\"Head de Product (UX & UI) Design\",\"Head of B2B & B2G Customer Solutions & Experience\",\"Head of Brand\",\"Head of Innovation\",\"ICT Manager at Enel D Goi\\u00c3\\u00a1s\",\"Information Technology Specialist\",\"Inside Sales Account Executive\",\"Inside Sales Representative\",\"Inspections Operation - Head of Opera\\u00c3\\u00a7\\u00c3\\u00a3o Grupo B Goi\\u00c3\\u00a1s\",\"Instrutora de SAP\",\"Local Leader\",\"L\\u00c3\\u00adder T\\u00c3\\u00a9cnico\",\"L\\u00c3\\u00adder de equipe de produto\",\"L\\u00c3\\u00adder t\\u00c3\\u00a9cnico de Java\",\"MBA Fellow at Coll\\u00c3\\u00a8ge des Ing\\u00c3\\u00a9nieurs\",\"Market \",\"Monitora Acad\\u00c3\\u00aamica\",\"PMO Analyst\",\"Packaging Automation Developer Specialist\",\"People Strategy & Engagement \\u00f0\\u0178\\u2019\\u2122\",\"Pricing Analyst\",\"Professor\",\"Professor\",\"Programador\",\"Propriet\\u00c3\\u00a1rio\",\"Psic\\u00c3\\u00b3logo cl\\u00c3\\u00adnico\",\"Psic\\u00c3\\u00b3logo cl\\u00c3\\u00adnico\",\"Recep\\u00c3\\u00a7\\u00c3\\u00a3o\",\"Recruiter\",\"Recruiter / HR Manager\",\"Redator S\\u00c3\\u00aanior | Analista de Marketing\",\"Researcher professor in Machine Learning and Deep Learning\",\"Resource Manager\",\"SAP S/4HANA SD / CS Consultant (Associate)\",\"SDR- Sales Development Representative\",\"Sales Account Executive\",\"Sales Account Executive\",\"Sales Account Executive\",\"Sales Development Representative\",\"Sales Development Representative\",\"Sales Development Specialist\",\"Sales Representative\",\"Senior Advisory Solution Consultant\",\"Senior Business Analyst\",\"Senior Data Engineer\",\"Senior Enterprise Account Manager\",\"Senior Front-End Engineer\",\"Senior Staff Data Scientist and Technical Project Manager for Core Science and AI\",\"ServiceNow Delivery Manager\",\"Software Engineer\",\"Software Engineer at iFood\",\"Specialist Backend Developer\",\"Support Analyst\",\"S\\u00c3\\u00b3cio propriet\\u00c3\\u00a1rio e Respons\\u00c3\\u00a1vel T\\u00c3\\u00a9cnico\",\"Talent Acquisition | Corporate Recruiter\",\"Talent Hacker Hunter\",\"Tech Lead\",\"Tech Recruiter\",\"Tech Recruiter\",\"Tech Recruiter\",\"Tech Recruiter\",\"Tech community manager\",\"Technical Lead\",\"Technical Writer\",\"T\\u00c3\\u00a9cnico administrativo\",\"T\\u00c3\\u00a9cnico de Microinform\\u00c3\\u00a1tica Especializado \",\"T\\u00c3\\u00a9cnico de suporte em TI\",\"T\\u00c3\\u00a9cnico em eletrotecnica III\",\"UX Designer\",\"Voluntaria\",\"empresa de energia\",\"2Com Consulting\",\"ACE Startups\",\"ADVANCED Consulting\",\"ATRA Informatica\",\"AWWCOR Inc\",\"AYESA\",\"Accenture Brasil\",\"Ad\\u00c3\\u00a3o Im\\u00c3\\u00b3veis\",\"Alura Cursos Online\",\"Amanda Manzi Consultoria em Gest\\u00c3\\u00a3o com Pessoas\",\"Americas Health\",\"Aoop Cloud Solutions\",\"Aut\\u00c3\\u00b4nomo\",\"Auvo Tecnologia\",\"Axislera\",\"BDA Solutions | Big Data & Analytics\",\"BR Home Centers\",\"Brunel\",\"BuzzLead\",\"CELK Sistemas\",\"CPqD\",\"CRP Tecnologia\",\"CVV - Centro de Valoriza\\u00c3\\u00a7\\u00c3\\u00a3o da Vida\",\"Centro de Excel\\u00c3\\u00aancia em Intelig\\u00c3\\u00aancia Artificial (CExIA) & Deep Learning Brasil\",\"Cielo\",\"ClearSale\",\"Click Menos\",\"Coll\\u00c3\\u00a8ge des Ing\\u00c3\\u00a9nieurs\",\"Compasso UOL\",\"Conexa - Um Hub de Inova\\u00c3\\u00a7\\u00c3\\u00a3o Siagri\",\"Cooperativa COMIGO\",\"Corp360\",\"CrowdStrike\",\"DATA H \",\"DIVIDATA Processamento de Dados Ltda\",\"DSX IT Solutions\",\"DSX iT Solutions\",\"Data Sprints\",\"Datadog\",\"Deal\",\"Defensoria Publica do Estado de Goi\\u00c3\\u00a1s \",\"Deloitte\",\"ESoluti\",\"EasyPlay\",\"Ecx Card - Cart\\u00c3\\u00b5es de Benef\\u00c3\\u00adcios\",\"Emater -Go\",\"Enel\",\"Enel Brasil\",\"Enel Distribui\\u00c3\\u00a7\\u00c3\\u00a3o Goi\\u00c3\\u00a1s\",\"Enel Goias\",\"Enel Group\",\"Energisa\",\"Escola ZION\",\"Espa\\u00c3\\u00a7o \\u00c3\\u2030tica\",\"Exis Servicos\",\"FR Digital\",\"Faculdade de Tecnologia Senac Goi\\u00c3\\u00a1s.\",\"Founder Institute\",\"Funda\\u00c3\\u00a7\\u00c3\\u00a3o CPqD \\u00e2\\u20ac\\u201c Centro de Pesquisa e Desenvolvimento em Telecomunica\\u00c3\\u00a7\\u00c3\\u00b5es\",\"G4F Solu\\u00c3\\u00a7\\u00c3\\u00b5es Corporativas\",\"GOL Linhas A\\u00c3\\u00a9reas\",\"GR8 Sistemas e Tecnologia\",\"Gauge\",\"GoVendas\",\"Grupo GFT\",\"Grupo Saga\",\"Gynprog Diagnostico Automotivo\",\"HD Tecnologia em Informa\\u00c3\\u00a7\\u00c3\\u00b5es\",\"HMAP - Hospital Municipal de Aparecida de Goi\\u00c3\\u00a2nia\",\"Hapvida\",\"INN Tecnologia\",\"INTERA | Talent Hacking\",\"IPOG - Instituto de P\\u00c3\\u00b3s-Gradua\\u00c3\\u00a7\\u00c3\\u00a3o e Gradua\\u00c3\\u00a7\\u00c3\\u00a3o\",\"InSol Tecnologia\",\"Indra\",\"Influency.me\",\"Infomach\",\"Infomach Solu\\u00c3\\u00a7\\u00c3\\u00b5es\",\"Ingenieros Emetres SLP (Im3)\",\"Invillia\",\"Ita\\u00c3\\u00ba Unibanco\",\"Juntos Somos Mais\",\"Ka Solution\",\"Kavak.com\",\"Konsulti\",\"LG lugar de gente\",\"LUBEXx\",\"Locbreak\",\"Loft\",\"Lottus Psicologia\",\"Lucroo\",\"Lynx Spa\",\"MadeFY\",\"ManpowerGroup\",\"MasterMind Brasil Central\",\"Meetime\",\"Memora Processos Inovadores S/A\",\"Mercado Livre\",\"Meta Farma\",\"Mindtree\",\"Minerva Foods\",\"Mutant\",\"MyFarm \",\"NTT DATA\",\"NectarCRM\",\"Novo Mundo M\\u00c3\\u00b3veis e Utilidades\",\"Nubank\",\"Offerwise\",\"Office Hostel\",\"Oitis Hotel\",\"Ok Dados\",\"Olegario Motors\",\"OnCloud_Br\",\"Online UX Team\",\"Oobj\",\"Oobj - Tecnologia em Gest\\u00c3\\u00a3o Fiscal\",\"Organizacao Das Voluntarias De Goias\",\"PepsiCo\",\"Philip Morris International\",\"Philips\",\"Piracanjuba\",\"Pit Bull Jeans\",\"Planalto \",\"Point Point - Engenharia e Tecnologia.\",\"Primepass\",\"Procuradoria Geral do Estado de Goi\\u00c3\\u00a1s\",\"Qualiti Network\",\"Rede Frota\",\"Reev \\u00c2\\u00ae\",\"SONDA\",\"Sales Hackers\",\"Sanmina\",\"ScoraS\",\"Secretaria Municipal De Desenvolvimento Humano e Social\",\"Senior Sistemas\",\"Service IT.\",\"ServiceNow\",\"SisProg Inform\\u00c3\\u00a1tica\",\"Soluti Digital\",\"Stefanini Brasil\",\"Studio Le San\",\"SuasVendas\",\"T Engenharia e Sistemas (TEES)\",\"TH Consult\",\"TOTVS\",\"Tag Business Solutions\",\"Tagesspiegel Background Mobilit\\u00c3\\u00a4t und Transport\",\"Tembici\",\"The Brooklyn Brothers\",\"Tidlos Home\",\"Towards Data Science\",\"Tra\\u00c3\\u00a7o Neg\\u00c3\\u00b3cios\",\"UniEVANG\\u00c3\\u2030LICA - Centro Universit\\u00c3\\u00a1rio de An\\u00c3\\u00a1polis\",\"Universidade Federal de Goi\\u00c3\\u00a1s\",\"Vale\",\"Vorbe Engenharia e Servi\\u00c3\\u00a7os\",\"WBusiness\",\"Webmotors\",\"Wildlife Studios\",\"Winning by Design\",\"Wipro Limited\",\"Xavante Solutions\",\"ZG Solu\\u00c3\\u00a7\\u00c3\\u00b5es\",\"Z\\u00c3\\u00a9 Delivery\",\"a55\",\"edrone\",\"enjoei\",\"iFood\",\"iRancho\",\"ioasys\",\"\\u00c3\\u008dris | Laborat\\u00c3\\u00b3rio de Inova\\u00c3\\u00a7\\u00c3\\u00a3o e Dados \"],\"name\":\"\",\"parents\":[\"CPqD/Analista de Sistemas Java Senior\",\"Minerva Foods/Chief Human Resources Officer\",\"Infomach Solu\\u00c3\\u00a7\\u00c3\\u00b5es/Support Analyst\",\"Lottus Psicologia/Psic\\u00c3\\u00b3logo cl\\u00c3\\u00adnico\",\"AWWCOR Inc/Recruiter / HR Manager\",\"UniEVANG\\u00c3\\u2030LICA - Centro Universit\\u00c3\\u00a1rio de An\\u00c3\\u00a1polis/Professor\",\"Organizacao Das Voluntarias De Goias/T\\u00c3\\u00a9cnico administrativo\",\"SONDA/Tech Recruiter\",\"EasyPlay/Co-Founder\",\"INN Tecnologia/Analista de seguran\\u00c3\\u00a7a de redes\",\"Data Sprints/Co-Founder & CTO\",\"Ad\\u00c3\\u00a3o Im\\u00c3\\u00b3veis/Assistente de Gest\\u00c3\\u00a3o de Talentos \",\"Amanda Manzi Consultoria em Gest\\u00c3\\u00a3o com Pessoas/Consultora em Desenvolvimento Organizacional e Humano\",\"TH Consult/Gerente de RH\",\"SONDA/Analista de RH  | Tech recruiter  \",\"ScoraS/Chief Data Officer | Founder\",\"Centro de Excel\\u00c3\\u00aancia em Intelig\\u00c3\\u00aancia Artificial (CExIA) & Deep Learning Brasil/General Manager\",\"The Brooklyn Brothers/Resource Manager\",\"iRancho/Desenvolvedor full stack\",\"Stefanini Brasil/Data Scientist\",\"Infomach/Fundador e CEO\",\"Xavante Solutions/Gerente de Projetos / Scrum Master\",\"Axislera/Chief Technical Officer\",\"Universidade Federal de Goi\\u00c3\\u00a1s/Researcher professor in Machine Learning and Deep Learning\",\"Universidade Federal de Goi\\u00c3\\u00a1s/Monitora Acad\\u00c3\\u00aamica\",\"Indra/Analista Administrativo Sr.\",\"Ok Dados/Diretora administrativa\",\"Ka Solution/Instrutora de SAP\",\"LG lugar de gente/Tech Recruiter\",\"ZG Solu\\u00c3\\u00a7\\u00c3\\u00b5es/Analista de Suporte T\\u00c3\\u00a9cnico\",\"Nubank/Senior Business Analyst\",\"Infomach/Analista de seguran\\u00c3\\u00a7a de redes\",\"IPOG - Instituto de P\\u00c3\\u00b3s-Gradua\\u00c3\\u00a7\\u00c3\\u00a3o e Gradua\\u00c3\\u00a7\\u00c3\\u00a3o/Consultor comercial - Inside Sales\",\"Enel Group/Head of B2B & B2G Customer Solutions & Experience\",\"Tidlos Home/Designer de interiores\",\"Conexa - Um Hub de Inova\\u00c3\\u00a7\\u00c3\\u00a3o Siagri/Tech Recruiter\",\"Enel Brasil/Focal point of agility Brazil for Digital Market Transformation\",\"ServiceNow/Senior Enterprise Account Manager\",\"Founder Institute/Local Leader\",\"Tag Business Solutions/Estagi\\u00c3\\u00a1rio\",\"Espa\\u00c3\\u00a7o \\u00c3\\u2030tica/Founder\",\"Olegario Motors/Consultor de vendas\",\"Oobj - Tecnologia em Gest\\u00c3\\u00a3o Fiscal/Analista de Marketing Pleno\",\"Loft/Data Scientist\",\"Towards Data Science/Technical Writer\",\"Gynprog Diagnostico Automotivo/Assistente financeiro\",\"DIVIDATA Processamento de Dados Ltda/T\\u00c3\\u00a9cnico de Microinform\\u00c3\\u00a1tica Especializado \",\"Sanmina/Analista de Sistemas Senior\",\"Aoop Cloud Solutions/ServiceNow Delivery Manager\",\"Meetime/CMO\",\"Ok Dados/Co CEO\",\"Defensoria Publica do Estado de Goi\\u00c3\\u00a1s /Assessor de Suporte\",\"Memora Processos Inovadores S/A/Gerente comercial\",\"Mindtree/SAP S/4HANA SD / CS Consultant (Associate)\",\"Procuradoria Geral do Estado de Goi\\u00c3\\u00a1s/T\\u00c3\\u00a9cnico de suporte em TI\",\"Enel/Executiva de Relacionamento B2B\",\"CPqD/Analista de Sistemas\",\"DATA H /Founder and CEO\",\"LUBEXx/Consultora de vendas\",\"Enel Brasil/Especialista em Solu\\u00c3\\u00a7\\u00c3\\u00b5es Digitais\",\"OnCloud_Br/Diretor Comercial\",\"Accenture Brasil/Augmented Insights Analyst\",\"Wildlife Studios/Senior Staff Data Scientist and Technical Project Manager for Core Science and AI\",\"Juntos Somos Mais/Tech Lead\",\"Gauge/UX Designer\",\"edrone/COO\",\"FR Digital/Designer Gr\\u00c3\\u00a1fico\",\"Enel Brasil/Especialista Senior Customer Experience and Interaction\",\"LG lugar de gente/Desenvolvedor trainee\",\"Enel/ICT Manager at Enel D Goi\\u00c3\\u00a1s\",\"Enel Brasil/Head of Innovation\",\"AYESA/AYESA\",\"Infomach Solu\\u00c3\\u00a7\\u00c3\\u00b5es/L\\u00c3\\u00adder T\\u00c3\\u00a9cnico\",\"Tra\\u00c3\\u00a7o Neg\\u00c3\\u00b3cios/Desenvolvedor para Wordpress\",\"Soluti Digital/Analista ERP\",\"Mutant/Analista de RH Pleno\",\"2Com Consulting/External Sales Advisor - Consultor LGPD\",\"Auvo Tecnologia/Founder e CEO\",\"Primepass/Sales Account Executive\",\"Lynx Spa/Estagi\\u00c3\\u00a1rio de Desenvolvimento\",\"Enel Brasil/Analista de Neg\\u00c3\\u00b3cios Senior\",\"Influency.me/Analista de Customer Success Pleno\",\"Alura Cursos Online/Tech community manager\",\"Vale/Data Scientist SR - People Analytics Expert\",\"Kavak.com/Head of Brand\",\"ZG Solu\\u00c3\\u00a7\\u00c3\\u00b5es/Desenvolvedor de software\",\"NectarCRM/Sales Account Executive\",\"Deal/Analista de dados\",\"Offerwise/Head Of Business Intelligence and Statistic Team\",\"Faculdade de Tecnologia Senac Goi\\u00c3\\u00a1s./Professor\",\"DSX iT Solutions/Founder\",\"T Engenharia e Sistemas (TEES)/Analista de infraestrutura\",\"Webmotors/Data Scientist\",\"Sales Hackers/Coordenadora de Marketing\",\"ADVANCED Consulting/CRM - Customer Relationship Management Big Business\",\"Ok Dados/Technical Lead\",\"ESoluti/Analista de TI\",\"Compasso UOL/Software Engineer\",\"Infomach/Consultora de vendas\",\"Ecx Card - Cart\\u00c3\\u00b5es de Benef\\u00c3\\u00adcios/Inside Sales Account Executive\",\"Meta Farma/Gerente de cobran\\u00c3\\u00a7a\",\"Enel Brasil/Executivo Enel \",\"Z\\u00c3\\u00a9 Delivery/Growth Specialist\",\"AYESA/Coordenador t\\u00c3\\u00a9cnico\",\"CrowdStrike/Country Manager\",\"ServiceNow/Senior Advisory Solution Consultant\",\"ClearSale/Analista de Modelagem\",\"Enel Distribui\\u00c3\\u00a7\\u00c3\\u00a3o Goi\\u00c3\\u00a1s/Diretor-Presidente \",\"Grupo GFT/Cloud Solutions Architect\",\"Enel Group/Especialista de Governan\\u00c3\\u00a7a dos Processos\",\"SuasVendas/Estagi\\u00c3\\u00a1rio de desenvolvimento web\",\"TOTVS/Analista de suporte\",\"MasterMind Brasil Central/Diretor regional\",\"SisProg Inform\\u00c3\\u00a1tica/Propriet\\u00c3\\u00a1rio\",\"Enel Brasil/Especialista Desenvolvimento de Rede\",\"Oobj/SDR- Sales Development Representative\",\"LG lugar de gente/Analista de Estrat\\u00c3\\u00a9gia e Integra\\u00c3\\u00a7\\u00c3\\u00a3o do Cliente \",\"BR Home Centers/Analista de marketing\",\"Grupo Saga/Auxiliar administrativo\",\"Tembici/Data Products Manager\",\"Tagesspiegel Background Mobilit\\u00c3\\u00a4t und Transport/Freier Journalist\",\"CVV - Centro de Valoriza\\u00c3\\u00a7\\u00c3\\u00a3o da Vida/Voluntaria\",\"Cielo/Consultor de desenvolvimento de neg\\u00c3\\u00b3cios\",\"Tag Business Solutions/Estagi\\u00c3\\u00a1ria\",\"LG lugar de gente/Consultora Comercial Hunter \",\"ioasys/Desenvolvedora\",\"Hapvida/Psic\\u00c3\\u00b3logo cl\\u00c3\\u00adnico\",\"Enel Group/Analista de Negocios \",\"BuzzLead/CEO\",\"MyFarm /CEO\",\"Point Point - Engenharia e Tecnologia./Auxiliar Administrativo\",\"Cooperativa COMIGO/Analista de Sistema de Gest\\u00c3\\u00a3o Integrado (SGI) pleno\",\"Locbreak/empresa de energia\",\"InSol Tecnologia/Head Of Sales \",\"T Engenharia e Sistemas (TEES)/Analista de TI\",\"Wipro Limited/PMO Analyst\",\"Enel/Inspections Operation - Head of Opera\\u00c3\\u00a7\\u00c3\\u00a3o Grupo B Goi\\u00c3\\u00a1s\",\"Secretaria Municipal De Desenvolvimento Humano e Social/Assessor T\\u00c3\\u00a9cnico\",\"Enel Group/Analista Sr. Fechamento Cont\\u00c3\\u00a1bil Distribui\\u00c3\\u00a7\\u00c3\\u00a3o/Transmiss\\u00c3\\u00a3o\",\"G4F Solu\\u00c3\\u00a7\\u00c3\\u00b5es Corporativas/Analista s\\u00c3\\u00aanior\",\"Datadog/Sales Development Representative\",\"Enel Group/Information Technology Specialist\",\"Konsulti/CEO\",\"AYESA/Market \",\"Planalto /Sales Development Representative\",\"Philips/People Strategy & Engagement \\u00f0\\u0178\\u2019\\u2122\",\"Senior Sistemas/Executivo de contas\",\"Studio Le San/Designer gr\\u00c3\\u00a1fico\",\"CELK Sistemas/L\\u00c3\\u00adder t\\u00c3\\u00a9cnico de Java\",\"ManpowerGroup/Analista de suporte de TI\",\"Exis Servicos/Desenvolvedor full stack\",\"Service IT./Analista de Governan\\u00c3\\u00a7a\",\"Ita\\u00c3\\u00ba Unibanco/Senior Front-End Engineer\",\"Funda\\u00c3\\u00a7\\u00c3\\u00a3o CPqD \\u00e2\\u20ac\\u201c Centro de Pesquisa e Desenvolvimento em Telecomunica\\u00c3\\u00a7\\u00c3\\u00b5es/Coordenador de projetos\",\"DSX IT Solutions/Sales Representative\",\"GoVendas/Customer Success Analyst\",\"INTERA | Talent Hacking/Talent Hacker Hunter\",\"Vorbe Engenharia e Servi\\u00c3\\u00a7os/S\\u00c3\\u00b3cio propriet\\u00c3\\u00a1rio e Respons\\u00c3\\u00a1vel T\\u00c3\\u00a9cnico\",\"Conexa - Um Hub de Inova\\u00c3\\u00a7\\u00c3\\u00a3o Siagri/Data Analyst\",\"LG lugar de gente/Consultor de relacionamento\",\"Philip Morris International/Packaging Automation Developer Specialist\",\"GR8 Sistemas e Tecnologia/Programador\",\"ATRA Informatica/Tech Recruiter\",\"Novo Mundo M\\u00c3\\u00b3veis e Utilidades/Desenvolvedor trainee\",\"Invillia/Specialist Backend Developer\",\"Ita\\u00c3\\u00ba Unibanco/Talent Acquisition | Corporate Recruiter\",\"Rede Frota/Coordenadora de Atendimento\",\"Enel Group/Especialista em Cobran\\u00c3\\u00a7a Brasil\",\"Enel/Analista\",\"Office Hostel/Diretor\",\"SONDA/Tech Recruiter\",\"Mercado Livre/Data Scientist\",\"MadeFY/Diretor de desenvolvimento de neg\\u00c3\\u00b3cios\",\"Qualiti Network/Consultor de ICT (Tecnologia da Informa\\u00c3\\u00a7\\u00c3\\u00a3o e Comunica\\u00c3\\u00a7\\u00c3\\u00a3o)\",\"Infomach Solu\\u00c3\\u00a7\\u00c3\\u00b5es/Consultor de Vendas de Seguran\\u00c3\\u00a7a da Informa\\u00c3\\u00a7\\u00c3\\u00a3o\",\"Corp360/Diretor\",\"Energisa/Eletricista de Inspe\\u00c3\\u00a7\\u00c3\\u00a3o I\",\"ACE Startups/Co-Founder\",\"a55/Sales Account Executive\",\"Infomach/L\\u00c3\\u00adder de equipe de produto\",\"\\u00c3\\u008dris | Laborat\\u00c3\\u00b3rio de Inova\\u00c3\\u00a7\\u00c3\\u00a3o e Dados /Gestora de Projetos\",\"Enel Group/Especialista de Atendimento N\\u00c3\\u00a3o Presencial\",\"Coll\\u00c3\\u00a8ge des Ing\\u00c3\\u00a9nieurs/MBA Fellow at Coll\\u00c3\\u00a8ge des Ing\\u00c3\\u00a9nieurs\",\"Oitis Hotel/Recep\\u00c3\\u00a7\\u00c3\\u00a3o\",\"WBusiness/Redator S\\u00c3\\u00aanior | Analista de Marketing\",\"Enel/Analista de Projetos Pleno\",\"Pit Bull Jeans/Contador\",\"Piracanjuba/Cloud & IT Infrastructure Specialist\",\"Click Menos/Fundador\",\"PepsiCo/Pricing Analyst\",\"CRP Tecnologia/Consultor de vendas\",\"Escola ZION/Aluno\",\"Enel Goias/Analista de Sistemas\",\"HD Tecnologia em Informa\\u00c3\\u00a7\\u00c3\\u00b5es/Sales Development Specialist\",\"Enel Brasil/T\\u00c3\\u00a9cnico em eletrotecnica III\",\"Mercado Livre/Analista de BI\",\"Enel Group/Assistente administrativo\",\"Ingenieros Emetres SLP (Im3)/Assistente administrativo\",\"Enel Brasil/Especialista em telecomunica\\u00c3\\u00a7\\u00c3\\u00b5es\",\"Brunel/Recruiter\",\"Infomach Solu\\u00c3\\u00a7\\u00c3\\u00b5es/Consultor de Neg\\u00c3\\u00b3cios\",\"Enel Group/Analista Sr. Digital Solutions\",\"AYESA/DBA de Oracle\",\"Deloitte/Consultant\",\"Aut\\u00c3\\u00b4nomo/Corretor imobili\\u00c3\\u00a1rio\",\"Online UX Team/Head de Product (UX & UI) Design\",\"Enel Brasil/Analista de dados\",\"BDA Solutions | Big Data & Analytics/Data Analytics Manager\",\"GOL Linhas A\\u00c3\\u00a9reas/Flight Attendant\",\"AYESA/Gerente de Projetos\",\"NTT DATA/Data Scientist\",\"Lucroo/Inside Sales Representative\",\"HMAP - Hospital Municipal de Aparecida de Goi\\u00c3\\u00a2nia/Coordenador de TI\",\"Grupo GFT/Developer\",\"Reev \\u00c2\\u00ae/CEO\",\"Exis Servicos/Analista e Programador de Sistemas\",\"enjoei/Back-end Developer\",\"Ad\\u00c3\\u00a3o Im\\u00c3\\u00b3veis/Assistente de Gest\\u00c3\\u00a3o de talentos\",\"Nubank/Senior Data Engineer\",\"Americas Health/Coordenador de Marketing e Relacionamento\",\"Emater -Go/Estagi\\u00c3\\u00a1rio de ci\\u00c3\\u00aancia da computa\\u00c3\\u00a7\\u00c3\\u00a3o\",\"iFood/Software Engineer at iFood\",\"Winning by Design/Founder/Co-CEO\",\"AYESA\",\"Escola ZION\",\"Enel\",\"Indra\",\"Soluti Digital\",\"Enel Group\",\"Enel Group\",\"Mercado Livre\",\"Influency.me\",\"LG lugar de gente\",\"Service IT.\",\"Oobj - Tecnologia em Gest\\u00c3\\u00a3o Fiscal\",\"ClearSale\",\"Enel Group\",\"Enel Brasil\",\"Enel\",\"SONDA\",\"Mutant\",\"Cooperativa COMIGO\",\"CPqD\",\"Enel Goias\",\"CPqD\",\"Sanmina\",\"ZG Solu\\u00c3\\u00a7\\u00c3\\u00b5es\",\"ESoluti\",\"T Engenharia e Sistemas (TEES)\",\"Deal\",\"Enel Brasil\",\"T Engenharia e Sistemas (TEES)\",\"BR Home Centers\",\"INN Tecnologia\",\"Infomach\",\"TOTVS\",\"ManpowerGroup\",\"Exis Servicos\",\"G4F Solu\\u00c3\\u00a7\\u00c3\\u00b5es Corporativas\",\"Secretaria Municipal De Desenvolvimento Humano e Social\",\"Defensoria Publica do Estado de Goi\\u00c3\\u00a1s \",\"Enel Group\",\"Ingenieros Emetres SLP (Im3)\",\"Ad\\u00c3\\u00a3o Im\\u00c3\\u00b3veis\",\"Ad\\u00c3\\u00a3o Im\\u00c3\\u00b3veis\",\"Gynprog Diagnostico Automotivo\",\"Accenture Brasil\",\"Point Point - Engenharia e Tecnologia.\",\"Grupo Saga\",\"enjoei\",\"BuzzLead\",\"Konsulti\",\"MyFarm \",\"Reev \\u00c2\\u00ae\",\"Meetime\",\"edrone\",\"ADVANCED Consulting\",\"ScoraS\",\"Minerva Foods\",\"Axislera\",\"Piracanjuba\",\"Grupo GFT\",\"Ok Dados\",\"ACE Startups\",\"EasyPlay\",\"Data Sprints\",\"Deloitte\",\"IPOG - Instituto de P\\u00c3\\u00b3s-Gradua\\u00c3\\u00a7\\u00c3\\u00a3o e Gradua\\u00c3\\u00a7\\u00c3\\u00a3o\",\"Qualiti Network\",\"Infomach Solu\\u00c3\\u00a7\\u00c3\\u00b5es\",\"Infomach Solu\\u00c3\\u00a7\\u00c3\\u00b5es\",\"Cielo\",\"LG lugar de gente\",\"CRP Tecnologia\",\"Olegario Motors\",\"LG lugar de gente\",\"Infomach\",\"LUBEXx\",\"Amanda Manzi Consultoria em Gest\\u00c3\\u00a3o com Pessoas\",\"Pit Bull Jeans\",\"Americas Health\",\"HMAP - Hospital Municipal de Aparecida de Goi\\u00c3\\u00a2nia\",\"Funda\\u00c3\\u00a7\\u00c3\\u00a3o CPqD \\u00e2\\u20ac\\u201c Centro de Pesquisa e Desenvolvimento em Telecomunica\\u00c3\\u00a7\\u00c3\\u00b5es\",\"AYESA\",\"Rede Frota\",\"Sales Hackers\",\"Aut\\u00c3\\u00b4nomo\",\"CrowdStrike\",\"GoVendas\",\"AYESA\",\"Conexa - Um Hub de Inova\\u00c3\\u00a7\\u00c3\\u00a3o Siagri\",\"BDA Solutions | Big Data & Analytics\",\"Tembici\",\"Loft\",\"Mercado Livre\",\"NTT DATA\",\"Stefanini Brasil\",\"Webmotors\",\"Vale\",\"ZG Solu\\u00c3\\u00a7\\u00c3\\u00b5es\",\"Exis Servicos\",\"iRancho\",\"Tra\\u00c3\\u00a7o Neg\\u00c3\\u00b3cios\",\"LG lugar de gente\",\"Novo Mundo M\\u00c3\\u00b3veis e Utilidades\",\"ioasys\",\"FR Digital\",\"Tidlos Home\",\"Studio Le San\",\"Grupo GFT\",\"Corp360\",\"Office Hostel\",\"OnCloud_Br\",\"MadeFY\",\"MasterMind Brasil Central\",\"Enel Distribui\\u00c3\\u00a7\\u00c3\\u00a3o Goi\\u00c3\\u00a1s\",\"Ok Dados\",\"Energisa\",\"Enel Brasil\",\"Enel Brasil\",\"Enel Group\",\"Enel Group\",\"Enel Group\",\"Enel Brasil\",\"Enel Brasil\",\"Tag Business Solutions\",\"Tag Business Solutions\",\"Lynx Spa\",\"Emater -Go\",\"SuasVendas\",\"Enel\",\"Enel Brasil\",\"Senior Sistemas\",\"2Com Consulting\",\"GOL Linhas A\\u00c3\\u00a9reas\",\"Enel Brasil\",\"DSX iT Solutions\",\"Espa\\u00c3\\u00a7o \\u00c3\\u2030tica\",\"DATA H \",\"Auvo Tecnologia\",\"Winning by Design\",\"Tagesspiegel Background Mobilit\\u00c3\\u00a4t und Transport\",\"Click Menos\",\"Infomach\",\"Centro de Excel\\u00c3\\u00aancia em Intelig\\u00c3\\u00aancia Artificial (CExIA) & Deep Learning Brasil\",\"Memora Processos Inovadores S/A\",\"AYESA\",\"Xavante Solutions\",\"TH Consult\",\"Meta Farma\",\"\\u00c3\\u008dris | Laborat\\u00c3\\u00b3rio de Inova\\u00c3\\u00a7\\u00c3\\u00a3o e Dados \",\"Z\\u00c3\\u00a9 Delivery\",\"Offerwise\",\"InSol Tecnologia\",\"Online UX Team\",\"Enel Group\",\"Kavak.com\",\"Enel Brasil\",\"Enel\",\"Enel Group\",\"Ecx Card - Cart\\u00c3\\u00b5es de Benef\\u00c3\\u00adcios\",\"Lucroo\",\"Enel\",\"Ka Solution\",\"Founder Institute\",\"Infomach Solu\\u00c3\\u00a7\\u00c3\\u00b5es\",\"Infomach\",\"CELK Sistemas\",\"Coll\\u00c3\\u00a8ge des Ing\\u00c3\\u00a9nieurs\",\"AYESA\",\"Universidade Federal de Goi\\u00c3\\u00a1s\",\"Wipro Limited\",\"Philip Morris International\",\"Philips\",\"PepsiCo\",\"Faculdade de Tecnologia Senac Goi\\u00c3\\u00a1s.\",\"UniEVANG\\u00c3\\u2030LICA - Centro Universit\\u00c3\\u00a1rio de An\\u00c3\\u00a1polis\",\"GR8 Sistemas e Tecnologia\",\"SisProg Inform\\u00c3\\u00a1tica\",\"Hapvida\",\"Lottus Psicologia\",\"Oitis Hotel\",\"Brunel\",\"AWWCOR Inc\",\"WBusiness\",\"Universidade Federal de Goi\\u00c3\\u00a1s\",\"The Brooklyn Brothers\",\"Mindtree\",\"Oobj\",\"NectarCRM\",\"Primepass\",\"a55\",\"Datadog\",\"Planalto \",\"HD Tecnologia em Informa\\u00c3\\u00a7\\u00c3\\u00b5es\",\"DSX IT Solutions\",\"ServiceNow\",\"Nubank\",\"Nubank\",\"ServiceNow\",\"Ita\\u00c3\\u00ba Unibanco\",\"Wildlife Studios\",\"Aoop Cloud Solutions\",\"Compasso UOL\",\"iFood\",\"Invillia\",\"Infomach Solu\\u00c3\\u00a7\\u00c3\\u00b5es\",\"Vorbe Engenharia e Servi\\u00c3\\u00a7os\",\"Ita\\u00c3\\u00ba Unibanco\",\"INTERA | Talent Hacking\",\"Juntos Somos Mais\",\"ATRA Informatica\",\"Conexa - Um Hub de Inova\\u00c3\\u00a7\\u00c3\\u00a3o Siagri\",\"LG lugar de gente\",\"SONDA\",\"Alura Cursos Online\",\"Ok Dados\",\"Towards Data Science\",\"Organizacao Das Voluntarias De Goias\",\"DIVIDATA Processamento de Dados Ltda\",\"Procuradoria Geral do Estado de Goi\\u00c3\\u00a1s\",\"Enel Brasil\",\"Gauge\",\"CVV - Centro de Valoriza\\u00c3\\u00a7\\u00c3\\u00a3o da Vida\",\"Locbreak\",\"\",\"\",\"\",\"\",\"\",\"\",\"\",\"\",\"\",\"\",\"\",\"\",\"\",\"\",\"\",\"\",\"\",\"\",\"\",\"\",\"\",\"\",\"\",\"\",\"\",\"\",\"\",\"\",\"\",\"\",\"\",\"\",\"\",\"\",\"\",\"\",\"\",\"\",\"\",\"\",\"\",\"\",\"\",\"\",\"\",\"\",\"\",\"\",\"\",\"\",\"\",\"\",\"\",\"\",\"\",\"\",\"\",\"\",\"\",\"\",\"\",\"\",\"\",\"\",\"\",\"\",\"\",\"\",\"\",\"\",\"\",\"\",\"\",\"\",\"\",\"\",\"\",\"\",\"\",\"\",\"\",\"\",\"\",\"\",\"\",\"\",\"\",\"\",\"\",\"\",\"\",\"\",\"\",\"\",\"\",\"\",\"\",\"\",\"\",\"\",\"\",\"\",\"\",\"\",\"\",\"\",\"\",\"\",\"\",\"\",\"\",\"\",\"\",\"\",\"\",\"\",\"\",\"\",\"\",\"\",\"\",\"\",\"\",\"\",\"\",\"\",\"\",\"\",\"\",\"\",\"\",\"\",\"\",\"\",\"\",\"\",\"\",\"\",\"\",\"\",\"\",\"\",\"\",\"\",\"\",\"\",\"\",\"\",\"\",\"\",\"\",\"\",\"\",\"\",\"\",\"\",\"\",\"\",\"\",\"\",\"\",\"\",\"\",\"\",\"\",\"\",\"\",\"\",\"\",\"\",\"\"],\"type\":\"treemap\",\"values\":[1,1,1,1,1,1,1,1,1,1,1,1,1,1,1,1,1,1,1,1,1,1,1,1,1,1,1,1,1,1,1,1,1,1,1,1,1,1,1,1,1,1,1,1,1,1,1,1,1,1,1,1,1,1,1,1,1,1,1,1,1,1,1,1,1,1,1,1,1,1,1,1,1,1,1,1,1,1,1,1,1,1,1,1,1,1,1,1,1,1,1,1,1,1,1,1,1,1,1,1,1,1,1,1,1,1,1,1,1,1,1,1,1,1,1,1,1,1,1,1,1,1,1,1,1,1,1,1,1,1,1,1,1,1,1,1,1,1,1,1,1,1,1,1,1,1,1,1,1,1,1,1,1,1,1,1,1,1,1,1,1,1,1,1,1,1,1,1,1,1,1,1,1,1,1,1,1,1,1,1,1,1,1,1,1,1,1,1,1,1,1,1,1,1,1,1,1,1,1,1,1,1,1,1,1,1,1,1,1,1,1,1,1,1,1,1,1,1,1,1,1,1,1,1,1,1,1,1,1,1,1,1,1,1,1,1,1,1,1,1,1,1,1,1,1,1,1,1,1,1,1,1,1,1,1,1,1,1,1,1,1,1,1,1,1,1,1,1,1,1,1,1,1,1,1,1,1,1,1,1,1,1,1,1,1,1,1,1,1,1,1,1,1,1,1,1,1,1,1,1,1,1,1,1,1,1,1,1,1,1,1,1,1,1,1,1,1,1,1,1,1,1,1,1,1,1,1,1,1,1,1,1,1,1,1,1,1,1,1,1,1,1,1,1,1,1,1,1,1,1,1,1,1,1,1,1,1,1,1,1,1,1,1,1,1,1,1,1,1,1,1,1,1,1,1,1,1,1,1,1,1,1,1,1,1,1,1,1,1,1,1,1,1,1,1,1,1,1,1,1,1,1,1,1,1,1,1,1,1,1,1,1,1,1,1,1,1,1,1,1,1,1,1,1,1,1,1,1,1,1,1,1,1,1,2,1,1,1,1,1,1,1,1,1,1,1,1,1,1,1,5,1,2,1,1,1,1,1,1,1,1,1,1,1,1,2,1,1,1,1,1,1,1,1,2,1,1,1,1,1,1,1,1,1,1,1,1,1,1,1,1,5,10,1,1,9,1,1,1,2,1,1,1,1,1,1,1,1,1,2,1,1,1,1,1,1,1,1,1,1,1,4,4,1,1,2,1,1,1,1,5,1,1,1,1,1,1,1,1,1,1,1,2,1,1,1,1,1,1,1,1,2,1,1,1,3,1,1,1,1,1,1,1,1,1,1,1,1,1,1,1,1,1,1,3,1,1,1,1,1,1,2,1,1,1,1,1,2,1,1,2,1,1,1,1,1,1,1,2,1,1,1,1,1,1,1,1,2,1,1,1,1,1,1,1,1]}],                        {\"legend\":{\"tracegroupgap\":0},\"margin\":{\"t\":60},\"template\":{\"data\":{\"bar\":[{\"error_x\":{\"color\":\"#2a3f5f\"},\"error_y\":{\"color\":\"#2a3f5f\"},\"marker\":{\"line\":{\"color\":\"#E5ECF6\",\"width\":0.5},\"pattern\":{\"fillmode\":\"overlay\",\"size\":10,\"solidity\":0.2}},\"type\":\"bar\"}],\"barpolar\":[{\"marker\":{\"line\":{\"color\":\"#E5ECF6\",\"width\":0.5},\"pattern\":{\"fillmode\":\"overlay\",\"size\":10,\"solidity\":0.2}},\"type\":\"barpolar\"}],\"carpet\":[{\"aaxis\":{\"endlinecolor\":\"#2a3f5f\",\"gridcolor\":\"white\",\"linecolor\":\"white\",\"minorgridcolor\":\"white\",\"startlinecolor\":\"#2a3f5f\"},\"baxis\":{\"endlinecolor\":\"#2a3f5f\",\"gridcolor\":\"white\",\"linecolor\":\"white\",\"minorgridcolor\":\"white\",\"startlinecolor\":\"#2a3f5f\"},\"type\":\"carpet\"}],\"choropleth\":[{\"colorbar\":{\"outlinewidth\":0,\"ticks\":\"\"},\"type\":\"choropleth\"}],\"contour\":[{\"colorbar\":{\"outlinewidth\":0,\"ticks\":\"\"},\"colorscale\":[[0.0,\"#0d0887\"],[0.1111111111111111,\"#46039f\"],[0.2222222222222222,\"#7201a8\"],[0.3333333333333333,\"#9c179e\"],[0.4444444444444444,\"#bd3786\"],[0.5555555555555556,\"#d8576b\"],[0.6666666666666666,\"#ed7953\"],[0.7777777777777778,\"#fb9f3a\"],[0.8888888888888888,\"#fdca26\"],[1.0,\"#f0f921\"]],\"type\":\"contour\"}],\"contourcarpet\":[{\"colorbar\":{\"outlinewidth\":0,\"ticks\":\"\"},\"type\":\"contourcarpet\"}],\"heatmap\":[{\"colorbar\":{\"outlinewidth\":0,\"ticks\":\"\"},\"colorscale\":[[0.0,\"#0d0887\"],[0.1111111111111111,\"#46039f\"],[0.2222222222222222,\"#7201a8\"],[0.3333333333333333,\"#9c179e\"],[0.4444444444444444,\"#bd3786\"],[0.5555555555555556,\"#d8576b\"],[0.6666666666666666,\"#ed7953\"],[0.7777777777777778,\"#fb9f3a\"],[0.8888888888888888,\"#fdca26\"],[1.0,\"#f0f921\"]],\"type\":\"heatmap\"}],\"heatmapgl\":[{\"colorbar\":{\"outlinewidth\":0,\"ticks\":\"\"},\"colorscale\":[[0.0,\"#0d0887\"],[0.1111111111111111,\"#46039f\"],[0.2222222222222222,\"#7201a8\"],[0.3333333333333333,\"#9c179e\"],[0.4444444444444444,\"#bd3786\"],[0.5555555555555556,\"#d8576b\"],[0.6666666666666666,\"#ed7953\"],[0.7777777777777778,\"#fb9f3a\"],[0.8888888888888888,\"#fdca26\"],[1.0,\"#f0f921\"]],\"type\":\"heatmapgl\"}],\"histogram\":[{\"marker\":{\"pattern\":{\"fillmode\":\"overlay\",\"size\":10,\"solidity\":0.2}},\"type\":\"histogram\"}],\"histogram2d\":[{\"colorbar\":{\"outlinewidth\":0,\"ticks\":\"\"},\"colorscale\":[[0.0,\"#0d0887\"],[0.1111111111111111,\"#46039f\"],[0.2222222222222222,\"#7201a8\"],[0.3333333333333333,\"#9c179e\"],[0.4444444444444444,\"#bd3786\"],[0.5555555555555556,\"#d8576b\"],[0.6666666666666666,\"#ed7953\"],[0.7777777777777778,\"#fb9f3a\"],[0.8888888888888888,\"#fdca26\"],[1.0,\"#f0f921\"]],\"type\":\"histogram2d\"}],\"histogram2dcontour\":[{\"colorbar\":{\"outlinewidth\":0,\"ticks\":\"\"},\"colorscale\":[[0.0,\"#0d0887\"],[0.1111111111111111,\"#46039f\"],[0.2222222222222222,\"#7201a8\"],[0.3333333333333333,\"#9c179e\"],[0.4444444444444444,\"#bd3786\"],[0.5555555555555556,\"#d8576b\"],[0.6666666666666666,\"#ed7953\"],[0.7777777777777778,\"#fb9f3a\"],[0.8888888888888888,\"#fdca26\"],[1.0,\"#f0f921\"]],\"type\":\"histogram2dcontour\"}],\"mesh3d\":[{\"colorbar\":{\"outlinewidth\":0,\"ticks\":\"\"},\"type\":\"mesh3d\"}],\"parcoords\":[{\"line\":{\"colorbar\":{\"outlinewidth\":0,\"ticks\":\"\"}},\"type\":\"parcoords\"}],\"pie\":[{\"automargin\":true,\"type\":\"pie\"}],\"scatter\":[{\"marker\":{\"colorbar\":{\"outlinewidth\":0,\"ticks\":\"\"}},\"type\":\"scatter\"}],\"scatter3d\":[{\"line\":{\"colorbar\":{\"outlinewidth\":0,\"ticks\":\"\"}},\"marker\":{\"colorbar\":{\"outlinewidth\":0,\"ticks\":\"\"}},\"type\":\"scatter3d\"}],\"scattercarpet\":[{\"marker\":{\"colorbar\":{\"outlinewidth\":0,\"ticks\":\"\"}},\"type\":\"scattercarpet\"}],\"scattergeo\":[{\"marker\":{\"colorbar\":{\"outlinewidth\":0,\"ticks\":\"\"}},\"type\":\"scattergeo\"}],\"scattergl\":[{\"marker\":{\"colorbar\":{\"outlinewidth\":0,\"ticks\":\"\"}},\"type\":\"scattergl\"}],\"scattermapbox\":[{\"marker\":{\"colorbar\":{\"outlinewidth\":0,\"ticks\":\"\"}},\"type\":\"scattermapbox\"}],\"scatterpolar\":[{\"marker\":{\"colorbar\":{\"outlinewidth\":0,\"ticks\":\"\"}},\"type\":\"scatterpolar\"}],\"scatterpolargl\":[{\"marker\":{\"colorbar\":{\"outlinewidth\":0,\"ticks\":\"\"}},\"type\":\"scatterpolargl\"}],\"scatterternary\":[{\"marker\":{\"colorbar\":{\"outlinewidth\":0,\"ticks\":\"\"}},\"type\":\"scatterternary\"}],\"surface\":[{\"colorbar\":{\"outlinewidth\":0,\"ticks\":\"\"},\"colorscale\":[[0.0,\"#0d0887\"],[0.1111111111111111,\"#46039f\"],[0.2222222222222222,\"#7201a8\"],[0.3333333333333333,\"#9c179e\"],[0.4444444444444444,\"#bd3786\"],[0.5555555555555556,\"#d8576b\"],[0.6666666666666666,\"#ed7953\"],[0.7777777777777778,\"#fb9f3a\"],[0.8888888888888888,\"#fdca26\"],[1.0,\"#f0f921\"]],\"type\":\"surface\"}],\"table\":[{\"cells\":{\"fill\":{\"color\":\"#EBF0F8\"},\"line\":{\"color\":\"white\"}},\"header\":{\"fill\":{\"color\":\"#C8D4E3\"},\"line\":{\"color\":\"white\"}},\"type\":\"table\"}]},\"layout\":{\"annotationdefaults\":{\"arrowcolor\":\"#2a3f5f\",\"arrowhead\":0,\"arrowwidth\":1},\"autotypenumbers\":\"strict\",\"coloraxis\":{\"colorbar\":{\"outlinewidth\":0,\"ticks\":\"\"}},\"colorscale\":{\"diverging\":[[0,\"#8e0152\"],[0.1,\"#c51b7d\"],[0.2,\"#de77ae\"],[0.3,\"#f1b6da\"],[0.4,\"#fde0ef\"],[0.5,\"#f7f7f7\"],[0.6,\"#e6f5d0\"],[0.7,\"#b8e186\"],[0.8,\"#7fbc41\"],[0.9,\"#4d9221\"],[1,\"#276419\"]],\"sequential\":[[0.0,\"#0d0887\"],[0.1111111111111111,\"#46039f\"],[0.2222222222222222,\"#7201a8\"],[0.3333333333333333,\"#9c179e\"],[0.4444444444444444,\"#bd3786\"],[0.5555555555555556,\"#d8576b\"],[0.6666666666666666,\"#ed7953\"],[0.7777777777777778,\"#fb9f3a\"],[0.8888888888888888,\"#fdca26\"],[1.0,\"#f0f921\"]],\"sequentialminus\":[[0.0,\"#0d0887\"],[0.1111111111111111,\"#46039f\"],[0.2222222222222222,\"#7201a8\"],[0.3333333333333333,\"#9c179e\"],[0.4444444444444444,\"#bd3786\"],[0.5555555555555556,\"#d8576b\"],[0.6666666666666666,\"#ed7953\"],[0.7777777777777778,\"#fb9f3a\"],[0.8888888888888888,\"#fdca26\"],[1.0,\"#f0f921\"]]},\"colorway\":[\"#636efa\",\"#EF553B\",\"#00cc96\",\"#ab63fa\",\"#FFA15A\",\"#19d3f3\",\"#FF6692\",\"#B6E880\",\"#FF97FF\",\"#FECB52\"],\"font\":{\"color\":\"#2a3f5f\"},\"geo\":{\"bgcolor\":\"white\",\"lakecolor\":\"white\",\"landcolor\":\"#E5ECF6\",\"showlakes\":true,\"showland\":true,\"subunitcolor\":\"white\"},\"hoverlabel\":{\"align\":\"left\"},\"hovermode\":\"closest\",\"mapbox\":{\"style\":\"light\"},\"paper_bgcolor\":\"white\",\"plot_bgcolor\":\"#E5ECF6\",\"polar\":{\"angularaxis\":{\"gridcolor\":\"white\",\"linecolor\":\"white\",\"ticks\":\"\"},\"bgcolor\":\"#E5ECF6\",\"radialaxis\":{\"gridcolor\":\"white\",\"linecolor\":\"white\",\"ticks\":\"\"}},\"scene\":{\"xaxis\":{\"backgroundcolor\":\"#E5ECF6\",\"gridcolor\":\"white\",\"gridwidth\":2,\"linecolor\":\"white\",\"showbackground\":true,\"ticks\":\"\",\"zerolinecolor\":\"white\"},\"yaxis\":{\"backgroundcolor\":\"#E5ECF6\",\"gridcolor\":\"white\",\"gridwidth\":2,\"linecolor\":\"white\",\"showbackground\":true,\"ticks\":\"\",\"zerolinecolor\":\"white\"},\"zaxis\":{\"backgroundcolor\":\"#E5ECF6\",\"gridcolor\":\"white\",\"gridwidth\":2,\"linecolor\":\"white\",\"showbackground\":true,\"ticks\":\"\",\"zerolinecolor\":\"white\"}},\"shapedefaults\":{\"line\":{\"color\":\"#2a3f5f\"}},\"ternary\":{\"aaxis\":{\"gridcolor\":\"white\",\"linecolor\":\"white\",\"ticks\":\"\"},\"baxis\":{\"gridcolor\":\"white\",\"linecolor\":\"white\",\"ticks\":\"\"},\"bgcolor\":\"#E5ECF6\",\"caxis\":{\"gridcolor\":\"white\",\"linecolor\":\"white\",\"ticks\":\"\"}},\"title\":{\"x\":0.05},\"xaxis\":{\"automargin\":true,\"gridcolor\":\"white\",\"linecolor\":\"white\",\"ticks\":\"\",\"title\":{\"standoff\":15},\"zerolinecolor\":\"white\",\"zerolinewidth\":2},\"yaxis\":{\"automargin\":true,\"gridcolor\":\"white\",\"linecolor\":\"white\",\"ticks\":\"\",\"title\":{\"standoff\":15},\"zerolinecolor\":\"white\",\"zerolinewidth\":2}}}},                        {\"responsive\": true}                    ).then(function(){\n",
              "                            \n",
              "var gd = document.getElementById('34076116-ca2e-4971-921a-8ddd1d107265');\n",
              "var x = new MutationObserver(function (mutations, observer) {{\n",
              "        var display = window.getComputedStyle(gd).display;\n",
              "        if (!display || display === 'none') {{\n",
              "            console.log([gd, 'removed!']);\n",
              "            Plotly.purge(gd);\n",
              "            observer.disconnect();\n",
              "        }}\n",
              "}});\n",
              "\n",
              "// Listen for the removal of the full notebook cells\n",
              "var notebookContainer = gd.closest('#notebook-container');\n",
              "if (notebookContainer) {{\n",
              "    x.observe(notebookContainer, {childList: true});\n",
              "}}\n",
              "\n",
              "// Listen for the clearing of the current output cell\n",
              "var outputEl = gd.closest('.output');\n",
              "if (outputEl) {{\n",
              "    x.observe(outputEl, {childList: true});\n",
              "}}\n",
              "\n",
              "                        })                };                            </script>        </div>\n",
              "</body>\n",
              "</html>"
            ]
          },
          "metadata": {}
        }
      ]
    }
  ]
}